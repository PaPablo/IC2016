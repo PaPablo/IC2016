{
 "cells": [
  {
   "cell_type": "code",
   "execution_count": 6,
   "metadata": {
    "collapsed": false
   },
   "outputs": [
    {
     "name": "stdout",
     "output_type": "stream",
     "text": [
      "Overwriting trabjo_struct.c\n"
     ]
    }
   ],
   "source": [
    "%%writefile trabjo_struct.c\n",
    "#include <stdio.h>\n",
    "#include <pthread.h>\n",
    "\n",
    "typedef struct {\n",
    "\tint x;\n",
    "\tint y;\n",
    "    pthread_mutex_t mutex;\n",
    "    pthread_cond_t vacio, lleno;\n",
    "    int arreglos[10];\n",
    "} ejemplo_t;\n",
    "\n",
    "void recibe_ejemplo_t(ejemplo_t *ej) {\n",
    "\tprintf(\"%d %d\\n\", ej.x, ej->y);\n",
    "    pthread_mutex_lock(&ej->mutex);\n",
    "}\n",
    "int main (int argc, char const *argv[])\n",
    "{\n",
    "\tejemplo_t e = {1, 2, PTHREAD_MUTEX_INITIALIZER,\n",
    "                  PTHREAD_COND_INITIALIZER,\n",
    "                  PTHREAD_COND_INITIALIZER\n",
    "                  };\n",
    "\t/* code */\n",
    "\trecibe_ejemplo_t(&e);\n",
    "\treturn 0;\n",
    "}"
   ]
  },
  {
   "cell_type": "code",
   "execution_count": 7,
   "metadata": {
    "collapsed": false
   },
   "outputs": [
    {
     "name": "stdout",
     "output_type": "stream",
     "text": [
      "\u001b[01m\u001b[Ktrabjo_struct.c:\u001b[m\u001b[K In function ‘\u001b[01m\u001b[Krecibe_ejemplo_t\u001b[m\u001b[K’:\r\n",
      "\u001b[01m\u001b[Ktrabjo_struct.c:13:22:\u001b[m\u001b[K \u001b[01;31m\u001b[Kerror: \u001b[m\u001b[Krequest for member ‘\u001b[01m\u001b[Kx\u001b[m\u001b[K’ in something not a structure or union\r\n",
      "  printf(\"%d %d\\n\", ej.x, ej->y);\r\n",
      "\u001b[01;32m\u001b[K                      ^\u001b[m\u001b[K\r\n"
     ]
    }
   ],
   "source": [
    "!gcc -pthread trabjo_struct.c -o trabjo_struct"
   ]
  },
  {
   "cell_type": "code",
   "execution_count": 5,
   "metadata": {
    "collapsed": false
   },
   "outputs": [
    {
     "name": "stdout",
     "output_type": "stream",
     "text": [
      "1 2\r\n"
     ]
    }
   ],
   "source": [
    "!./trabjo_struct"
   ]
  },
  {
   "cell_type": "code",
   "execution_count": 23,
   "metadata": {
    "collapsed": false
   },
   "outputs": [
    {
     "name": "stdout",
     "output_type": "stream",
     "text": [
      "/home/usuario/IC\r\n"
     ]
    }
   ],
   "source": [
    "!pwd\n"
   ]
  },
  {
   "cell_type": "code",
   "execution_count": null,
   "metadata": {
    "collapsed": true
   },
   "outputs": [],
   "source": []
  }
 ],
 "metadata": {
  "kernelspec": {
   "display_name": "Python 2",
   "language": "python",
   "name": "python2"
  },
  "language_info": {
   "codemirror_mode": {
    "name": "ipython",
    "version": 2
   },
   "file_extension": ".py",
   "mimetype": "text/x-python",
   "name": "python",
   "nbconvert_exporter": "python",
   "pygments_lexer": "ipython2",
   "version": "2.7.12"
  }
 },
 "nbformat": 4,
 "nbformat_minor": 1
}
