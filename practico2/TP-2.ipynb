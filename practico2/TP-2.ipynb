{
 "cells": [
  {
   "cell_type": "code",
   "execution_count": 2,
   "metadata": {
    "collapsed": false
   },
   "outputs": [
    {
     "name": "stdout",
     "output_type": "stream",
     "text": [
      "Writing README.md\n"
     ]
    }
   ],
   "source": [
    "%%writefile README.md\n",
    "\n",
    "ALLENDE, Lucila Abigail\n",
    "SERRUYA ALOISI, Luciano Sebastián\n",
    "TOLEDO MARGALEF, Pablo Adrián"
   ]
  },
  {
   "cell_type": "code",
   "execution_count": 18,
   "metadata": {
    "collapsed": false
   },
   "outputs": [
    {
     "name": "stdout",
     "output_type": "stream",
     "text": [
      "Overwriting ej1.c\n"
     ]
    }
   ],
   "source": [
    "%%writefile ej1.c\n",
    "#include<stdio.h>\n",
    "#include<stdlib.h>\n",
    "#include<unistd.h>\n",
    "#include<pthread.h>\n",
    "\n",
    "#define MAX 3\n",
    "\n",
    "pthread_t hilos[MAX];\n",
    "pthread_mutex_t mutex = PTHREAD_MUTEX_INITIALIZER;\n",
    "\n",
    "int contadorSegundoHilo = 0;\n",
    "\n",
    "\n",
    "void *tercerHilo(void *arg){\n",
    "    int i;\n",
    "    pthread_mutex_lock(&mutex);\n",
    "    for(i = 0; i < 10 ; i++){\n",
    "        usleep(500000);\n",
    "        printf(\"%d %d\\n\", contadorSegundoHilo, i);\n",
    "    }\n",
    "    pthread_mutex_unlock(&mutex);\n",
    "}\n",
    "\n",
    "void *segundoHilo(void *contador){\n",
    "\n",
    "    pthread_create(&hilos[2], NULL, &tercerHilo, NULL);\n",
    "    \n",
    "    while(contadorSegundoHilo<10){\n",
    "        pthread_mutex_lock(&mutex);\n",
    "        contadorSegundoHilo++;\n",
    "        pthread_mutex_unlock(&mutex);\n",
    "    }\n",
    "}\n",
    "\n",
    "void *primerHilo(void *arg){\n",
    "    int contadorSegundoHilo = 0;\n",
    "    int retval = pthread_create(&hilos[1], NULL, &segundoHilo,NULL);\n",
    "    if(retval != 0)\n",
    "        exit(1);\n",
    "    \n",
    "    while(contadorSegundoHilo < 10);\n",
    "    \n",
    "    pthread_exit((void *)0);\n",
    "}\n",
    "\n",
    "\n",
    "\n",
    "\n",
    "\n",
    "int main(void){\n",
    "    \n",
    "    //primer hilo\n",
    "    int retval = pthread_create(&hilos[0], NULL, &primerHilo,NULL);\n",
    "    if(retval != 0)\n",
    "        exit(1);\n",
    "    \n",
    "    pthread_join(hilos[0],NULL);\n",
    "    \n",
    "    \n",
    "    return 0;\n",
    "}\n"
   ]
  },
  {
   "cell_type": "code",
   "execution_count": 19,
   "metadata": {
    "collapsed": false
   },
   "outputs": [],
   "source": [
    "!gcc -pthread ej1.c -o ej1\n"
   ]
  },
  {
   "cell_type": "code",
   "execution_count": null,
   "metadata": {
    "collapsed": false
   },
   "outputs": [
    {
     "name": "stdout",
     "output_type": "stream",
     "text": [
      "10 0\n",
      "10 1\n",
      "10 2\n",
      "10 3\n",
      "10 4\n",
      "10 5\n",
      "10 6\n",
      "10 7\n",
      "10 8\n",
      "10 9\n"
     ]
    }
   ],
   "source": [
    "!./ej1"
   ]
  },
  {
   "cell_type": "code",
   "execution_count": null,
   "metadata": {
    "collapsed": true
   },
   "outputs": [],
   "source": []
  }
 ],
 "metadata": {
  "kernelspec": {
   "display_name": "Python 2",
   "language": "python",
   "name": "python2"
  },
  "language_info": {
   "codemirror_mode": {
    "name": "ipython",
    "version": 2
   },
   "file_extension": ".py",
   "mimetype": "text/x-python",
   "name": "python",
   "nbconvert_exporter": "python",
   "pygments_lexer": "ipython2",
   "version": "2.7.12"
  }
 },
 "nbformat": 4,
 "nbformat_minor": 1
}
