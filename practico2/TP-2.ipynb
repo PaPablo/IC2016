{
 "cells": [
  {
   "cell_type": "markdown",
   "metadata": {},
   "source": [
    "# Trabajo Práctico N°2"
   ]
  },
  {
   "cell_type": "code",
   "execution_count": 2,
   "metadata": {
    "collapsed": false
   },
   "outputs": [
    {
     "name": "stdout",
     "output_type": "stream",
     "text": [
      "Writing README.md\n"
     ]
    }
   ],
   "source": [
    "%%writefile README.md\n",
    "\n",
    "ALLENDE, Lucila Abigail\n",
    "SERRUYA ALOISI, Luciano Sebastián\n",
    "TOLEDO MARGALEF, Pablo Adrián"
   ]
  },
  {
   "cell_type": "code",
   "execution_count": 144,
   "metadata": {
    "collapsed": false
   },
   "outputs": [
    {
     "name": "stdout",
     "output_type": "stream",
     "text": [
      "Overwriting ej1.c\n"
     ]
    }
   ],
   "source": [
    "%%writefile ej1.c\n",
    "#include<stdio.h>\n",
    "#include<stdlib.h>\n",
    "#include<unistd.h>\n",
    "#include<pthread.h>\n",
    "\n",
    "#define MAX 3\n",
    "#define ESPERA 500\n",
    "\n",
    "pthread_t hilos[MAX];\n",
    "pthread_mutex_t mutex = PTHREAD_MUTEX_INITIALIZER;\n",
    "pthread_cond_t cond= PTHREAD_COND_INITIALIZER;\n",
    "\n",
    "int contadorSegundoHilo = 0;\n",
    "\n",
    "\n",
    "int esperaAleatoria(){\n",
    "    return (((rand()%4)+1) * 100) * 1000;\n",
    "}\n",
    "\n",
    "void *tercerHilo(void *arg){\n",
    "    \n",
    "    \n",
    "    int i;\n",
    "\n",
    "    for(i = 1; i <= 100; i++){\n",
    "        \n",
    "        if (!(i%10)){\n",
    "            /*\n",
    "                Si el contador de este hilo llego a diez\n",
    "                despierta al segundo hilo \n",
    "            */\n",
    "            pthread_cond_signal(&cond);\n",
    "        }\n",
    "        \n",
    "        printf(\" %d %d\\n\", contadorSegundoHilo, i%10);\n",
    "        usleep(esperaAleatoria());\n",
    "    }\n",
    "    \n",
    "   pthread_exit((void *)0);\n",
    "}\n",
    "\n",
    "void *segundoHilo(void *contador){\n",
    "\n",
    "    pthread_create(&hilos[2], NULL, &tercerHilo, NULL);\n",
    "    while(contadorSegundoHilo<10){\n",
    "        \n",
    "        pthread_mutex_lock(&mutex);\n",
    "\n",
    "        //esperamos contador interno del tercer hilo\n",
    "        pthread_cond_wait(&cond,&mutex);\n",
    "        //incrementamos\n",
    "        contadorSegundoHilo++;\n",
    "\n",
    "        pthread_mutex_unlock(&mutex);\n",
    "        \n",
    "    }\n",
    "    \n",
    "    pthread_exit((void *)0);\n",
    "    \n",
    "}\n",
    "\n",
    "void *primerHilo(void *arg){\n",
    "    int retval = pthread_create(&hilos[1], NULL, &segundoHilo,NULL);\n",
    "    if(retval != 0)\n",
    "        exit(1);\n",
    "    \n",
    "    //nos quedamos esperando al segundo hilo\n",
    "    while(contadorSegundoHilo < 10);\n",
    "    \n",
    "    pthread_exit((void *)0);\n",
    "}\n",
    "\n",
    "\n",
    "\n",
    "\n",
    "\n",
    "int main(void){\n",
    "    \n",
    "    //generacion de random seed\n",
    "    srand(getpid());\n",
    "    \n",
    "    //primer hilo\n",
    "    int retval = pthread_create(&hilos[0], NULL, &primerHilo,NULL);\n",
    "    if(retval != 0)\n",
    "        exit(1);\n",
    "    \n",
    "    //joineamos al primer hilo\n",
    "    pthread_join(hilos[0],NULL);\n",
    "    \n",
    "    return 0;\n",
    "}\n"
   ]
  },
  {
   "cell_type": "code",
   "execution_count": 145,
   "metadata": {
    "collapsed": false
   },
   "outputs": [],
   "source": [
    "!gcc -pthread ej1.c -o ej1\n"
   ]
  },
  {
   "cell_type": "code",
   "execution_count": 146,
   "metadata": {
    "collapsed": false
   },
   "outputs": [
    {
     "name": "stdout",
     "output_type": "stream",
     "text": [
      " 0 1\n",
      " 0 2\n",
      " 0 3\n",
      " 0 4\n",
      " 0 5\n",
      " 0 6\n",
      " 0 7\n",
      " 0 8\n",
      " 0 9\n",
      " 0 0\n",
      " 1 1\n",
      " 1 2\n",
      " 1 3\n",
      " 1 4\n",
      " 1 5\n",
      " 1 6\n",
      " 1 7\n",
      " 1 8\n",
      " 1 9\n",
      " 1 0\n",
      " 2 1\n",
      "^C\n"
     ]
    }
   ],
   "source": [
    "!./ej1"
   ]
  },
  {
   "cell_type": "code",
   "execution_count": 1,
   "metadata": {
    "collapsed": false
   },
   "outputs": [
    {
     "name": "stdout",
     "output_type": "stream",
     "text": [
      "Overwriting ej2-mutex.c\n"
     ]
    }
   ],
   "source": [
    "%%writefile ej2-mutex.c\n",
    "#include<stdio.h>\n",
    "#include<stdlib.h>\n",
    "#include<unistd.h>\n",
    "#include<pthread.h>\n",
    "\n",
    "#define MAX 10\n",
    "#define ESPERA 500\n",
    "\n",
    "pthread_t hilos[MAX];\n",
    "pthread_mutex_t mutex = PTHREAD_MUTEX_INITIALIZER;\n",
    "pthread_cond_t cond= PTHREAD_COND_INITIALIZER;\n",
    "\n",
    "\n",
    "void *meReBloqueo(void *arg){\n",
    "    int i = (int)arg;\n",
    "    printf(\"trato bloquear, hilo %d\\n\",i);\n",
    "    pthread_mutex_lock(&mutex);\n",
    "    //al desbloquearse el mutex en el main, este hilo se despierta\n",
    "    printf(\"Me desperté, hilo %d\\n\", i);\n",
    "    pthread_mutex_unlock(&mutex);\n",
    "    \n",
    "}\n",
    "\n",
    "\n",
    "int main(void){\n",
    "    pthread_mutex_lock(&mutex);\n",
    "    \n",
    "    int i; \n",
    "    for(i = 0; i < MAX; i++){\n",
    "        //creamos hilos\n",
    "        int retval = pthread_create(&hilos[i], NULL, &meReBloqueo,(void *)i);\n",
    "        if(retval != 0)\n",
    "            exit(1);     \n",
    "    }\n",
    "    \n",
    "    //\"despertamos\" todos los hilos\n",
    "    pthread_mutex_unlock(&mutex);\n",
    "    \n",
    "    for(i = 0; i < MAX; i++){\n",
    "        //joineamos todos los hilos\n",
    "        pthread_join(hilos[i],NULL);    \n",
    "    }\n",
    "    return 0;\n",
    "}\n"
   ]
  },
  {
   "cell_type": "code",
   "execution_count": 4,
   "metadata": {
    "collapsed": true
   },
   "outputs": [],
   "source": [
    "!gcc -pthread ej2-mutex.c -o ej2-mutex"
   ]
  },
  {
   "cell_type": "code",
   "execution_count": 5,
   "metadata": {
    "collapsed": false
   },
   "outputs": [
    {
     "name": "stdout",
     "output_type": "stream",
     "text": [
      "trato bloquear, hilo 2\r\n",
      "trato bloquear, hilo 1\r\n",
      "trato bloquear, hilo 0\r\n",
      "trato bloquear, hilo 3\r\n",
      "trato bloquear, hilo 4\r\n",
      "trato bloquear, hilo 5\r\n",
      "trato bloquear, hilo 6\r\n",
      "trato bloquear, hilo 7\r\n",
      "trato bloquear, hilo 8\r\n",
      "trato bloquear, hilo 9\r\n",
      "Me desperté, hilo 2\r\n",
      "Me desperté, hilo 1\r\n",
      "Me desperté, hilo 0\r\n",
      "Me desperté, hilo 3\r\n",
      "Me desperté, hilo 4\r\n",
      "Me desperté, hilo 5\r\n",
      "Me desperté, hilo 6\r\n",
      "Me desperté, hilo 7\r\n",
      "Me desperté, hilo 8\r\n",
      "Me desperté, hilo 9\r\n"
     ]
    }
   ],
   "source": [
    "!./ej2-mutex"
   ]
  },
  {
   "cell_type": "code",
   "execution_count": 100,
   "metadata": {
    "collapsed": false
   },
   "outputs": [
    {
     "name": "stdout",
     "output_type": "stream",
     "text": [
      "Overwriting ej2-condicion.c\n"
     ]
    }
   ],
   "source": [
    "%%writefile ej2-condicion.c\n",
    "#include<stdio.h>\n",
    "#include<stdlib.h>\n",
    "#include<unistd.h>\n",
    "#include<pthread.h>\n",
    "\n",
    "#define MAX 10\n",
    "#define ESPERA 500\n",
    "\n",
    "pthread_t hilos[MAX];\n",
    "pthread_mutex_t mutex = PTHREAD_MUTEX_INITIALIZER;\n",
    "pthread_cond_t cond= PTHREAD_COND_INITIALIZER;\n",
    "\n",
    "\n",
    "void *esperoCondicion(void *arg){\n",
    "    int i = (int)arg;\n",
    "    pthread_mutex_lock(&mutex);\n",
    "    \n",
    "    //espera la condicion\n",
    "    pthread_cond_wait(&cond,&mutex);\n",
    "    \n",
    "    \n",
    "    printf(\"Me desperté, hilo %d\\n\", i);\n",
    "    \n",
    "    pthread_mutex_unlock(&mutex);\n",
    "    pthread_exit((void *)0);\n",
    "}\n",
    "\n",
    "\n",
    "int main(void){\n",
    "    \n",
    "    int i; \n",
    "    for(i = 0; i < MAX; i++){\n",
    "        //creamos hilos\n",
    "        int retval = pthread_create(&hilos[i], NULL, &esperoCondicion,(void *)i);\n",
    "        if(retval != 0)\n",
    "            exit(1);     \n",
    "    }\n",
    "    \n",
    "    sleep(1);\n",
    "    \n",
    "    \n",
    "    pthread_cond_broadcast(&cond);\n",
    "    \n",
    "    for(i = 0; i < MAX; i++){\n",
    "        //joineamos todos los hilos\n",
    "        pthread_join(hilos[i],NULL);    \n",
    "    }\n",
    "    return 0;\n",
    "}"
   ]
  },
  {
   "cell_type": "code",
   "execution_count": 98,
   "metadata": {
    "collapsed": false
   },
   "outputs": [],
   "source": [
    "!gcc -pthread ej2-condicion.c -o ej2-condicion"
   ]
  },
  {
   "cell_type": "code",
   "execution_count": 99,
   "metadata": {
    "collapsed": false
   },
   "outputs": [
    {
     "name": "stdout",
     "output_type": "stream",
     "text": [
      "Me desperté, hilo 0\r\n",
      "Me desperté, hilo 1\r\n",
      "Me desperté, hilo 2\r\n",
      "Me desperté, hilo 3\r\n",
      "Me desperté, hilo 9\r\n",
      "Me desperté, hilo 8\r\n",
      "Me desperté, hilo 7\r\n",
      "Me desperté, hilo 6\r\n",
      "Me desperté, hilo 5\r\n",
      "Me desperté, hilo 4\r\n"
     ]
    }
   ],
   "source": [
    "!./ej2-condicion"
   ]
  },
  {
   "cell_type": "code",
   "execution_count": 98,
   "metadata": {
    "collapsed": false
   },
   "outputs": [
    {
     "name": "stdout",
     "output_type": "stream",
     "text": [
      "Overwriting ej3.c\n"
     ]
    }
   ],
   "source": [
    "%%writefile ej3.c\n",
    "#include<stdio.h>\n",
    "#include<pthread.h>\n",
    "#include<unistd.h>\n",
    "#include<stdlib.h>\n",
    "\n",
    "#define MAX_PILA  1000\n",
    "#define MAX_HILOS 10\n",
    "#define ESPERA    50000\n",
    "\n",
    "pthread_t hilosPush[MAX_HILOS];\n",
    "pthread_t hilosPop[MAX_HILOS];\n",
    "\n",
    "typedef struct {\n",
    "    int tope;\n",
    "    pthread_cond_t llena, vacia;\n",
    "    pthread_mutex_t mutex;\n",
    "    int contenido[MAX_PILA];\n",
    "} pila_t;\n",
    "\n",
    "pila_t pila  = {-1, PTHREAD_COND_INITIALIZER, PTHREAD_COND_INITIALIZER, PTHREAD_MUTEX_INITIALIZER};\n",
    "    \n",
    "int numeroAleatorio(){\n",
    "    return rand() % 10;\n",
    "}\n",
    "void *push (void *arg){\n",
    "    while(1){\n",
    "        pthread_mutex_lock(&pila.mutex);\n",
    "        if(pila.tope == (MAX_PILA-1)){\n",
    "            pthread_cond_wait(&pila.llena,&pila.mutex);\n",
    "            printf(\"PILA_LLENA: Espero condicion\\n\");\n",
    "        }\n",
    "        //el tope apunta al elemento visible de la pila\n",
    "        pila.contenido[++pila.tope] = numeroAleatorio();\n",
    "        \n",
    "        pthread_cond_broadcast(&pila.vacia);\n",
    "        \n",
    "        pthread_mutex_unlock(&pila.mutex);\n",
    "        \n",
    "    }\n",
    "    pthread_exit((void *)0);\n",
    "}\n",
    "\n",
    "void *pop (void *arg){\n",
    "    while(1){\n",
    "        pthread_mutex_lock(&pila.mutex);\n",
    "        if(pila.tope == -1){\n",
    "            pthread_cond_wait(&pila.vacia,&pila.mutex);\n",
    "            printf(\"PILA_VACIA: Espero condicion\\n\");\n",
    "        }\n",
    "        //el tope apunta al elemento visible de la pila\n",
    "        printf(\"%d\\n\", pila.contenido[pila.tope]);\n",
    "        usleep(ESPERA);\n",
    "        pila.tope--;\n",
    "        \n",
    "        pthread_cond_broadcast(&pila.llena);\n",
    "        \n",
    "        pthread_mutex_unlock(&pila.mutex);\n",
    "        \n",
    "    }\n",
    "    //pop desde la pila\n",
    "    //si se vacia, espera condicion\n",
    "    \n",
    "    pthread_exit((void *)0);\n",
    "}\n",
    "int main(void){\n",
    "    \n",
    "    int i;\n",
    "    int retval;\n",
    "    srand(getpid());\n",
    "    \n",
    "    \n",
    "    //hilos pusheadores\n",
    "    for(i = 0; i < MAX_HILOS ; i++){\n",
    "        retval = pthread_create(&hilosPush[i],NULL,&push, NULL);\n",
    "        if(retval != 0)\n",
    "            exit(1);\n",
    "    }\n",
    "    \n",
    "    sleep(1);\n",
    "    \n",
    "    //hilos popeadores\n",
    "    for(i = 0; i < MAX_HILOS ; i++){\n",
    "        retval = pthread_create(&hilosPop[i],NULL,&pop, NULL);\n",
    "        if(retval != 0)\n",
    "            exit(1);\n",
    "    }\n",
    "    \n",
    "    \n",
    "    //esperamos al primer hilo creado\n",
    "    pthread_join(hilosPush[0], NULL);\n",
    "    return 0;\n",
    "}"
   ]
  },
  {
   "cell_type": "code",
   "execution_count": 99,
   "metadata": {
    "collapsed": false
   },
   "outputs": [],
   "source": [
    "!gcc -pthread ej3.c -o ej3"
   ]
  },
  {
   "cell_type": "code",
   "execution_count": 66,
   "metadata": {
    "collapsed": false
   },
   "outputs": [
    {
     "name": "stdout",
     "output_type": "stream",
     "text": [
      "Hilos pusheadores creados\n",
      "2\n",
      "Hilos popeadores creados\n",
      "7\n",
      "1\n",
      "0\n",
      "9\n",
      "3\n",
      "2\n",
      "6\n",
      "9\n",
      "0\n",
      "8\n",
      "6\n",
      "8\n",
      "7\n",
      "1\n",
      "8\n",
      "5\n",
      "0\n",
      "8\n",
      "4\n",
      "0\n",
      "7\n",
      "2\n",
      "1\n",
      "3\n",
      "2\n",
      "1\n",
      "5\n",
      "6\n",
      "9\n",
      "7\n",
      "0\n",
      "8\n",
      "6\n",
      "8\n",
      "1\n",
      "2\n",
      "0\n",
      "7\n",
      "1\n",
      "2\n",
      "1\n",
      "5\n",
      "7\n",
      "2\n",
      "1\n",
      "0\n",
      "8\n",
      "8\n",
      "1\n",
      "0\n",
      "7\n",
      "4\n",
      "9\n",
      "7\n",
      "5\n",
      "4\n",
      "2\n",
      "8\n",
      "6\n",
      "9\n",
      "9\n",
      "^C\n"
     ]
    }
   ],
   "source": [
    "!./ej3"
   ]
  },
  {
   "cell_type": "code",
   "execution_count": null,
   "metadata": {
    "collapsed": true
   },
   "outputs": [],
   "source": []
  }
 ],
 "metadata": {
  "kernelspec": {
   "display_name": "Python 2",
   "language": "python",
   "name": "python2"
  },
  "language_info": {
   "codemirror_mode": {
    "name": "ipython",
    "version": 2
   },
   "file_extension": ".py",
   "mimetype": "text/x-python",
   "name": "python",
   "nbconvert_exporter": "python",
   "pygments_lexer": "ipython2",
   "version": "2.7.12"
  }
 },
 "nbformat": 4,
 "nbformat_minor": 1
}
