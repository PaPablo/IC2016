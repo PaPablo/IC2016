{
 "cells": [
  {
   "cell_type": "markdown",
   "metadata": {},
   "source": [
    "# Trabajo Práctico N°1"
   ]
  },
  {
   "cell_type": "code",
   "execution_count": 1,
   "metadata": {
    "collapsed": true
   },
   "outputs": [],
   "source": [
    "!mkdir TP-1"
   ]
  },
  {
   "cell_type": "code",
   "execution_count": 14,
   "metadata": {
    "collapsed": false
   },
   "outputs": [
    {
     "name": "stdout",
     "output_type": "stream",
     "text": [
      "/home/pablo/gitHub/IC2016/Practica1/TP-1\n"
     ]
    }
   ],
   "source": [
    "%cd TP-1/"
   ]
  },
  {
   "cell_type": "code",
   "execution_count": 2,
   "metadata": {
    "collapsed": false
   },
   "outputs": [
    {
     "name": "stdout",
     "output_type": "stream",
     "text": [
      "Overwriting README.md\n"
     ]
    }
   ],
   "source": [
    "%%writefile README.md\n",
    "ALLENDE, Lucila Abigail\n",
    "SERRUYA ALOISI, Luciano Sebastián\n",
    "TOLEDO MARGALEF, Pablo Adrián"
   ]
  },
  {
   "cell_type": "code",
   "execution_count": 3,
   "metadata": {
    "collapsed": false
   },
   "outputs": [
    {
     "name": "stdout",
     "output_type": "stream",
     "text": [
      "Overwriting ej2.c\n"
     ]
    }
   ],
   "source": [
    "%%writefile ej2.c\n",
    "\n",
    "#include<stdio.h>\n",
    "#include<stdlib.h>\n",
    "#include<unistd.h>\n",
    "\n",
    "#define MAX_ARREGLO 20\n",
    "\n",
    "void inicializarArreglo(int *arrg, int tope){\n",
    "    /*Armamos random seed*/\n",
    "    srand(getpid());\n",
    "    \n",
    "    int i; \n",
    "    \n",
    "    for(i = 0; i < tope; i++){\n",
    "        arrg[i] = rand();\n",
    "    }\n",
    "}\n",
    "int main(void){\n",
    "    \n",
    "    /*Declarar arreglo*/\n",
    "    int arreglo[MAX_ARREGLO];\n",
    "    \n",
    "    \n",
    "    inicializarArreglo(arreglo, MAX_ARREGLO);\n",
    "    \n",
    "    int i;\n",
    "    \n",
    "    /* Recorremos el arreglo y mostramos valores*/\n",
    "    for(i = 0; i < MAX_ARREGLO; i++){\n",
    "        printf(\"El valor del arreglo en la posicion %d es: %d\\n\", i, arreglo[i]);\n",
    "    }\n",
    "    \n",
    "    return 0;\n",
    "}"
   ]
  },
  {
   "cell_type": "code",
   "execution_count": 4,
   "metadata": {
    "collapsed": false
   },
   "outputs": [],
   "source": [
    "!gcc ej2.c -o ej2"
   ]
  },
  {
   "cell_type": "code",
   "execution_count": 5,
   "metadata": {
    "collapsed": false
   },
   "outputs": [
    {
     "name": "stdout",
     "output_type": "stream",
     "text": [
      "El valor del arreglo en la posicion 0 es: 608457142\r\n",
      "El valor del arreglo en la posicion 1 es: 1368295730\r\n",
      "El valor del arreglo en la posicion 2 es: 1432311725\r\n",
      "El valor del arreglo en la posicion 3 es: 2031178862\r\n",
      "El valor del arreglo en la posicion 4 es: 1658223477\r\n",
      "El valor del arreglo en la posicion 5 es: 618251727\r\n",
      "El valor del arreglo en la posicion 6 es: 288868922\r\n",
      "El valor del arreglo en la posicion 7 es: 689709588\r\n",
      "El valor del arreglo en la posicion 8 es: 792122115\r\n",
      "El valor del arreglo en la posicion 9 es: 149519293\r\n",
      "El valor del arreglo en la posicion 10 es: 860421345\r\n",
      "El valor del arreglo en la posicion 11 es: 1232324029\r\n",
      "El valor del arreglo en la posicion 12 es: 606019748\r\n",
      "El valor del arreglo en la posicion 13 es: 1802858376\r\n",
      "El valor del arreglo en la posicion 14 es: 1127782623\r\n",
      "El valor del arreglo en la posicion 15 es: 1259468810\r\n",
      "El valor del arreglo en la posicion 16 es: 282610918\r\n",
      "El valor del arreglo en la posicion 17 es: 2072663766\r\n",
      "El valor del arreglo en la posicion 18 es: 91571911\r\n",
      "El valor del arreglo en la posicion 19 es: 2039304813\r\n"
     ]
    }
   ],
   "source": [
    "!./ej2"
   ]
  },
  {
   "cell_type": "code",
   "execution_count": 18,
   "metadata": {
    "collapsed": false
   },
   "outputs": [
    {
     "name": "stdout",
     "output_type": "stream",
     "text": [
      "Overwriting ej2.c\n"
     ]
    }
   ],
   "source": [
    "%%writefile ej2.c\n",
    "\n",
    "#include<stdio.h>\n",
    "#include<stdlib.h>\n",
    "#include<unistd.h>\n",
    "#include<pthread.h>\n",
    "\n",
    "#define MAX_ARREGLO 20\n",
    "#define MAX_HILOS 2\n",
    "\n",
    "/*Declaramos arreglo de enteros*/\n",
    "int arreglo[MAX_ARREGLO];\n",
    "    \n",
    "void *recorrerArreglo(void *arg){ \n",
    "    int i;\n",
    "    int valor;\n",
    "    \n",
    "    /* Recorremos el arreglo y mostramos valores*/\n",
    "    for(i = 0; i < MAX_ARREGLO; i++){\n",
    "        printf(\"El valor del arreglo en la posicion %d es: %d\\n\", i, arreglo[i]);\n",
    "        usleep(100000);\n",
    "        \n",
    "    }\n",
    "    \n",
    "    pthread_exit((void *)0);\n",
    "}\n",
    "\n",
    "void inicializarArreglo(int *arrg, int tope){\n",
    "    /*Armamos random seed*/\n",
    "    srand(getpid());\n",
    "    \n",
    "    int i; \n",
    "    \n",
    "    for(i = 0; i < tope; i++){\n",
    "        arrg[i] = rand();\n",
    "    }\n",
    "}\n",
    "int main(void){\n",
    "    \n",
    "    int retval = 0;\n",
    "    \n",
    "    /*Declaramos arreglo de hilos*/\n",
    "    pthread_t hilos[MAX_HILOS];\n",
    "    \n",
    "    inicializarArreglo(arreglo, MAX_ARREGLO);\n",
    "    \n",
    "    int i;\n",
    "    for(i = 0; i < MAX_HILOS; i++){\n",
    "        /*Creamos hilo*/\n",
    "        printf(\"Hilo %d\\n\",i);\n",
    "        retval = pthread_create(&hilos[i],NULL, &recorrerArreglo, NULL);\n",
    "        if(retval != 0){\n",
    "            exit(1);\n",
    "        }\n",
    "        pthread_join(hilos[i], NULL);\n",
    "    }\n",
    "       \n",
    "    return 0;\n",
    "}"
   ]
  },
  {
   "cell_type": "code",
   "execution_count": 19,
   "metadata": {
    "collapsed": false,
    "scrolled": true
   },
   "outputs": [],
   "source": [
    "!gcc ej2.c -pthread -o ej2"
   ]
  },
  {
   "cell_type": "code",
   "execution_count": 8,
   "metadata": {
    "collapsed": false
   },
   "outputs": [
    {
     "name": "stdout",
     "output_type": "stream",
     "text": [
      "Hilo 0\n",
      "El valor del arreglo en la posicion 0 es: 316482729\n",
      "El valor del arreglo en la posicion 1 es: 2016029482\n",
      "El valor del arreglo en la posicion 2 es: 182489581\n",
      "El valor del arreglo en la posicion 3 es: 6723549\n",
      "El valor del arreglo en la posicion 4 es: 1590909446\n",
      "El valor del arreglo en la posicion 5 es: 108922467\n",
      "El valor del arreglo en la posicion 6 es: 1113302896\n",
      "El valor del arreglo en la posicion 7 es: 1454009620\n",
      "El valor del arreglo en la posicion 8 es: 662176544\n",
      "El valor del arreglo en la posicion 9 es: 1593321153\n",
      "El valor del arreglo en la posicion 10 es: 2085795852\n",
      "El valor del arreglo en la posicion 11 es: 1854965507\n",
      "El valor del arreglo en la posicion 12 es: 1045180631\n",
      "El valor del arreglo en la posicion 13 es: 531714990\n",
      "El valor del arreglo en la posicion 14 es: 2044001550\n",
      "El valor del arreglo en la posicion 15 es: 550861303\n",
      "El valor del arreglo en la posicion 16 es: 165827803\n",
      "El valor del arreglo en la posicion 17 es: 154534314\n",
      "El valor del arreglo en la posicion 18 es: 1246350258\n",
      "El valor del arreglo en la posicion 19 es: 1580132027\n",
      "Hilo 1\n",
      "El valor del arreglo en la posicion 0 es: 316482729\n",
      "El valor del arreglo en la posicion 1 es: 2016029482\n",
      "El valor del arreglo en la posicion 2 es: 182489581\n",
      "El valor del arreglo en la posicion 3 es: 6723549\n",
      "El valor del arreglo en la posicion 4 es: 1590909446\n",
      "El valor del arreglo en la posicion 5 es: 108922467\n",
      "El valor del arreglo en la posicion 6 es: 1113302896\n",
      "El valor del arreglo en la posicion 7 es: 1454009620\n",
      "El valor del arreglo en la posicion 8 es: 662176544\n",
      "El valor del arreglo en la posicion 9 es: 1593321153\n",
      "El valor del arreglo en la posicion 10 es: 2085795852\n",
      "El valor del arreglo en la posicion 11 es: 1854965507\n",
      "El valor del arreglo en la posicion 12 es: 1045180631\n",
      "El valor del arreglo en la posicion 13 es: 531714990\n",
      "El valor del arreglo en la posicion 14 es: 2044001550\n",
      "El valor del arreglo en la posicion 15 es: 550861303\n",
      "El valor del arreglo en la posicion 16 es: 165827803\n",
      "El valor del arreglo en la posicion 17 es: 154534314\n",
      "El valor del arreglo en la posicion 18 es: 1246350258\n",
      "El valor del arreglo en la posicion 19 es: 1580132027\n"
     ]
    }
   ],
   "source": [
    "!./ej2"
   ]
  },
  {
   "cell_type": "code",
   "execution_count": 9,
   "metadata": {
    "collapsed": false
   },
   "outputs": [
    {
     "name": "stdout",
     "output_type": "stream",
     "text": [
      "57 ej2.c\r\n"
     ]
    }
   ],
   "source": [
    "!wc -l ej2.c"
   ]
  },
  {
   "cell_type": "code",
   "execution_count": 22,
   "metadata": {
    "collapsed": false
   },
   "outputs": [
    {
     "name": "stdout",
     "output_type": "stream",
     "text": [
      "Overwriting ej4.c\n"
     ]
    }
   ],
   "source": [
    "%%writefile ej4.c\n",
    "\n",
    "#include<stdio.h>\n",
    "#include<stdlib.h>\n",
    "#include<unistd.h>\n",
    "#include<pthread.h>\n",
    "\n",
    "#define _GNU_SOURCE\n",
    "\n",
    "#define MAX_CARAC 20\n",
    "#define MAX_HILOS 2\n",
    "\n",
    "/*Variables de caracteres*/\n",
    "char nuevoCarac, viejoCarac = 0;\n",
    "\n",
    "/*Arreglo de hilos*/\n",
    "pthread_t hilos[MAX_HILOS];\n",
    "\n",
    "void *muestraCaracter(void *arg){\n",
    "    //Mostramos caracter aleatorio si es distinto al anterior mostrado\n",
    "    while(1){\n",
    "        if(nuevoCarac != viejoCarac){\n",
    "            \n",
    "        printf(\"%c\\n\",nuevoCarac);\n",
    "        usleep(600000);\n",
    "        viejoCarac = nuevoCarac;        \n",
    "        }\n",
    "    }\n",
    "    pthread_exit((void *)0);\n",
    "}\n",
    "\n",
    "void *generaCaracteres (void *arg){\n",
    "    int retval;\n",
    "    \n",
    "    //semilla aleatoria\n",
    "    srand(getpid());\n",
    "    \n",
    "    //generamos caracter aleatorio\n",
    "    nuevoCarac = caracAleatorio();\n",
    "    \n",
    "    //Creamos hilo consumidor de caracteres\n",
    "    retval = pthread_create(&hilos[1], NULL, &muestraCaracter,NULL);\n",
    "    if(retval != 0)\n",
    "        exit(1);\n",
    "            \n",
    "    //generamos caracteres aleatorios todo el tiempo\n",
    "    while(1){\n",
    "        if(viejoCarac == nuevoCarac){\n",
    "            /*Hacemos que el random quede entre 65 y 112*/\n",
    "            nuevoCarac = ((rand() % 57) + 65);\n",
    "        }\n",
    "    }\n",
    "    \n",
    "    pthread_exit((void *)0);\n",
    "}\n",
    "\n",
    "int main(void){\n",
    "    int retval = pthread_create(&hilos[0], NULL, &generaCaracteres, NULL);\n",
    "    if(retval != 0)\n",
    "        exit(1);\n",
    "    \n",
    "    pthread_join(hilos[0],NULL);\n",
    "    \n",
    "    return 0;\n",
    "    \n",
    "}"
   ]
  },
  {
   "cell_type": "code",
   "execution_count": 23,
   "metadata": {
    "collapsed": false
   },
   "outputs": [],
   "source": [
    "!gcc -pthread ej4.c -o ej4"
   ]
  },
  {
   "cell_type": "code",
   "execution_count": 25,
   "metadata": {
    "collapsed": false
   },
   "outputs": [
    {
     "name": "stdout",
     "output_type": "stream",
     "text": [
      "I\n",
      "F\n",
      "E\n",
      "Z\n",
      "N\n",
      "a\n",
      "K\n",
      "`\n",
      "A\n",
      "O\n",
      "p\n",
      "C\n",
      "Z\n",
      "T\n",
      "i\n",
      "l\n",
      "H\n",
      "y\n",
      "H\n",
      "W\n",
      "m\n",
      "^C\n"
     ]
    }
   ],
   "source": [
    "!./ej4"
   ]
  },
  {
   "cell_type": "code",
   "execution_count": null,
   "metadata": {
    "collapsed": true
   },
   "outputs": [],
   "source": []
  },
  {
   "cell_type": "code",
   "execution_count": null,
   "metadata": {
    "collapsed": true
   },
   "outputs": [],
   "source": []
  },
  {
   "cell_type": "code",
   "execution_count": null,
   "metadata": {
    "collapsed": true
   },
   "outputs": [],
   "source": []
  },
  {
   "cell_type": "code",
   "execution_count": null,
   "metadata": {
    "collapsed": true
   },
   "outputs": [],
   "source": []
  },
  {
   "cell_type": "code",
   "execution_count": null,
   "metadata": {
    "collapsed": true
   },
   "outputs": [],
   "source": []
  },
  {
   "cell_type": "code",
   "execution_count": null,
   "metadata": {
    "collapsed": true
   },
   "outputs": [],
   "source": []
  }
 ],
 "metadata": {
  "kernelspec": {
   "display_name": "Python 2",
   "language": "python",
   "name": "python2"
  },
  "language_info": {
   "codemirror_mode": {
    "name": "ipython",
    "version": 2
   },
   "file_extension": ".py",
   "mimetype": "text/x-python",
   "name": "python",
   "nbconvert_exporter": "python",
   "pygments_lexer": "ipython2",
   "version": "2.7.12"
  }
 },
 "nbformat": 4,
 "nbformat_minor": 1
}
