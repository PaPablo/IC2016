{
 "cells": [
  {
   "cell_type": "markdown",
   "metadata": {},
   "source": [
    "# Trabajo Práctico N°1"
   ]
  },
  {
   "cell_type": "markdown",
   "metadata": {},
   "source": [
    "## Ejercicio 1"
   ]
  },
  {
   "cell_type": "code",
   "execution_count": 1,
   "metadata": {
    "collapsed": true
   },
   "outputs": [],
   "source": [
    "!mkdir TP-1"
   ]
  },
  {
   "cell_type": "code",
   "execution_count": 14,
   "metadata": {
    "collapsed": false
   },
   "outputs": [
    {
     "name": "stdout",
     "output_type": "stream",
     "text": [
      "/home/pablo/gitHub/IC2016/Practica1/TP-1\n"
     ]
    }
   ],
   "source": [
    "%cd TP-1/"
   ]
  },
  {
   "cell_type": "code",
   "execution_count": 2,
   "metadata": {
    "collapsed": false
   },
   "outputs": [
    {
     "name": "stdout",
     "output_type": "stream",
     "text": [
      "Overwriting README.md\n"
     ]
    }
   ],
   "source": [
    "%%writefile README.md\n",
    "ALLENDE, Lucila Abigail\n",
    "SERRUYA ALOISI, Luciano Sebastián\n",
    "TOLEDO MARGALEF, Pablo Adrián"
   ]
  },
  {
   "cell_type": "markdown",
   "metadata": {},
   "source": [
    "## Ejercicio 2"
   ]
  },
  {
   "cell_type": "code",
   "execution_count": 3,
   "metadata": {
    "collapsed": false
   },
   "outputs": [
    {
     "name": "stdout",
     "output_type": "stream",
     "text": [
      "Overwriting ej2.c\n"
     ]
    }
   ],
   "source": [
    "%%writefile ej2.c\n",
    "\n",
    "#include<stdio.h>\n",
    "#include<stdlib.h>\n",
    "#include<unistd.h>\n",
    "\n",
    "#define MAX_ARREGLO 20\n",
    "\n",
    "void inicializarArreglo(int *arrg, int tope){\n",
    "    /*Armamos random seed*/\n",
    "    srand(getpid());\n",
    "    \n",
    "    int i; \n",
    "    \n",
    "    for(i = 0; i < tope; i++){\n",
    "        arrg[i] = rand();\n",
    "    }\n",
    "}\n",
    "int main(void){\n",
    "    \n",
    "    /*Declarar arreglo*/\n",
    "    int arreglo[MAX_ARREGLO];\n",
    "    \n",
    "    \n",
    "    inicializarArreglo(arreglo, MAX_ARREGLO);\n",
    "    \n",
    "    int i;\n",
    "    \n",
    "    /* Recorremos el arreglo y mostramos valores*/\n",
    "    for(i = 0; i < MAX_ARREGLO; i++){\n",
    "        printf(\"El valor del arreglo en la posicion %d es: %d\\n\", i, arreglo[i]);\n",
    "    }\n",
    "    \n",
    "    return 0;\n",
    "}"
   ]
  },
  {
   "cell_type": "code",
   "execution_count": 4,
   "metadata": {
    "collapsed": false
   },
   "outputs": [],
   "source": [
    "!gcc ej2.c -o ej2"
   ]
  },
  {
   "cell_type": "code",
   "execution_count": 5,
   "metadata": {
    "collapsed": false
   },
   "outputs": [
    {
     "name": "stdout",
     "output_type": "stream",
     "text": [
      "El valor del arreglo en la posicion 0 es: 608457142\r\n",
      "El valor del arreglo en la posicion 1 es: 1368295730\r\n",
      "El valor del arreglo en la posicion 2 es: 1432311725\r\n",
      "El valor del arreglo en la posicion 3 es: 2031178862\r\n",
      "El valor del arreglo en la posicion 4 es: 1658223477\r\n",
      "El valor del arreglo en la posicion 5 es: 618251727\r\n",
      "El valor del arreglo en la posicion 6 es: 288868922\r\n",
      "El valor del arreglo en la posicion 7 es: 689709588\r\n",
      "El valor del arreglo en la posicion 8 es: 792122115\r\n",
      "El valor del arreglo en la posicion 9 es: 149519293\r\n",
      "El valor del arreglo en la posicion 10 es: 860421345\r\n",
      "El valor del arreglo en la posicion 11 es: 1232324029\r\n",
      "El valor del arreglo en la posicion 12 es: 606019748\r\n",
      "El valor del arreglo en la posicion 13 es: 1802858376\r\n",
      "El valor del arreglo en la posicion 14 es: 1127782623\r\n",
      "El valor del arreglo en la posicion 15 es: 1259468810\r\n",
      "El valor del arreglo en la posicion 16 es: 282610918\r\n",
      "El valor del arreglo en la posicion 17 es: 2072663766\r\n",
      "El valor del arreglo en la posicion 18 es: 91571911\r\n",
      "El valor del arreglo en la posicion 19 es: 2039304813\r\n"
     ]
    }
   ],
   "source": [
    "!./ej2"
   ]
  },
  {
   "cell_type": "markdown",
   "metadata": {},
   "source": [
    "## Ejercicio 3"
   ]
  },
  {
   "cell_type": "code",
   "execution_count": 16,
   "metadata": {
    "collapsed": false
   },
   "outputs": [
    {
     "name": "stdout",
     "output_type": "stream",
     "text": [
      "Writing ej3.c\n"
     ]
    }
   ],
   "source": [
    "%%writefile ej3.c\n",
    "\n",
    "#include<stdio.h>\n",
    "#include<stdlib.h>\n",
    "#include<unistd.h>\n",
    "#include<pthread.h>\n",
    "\n",
    "#define MAX_ARREGLO 20\n",
    "#define MAX_HILOS 2\n",
    "\n",
    "    \n",
    "void *recorrerArreglo(void *arreglo){ \n",
    "    int i;\n",
    "    int valor;\n",
    "    \n",
    "    /* Recorremos el arreglo y mostramos valores*/\n",
    "    for(i = 0; i < MAX_ARREGLO; i++){\n",
    "        //le pasamos a la var el valor almacenado en el arreglo pasado por parametro\n",
    "        //lo apuntado por el arreglo casteado a puntero a entero\n",
    "        valor = *(int *)(arreglo + i);\n",
    "        printf(\"El valor del arreglo en la posicion %d es: %d\\n\", i, valor);\n",
    "        usleep(100000);\n",
    "        \n",
    "    }\n",
    "    \n",
    "    pthread_exit((void *)0);\n",
    "}\n",
    "\n",
    "void inicializarArreglo(int *arrg, int tope){\n",
    "    /*Armamos random seed*/\n",
    "    srand(getpid());\n",
    "    \n",
    "    int i; \n",
    "    \n",
    "    for(i = 0; i < tope; i++){\n",
    "        arrg[i] = rand();\n",
    "    }\n",
    "}\n",
    "int main(void){\n",
    "    //Declaramos arreglo de enteros\n",
    "    int arreglo[MAX_ARREGLO];\n",
    "    \n",
    "    /*Declaramos arreglo de hilos*/\n",
    "    pthread_t hilos[MAX_HILOS];\n",
    "    \n",
    "    int retval = 0;\n",
    "    \n",
    "    inicializarArreglo(arreglo, MAX_ARREGLO);\n",
    "    \n",
    "    int i;\n",
    "    for(i = 0; i < MAX_HILOS; i++){\n",
    "        /*Creamos hilo*/\n",
    "        printf(\"Hilo %d\\n\",i);\n",
    "        retval = pthread_create(&hilos[i],NULL, recorrerArreglo, (void *)arreglo);\n",
    "        if(retval != 0){\n",
    "            exit(1);\n",
    "        }\n",
    "        pthread_join(hilos[i], NULL);\n",
    "    }\n",
    "       \n",
    "    return 0;\n",
    "}"
   ]
  },
  {
   "cell_type": "code",
   "execution_count": 17,
   "metadata": {
    "collapsed": false,
    "scrolled": true
   },
   "outputs": [],
   "source": [
    "!gcc ej3.c -pthread -o ej3"
   ]
  },
  {
   "cell_type": "code",
   "execution_count": 18,
   "metadata": {
    "collapsed": false
   },
   "outputs": [
    {
     "name": "stdout",
     "output_type": "stream",
     "text": [
      "Hilo 0\n",
      "El valor del arreglo en la posicion 0 es: 271618316\n",
      "El valor del arreglo en la posicion 1 es: 1460678801\n",
      "El valor del arreglo en la posicion 2 es: 1465323568\n",
      "El valor del arreglo en la posicion 3 es: -698919152\n",
      "El valor del arreglo en la posicion 4 es: 2111199063\n",
      "El valor del arreglo en la posicion 5 es: 343791191\n",
      "El valor del arreglo en la posicion 6 es: 336887254\n",
      "El valor del arreglo en la posicion 7 es: -1760291715\n",
      "El valor del arreglo en la posicion 8 es: 1050088468\n",
      "El valor del arreglo en la posicion 9 es: -1539401964\n",
      "El valor del arreglo en la posicion 10 es: -89899369\n",
      "El valor del arreglo en la posicion 11 es: 1392157758\n",
      "El valor del arreglo en la posicion 12 es: 777190052\n",
      "El valor del arreglo en la posicion 13 es: 187585274\n",
      "El valor del arreglo en la posicion 14 es: -167039406\n",
      "El valor del arreglo en la posicion 15 es: 1056312110\n",
      "El valor del arreglo en la posicion 16 es: 289338891\n",
      "El valor del arreglo en la posicion 17 es: -569295114\n",
      "El valor del arreglo en la posicion 18 es: 668864830\n",
      "El valor del arreglo en la posicion 19 es: 1663557137\n",
      "Hilo 1\n",
      "El valor del arreglo en la posicion 0 es: 271618316\n",
      "El valor del arreglo en la posicion 1 es: 1460678801\n",
      "El valor del arreglo en la posicion 2 es: 1465323568\n",
      "El valor del arreglo en la posicion 3 es: -698919152\n",
      "El valor del arreglo en la posicion 4 es: 2111199063\n",
      "El valor del arreglo en la posicion 5 es: 343791191\n",
      "El valor del arreglo en la posicion 6 es: 336887254\n",
      "El valor del arreglo en la posicion 7 es: -1760291715\n",
      "El valor del arreglo en la posicion 8 es: 1050088468\n",
      "El valor del arreglo en la posicion 9 es: -1539401964\n",
      "El valor del arreglo en la posicion 10 es: -89899369\n",
      "El valor del arreglo en la posicion 11 es: 1392157758\n",
      "El valor del arreglo en la posicion 12 es: 777190052\n",
      "El valor del arreglo en la posicion 13 es: 187585274\n",
      "El valor del arreglo en la posicion 14 es: -167039406\n",
      "El valor del arreglo en la posicion 15 es: 1056312110\n",
      "El valor del arreglo en la posicion 16 es: 289338891\n",
      "El valor del arreglo en la posicion 17 es: -569295114\n",
      "El valor del arreglo en la posicion 18 es: 668864830\n",
      "El valor del arreglo en la posicion 19 es: 1663557137\n"
     ]
    }
   ],
   "source": [
    "!./ej3"
   ]
  },
  {
   "cell_type": "code",
   "execution_count": 150,
   "metadata": {
    "collapsed": false
   },
   "outputs": [
    {
     "name": "stdout",
     "output_type": "stream",
     "text": [
      "60 ej3.c\r\n"
     ]
    }
   ],
   "source": [
    "!wc -l ej3.c"
   ]
  },
  {
   "cell_type": "markdown",
   "metadata": {},
   "source": [
    "## Ejercicio 4"
   ]
  },
  {
   "cell_type": "code",
   "execution_count": 13,
   "metadata": {
    "collapsed": false
   },
   "outputs": [
    {
     "name": "stdout",
     "output_type": "stream",
     "text": [
      "Overwriting ej4.c\n"
     ]
    }
   ],
   "source": [
    "%%writefile ej4.c\n",
    "#define _GNU_SOURCE\n",
    "\n",
    "#include<stdio.h>\n",
    "#include<stdlib.h>\n",
    "#include<unistd.h>\n",
    "#include<pthread.h>\n",
    "\n",
    "\n",
    "#define MAX_CARAC 10\n",
    "#define MAX_HILOS 2\n",
    "#define ESPERA 250000\n",
    "\n",
    "\n",
    "/*BUCLE INFINITO. SE PREGUNTA SI EL CONTADOR LLEGO AL TOPE.\n",
    "SI LLEGO, SE TERMINA EL HILO*/\n",
    "\n",
    "\n",
    "/*Variables de caracteres*/\n",
    "int retorno;\n",
    "char nuevoCarac, viejoCarac = 0;\n",
    "\n",
    "/*Arreglo de hilos*/\n",
    "pthread_t hilos[MAX_HILOS];\n",
    "\n",
    "int contador = 0;\n",
    "\n",
    "char caracAleatorio(void){\n",
    "    /*Hacemos que el random quede entre 65 y 112 (de la A a la z en ASCII)*/\n",
    "    return ((rand() % 57) + 65);\n",
    "}\n",
    "\n",
    "\n",
    "void *muestraCaracter(void *arg){\n",
    "    //Mostramos caracter aleatorio si es distinto al anterior mostrado\n",
    "    \n",
    "    while(1){\n",
    "        if(contador >= MAX_CARAC){\n",
    "            pthread_exit((void *) 0);\n",
    "        }\n",
    "        else if(nuevoCarac != viejoCarac){\n",
    "            printf(\"%c\\n\",nuevoCarac);\n",
    "            usleep(ESPERA);\n",
    "            \n",
    "            //Actualizamos el caracter viejo para que no se repita instantaneamente\n",
    "            viejoCarac = nuevoCarac;\n",
    "            contador++;\n",
    "        }\n",
    "        \n",
    "        pthread_yield();\n",
    "    }\n",
    "    \n",
    "}\n",
    "\n",
    "\n",
    "void *generaCaracteres (void *arg){\n",
    "    int retval;\n",
    "    \n",
    "    //semilla aleatoria\n",
    "    srand(getpid());\n",
    "    \n",
    "    //generamos caracter aleatorio\n",
    "    nuevoCarac = caracAleatorio();\n",
    "    \n",
    "    //Creamos hilo consumidor de caracteres\n",
    "    retval = pthread_create(&hilos[1], NULL, muestraCaracter,NULL);\n",
    "    if(retval != 0)\n",
    "        exit(1);\n",
    "            \n",
    "    //generamos caracteres aleatorios todo el tiempo\n",
    "    while(1){\n",
    "        nuevoCarac = caracAleatorio();\n",
    "        if (contador >= MAX_CARAC){\n",
    "            pthread_exit((void *) 0);\n",
    "        }\n",
    "        pthread_yield();\n",
    "    }\n",
    "    \n",
    "    \n",
    "}\n",
    "\n",
    "int main(void){\n",
    "    int retval = pthread_create(&hilos[0], NULL, generaCaracteres, NULL);\n",
    "    if(retval != 0)\n",
    "        exit(1);\n",
    "    \n",
    "    pthread_join(hilos[0],NULL);\n",
    "    \n",
    "    //De onda\n",
    "    printf(\"\\n\");\n",
    "    printf(\"caracteres impresos: %d\\n\", contador);\n",
    "    \n",
    "    return 0;\n",
    "    \n",
    "}"
   ]
  },
  {
   "cell_type": "code",
   "execution_count": 14,
   "metadata": {
    "collapsed": false
   },
   "outputs": [],
   "source": [
    "!gcc ej4.c -pthread -o ej4"
   ]
  },
  {
   "cell_type": "code",
   "execution_count": 16,
   "metadata": {
    "collapsed": false
   },
   "outputs": [
    {
     "name": "stdout",
     "output_type": "stream",
     "text": [
      "a\n",
      "e\n",
      "N\n",
      "N\n",
      "n\n",
      "^\n",
      "_\n",
      "q\n",
      "Z\n",
      "q\n",
      "\n",
      "caracteres impresos: 10\n"
     ]
    }
   ],
   "source": [
    "!./ej4"
   ]
  },
  {
   "cell_type": "markdown",
   "metadata": {},
   "source": [
    "## Ejercicio 5 (implementado con banderas)"
   ]
  },
  {
   "cell_type": "code",
   "execution_count": 4,
   "metadata": {
    "collapsed": false
   },
   "outputs": [
    {
     "name": "stdout",
     "output_type": "stream",
     "text": [
      "Overwriting ej5.c\n"
     ]
    }
   ],
   "source": [
    "%%writefile ej5.c\n",
    "\n",
    "#include<stdio.h>\n",
    "#include<stdlib.h>\n",
    "#include<unistd.h>\n",
    "#include<pthread.h>\n",
    "\n",
    "\n",
    "#define MAX_CARAC 10\n",
    "#define MAX_HILOS 2\n",
    "#define ESPERA 100000\n",
    "\n",
    "\n",
    "\n",
    "\n",
    "/*Arreglo de hilos*/\n",
    "pthread_t hilos[MAX_HILOS];\n",
    "\n",
    "_Bool bandera_hilo = 0;\n",
    "\n",
    "int indice_global = 0;\n",
    "\n",
    "\n",
    "\n",
    "\n",
    "\n",
    "char caracAleatorio(void){\n",
    "    /*Hacemos que el random quede entre 65 y 112 (de la A a la z en ASCII)*/\n",
    "    return ((rand() % 57) + 65);\n",
    "}\n",
    "\n",
    "\n",
    "void *muestraCaracter(void *arreglo){\n",
    "    int i;\n",
    "    char carac_a_mostrar;\n",
    "    \n",
    "    while(1){\n",
    "        \n",
    "        \n",
    "        //Muestra los caracteres generados por el hilo productor\n",
    "        \n",
    "        for (i = 0; i < indice_global; i++){\n",
    "            carac_a_mostrar = * (char *)(arreglo + i);\n",
    "            printf(\"%c\\n\", carac_a_mostrar);\n",
    "        }\n",
    "        \n",
    "        printf(\"Hilo 2. Mostró %d caracteres\\n\", i);\n",
    "        usleep(ESPERA);\n",
    "        \n",
    "        //Levantamos la bandera y se queda esperando a que se cambie el hilo\n",
    "        bandera_hilo = 1;\n",
    "        \n",
    "        \n",
    "        //Si ya se llego al tope, se termina el hilo\n",
    "        if(indice_global >= MAX_CARAC)\n",
    "            pthread_exit((void *) 0);\n",
    "        \n",
    "        while(bandera_hilo);\n",
    "    }\n",
    "}\n",
    "\n",
    "\n",
    "void *generaCaracteres (void *arg){\n",
    "    \n",
    "    int retval;\n",
    "    int i;\n",
    "    \n",
    "    /*Variables de caracteres*/\n",
    "    char arregloCarac[MAX_CARAC];\n",
    "    \n",
    "    //semilla aleatoria\n",
    "    srand(getpid());\n",
    "    \n",
    "    \n",
    "    //Creamos hilo consumidor de caracteres\n",
    "    retval = pthread_create(&hilos[1], NULL, muestraCaracter, (void *)arregloCarac);\n",
    "    if(retval != 0)\n",
    "        exit(1);\n",
    "            \n",
    "    //generamos caracteres aleatorios todo el tiempo\n",
    "    while(1){\n",
    "        \n",
    "        indice_global++;\n",
    "        \n",
    "        if(indice_global > MAX_CARAC)\n",
    "            pthread_exit((void *) 0);\n",
    "        \n",
    "        for(i = 0; i < indice_global; i++){\n",
    "            arregloCarac[i] = caracAleatorio();\n",
    "        }\n",
    "        \n",
    "        bandera_hilo = 0;\n",
    "                \n",
    "        while(!bandera_hilo);      \n",
    "    }\n",
    "    \n",
    "}\n",
    "\n",
    "int main(void){\n",
    "    int retval = pthread_create(&hilos[0], NULL, generaCaracteres, NULL);\n",
    "    if(retval != 0)\n",
    "        exit(1);\n",
    "    \n",
    "    pthread_join(hilos[0],NULL);\n",
    "    \n",
    "    return 0;\n",
    "    \n",
    "}"
   ]
  },
  {
   "cell_type": "code",
   "execution_count": 5,
   "metadata": {
    "collapsed": false
   },
   "outputs": [],
   "source": [
    "!gcc ej5.c -pthread -o ej5"
   ]
  },
  {
   "cell_type": "code",
   "execution_count": 6,
   "metadata": {
    "collapsed": false
   },
   "outputs": [
    {
     "name": "stdout",
     "output_type": "stream",
     "text": [
      "A\n",
      "Hilo 2. Mostró 1 caracteres\n",
      "V\n",
      "]\n",
      "Hilo 2. Mostró 2 caracteres\n",
      "f\n",
      "m\n",
      "I\n",
      "Hilo 2. Mostró 3 caracteres\n",
      "i\n",
      "O\n",
      "x\n",
      "P\n",
      "Hilo 2. Mostró 4 caracteres\n",
      "Z\n",
      "y\n",
      "u\n",
      "H\n",
      "h\n",
      "Hilo 2. Mostró 5 caracteres\n",
      "r\n",
      "x\n",
      "f\n",
      "Q\n",
      "V\n",
      "V\n",
      "Hilo 2. Mostró 6 caracteres\n",
      "b\n",
      "v\n",
      "w\n",
      "V\n",
      "J\n",
      "J\n",
      "N\n",
      "Hilo 2. Mostró 7 caracteres\n",
      "S\n",
      "N\n",
      "O\n",
      "c\n",
      "s\n",
      "C\n",
      "O\n",
      "g\n",
      "Hilo 2. Mostró 8 caracteres\n",
      "K\n",
      "N\n",
      "u\n",
      "Z\n",
      "m\n",
      "U\n",
      "Y\n",
      "h\n",
      "m\n",
      "Hilo 2. Mostró 9 caracteres\n",
      "W\n",
      "p\n",
      "B\n",
      "S\n",
      "W\n",
      "W\n",
      "x\n",
      "y\n",
      "T\n",
      "u\n",
      "Hilo 2. Mostró 10 caracteres\n"
     ]
    }
   ],
   "source": [
    "!./ej5"
   ]
  },
  {
   "cell_type": "markdown",
   "metadata": {},
   "source": [
    "## Ejercicio 5 (arreglo circular)\n",
    "### -ejecutar en terminal-"
   ]
  },
  {
   "cell_type": "code",
   "execution_count": 1,
   "metadata": {
    "collapsed": false
   },
   "outputs": [
    {
     "name": "stdout",
     "output_type": "stream",
     "text": [
      "Writing ej5-arregloCircular.c\n"
     ]
    }
   ],
   "source": [
    "%%writefile ej5-arregloCircular.c\n",
    "\n",
    "\n",
    "#include <stdio.h>\n",
    "#include <stdlib.h>\n",
    "#include <unistd.h>\n",
    "#include <pthread.h>\n",
    "\n",
    "\n",
    "#define MAX_CARAC 10\n",
    "#define MAX_HILOS 2\n",
    "#define ESPERA 500000\n",
    "\n",
    "int prod = 0;\n",
    "int cons = 0;\n",
    "pthread_mutex_t mutex = PTHREAD_MUTEX_INITIALIZER;\n",
    "\n",
    "\n",
    "char caracteres[MAX_CARAC];\n",
    "pthread_t hilos[MAX_HILOS];\n",
    "\n",
    "int v = 1;\n",
    "char caracAleatorio(void){\n",
    "    /*Hacemos que el random quede entre 65 y 112 (de la A a la z en ASCII)*/\n",
    "    return ((rand() % 57) + 65);\n",
    "}\n",
    "\n",
    "/*Arreglo de hilos*/\n",
    "pthread_t hilos[MAX_HILOS];\n",
    "\n",
    "void *consumidor(void *arreglo){\n",
    "    \n",
    "    \n",
    "    while(1){\n",
    "        //bloqueo\n",
    "        pthread_mutex_lock(&mutex);\n",
    "        //consumo hasta alcanzar al indice de productor\n",
    "        while(prod != cons){\n",
    "            printf(\"%d, %d, %c\\n\",prod, cons, caracteres[cons]);\n",
    "            usleep(ESPERA);\n",
    "            \n",
    "            //manejo del arreglo circular\n",
    "            cons++;\n",
    "            if (cons == MAX_CARAC){\n",
    "                cons = 0;\n",
    "            }\n",
    "        }\n",
    "        //desbloqueo\n",
    "        pthread_mutex_unlock(&mutex);\n",
    "        \n",
    "        //espero a que se produzcan mas\n",
    "        while(prod==cons);\n",
    "        \n",
    "\n",
    "    }\n",
    "    \n",
    "    pthread_exit((void *)0);\n",
    "}\n",
    "\n",
    "\n",
    "void *generador (void *arg){\n",
    "    \n",
    "    //creamos hilo consumidor\n",
    "    int retval = pthread_create(&hilos[1], NULL, &consumidor, NULL);\n",
    "    if(retval != 0)\n",
    "        exit(1);\n",
    "    \n",
    "    //repetimos infinitamente\n",
    "    while(1){\n",
    "        \n",
    "        /*si el indice productor esta ahi no mas del consumidor\n",
    "        esperamos a que se consuman más para seguir produciendo*/\n",
    "        if (prod != (cons-1)){\n",
    "            \n",
    "            //genero caracter\n",
    "            caracteres[prod] = caracAleatorio();\n",
    "            \n",
    "            //manejo del arreglo circular\n",
    "            prod++;\n",
    "            if(prod == MAX_CARAC){\n",
    "                prod = 0;\n",
    "            } \n",
    "            \n",
    "        } else {\n",
    "            //espero a que se consuman\n",
    "            while(prod == (cons-1));\n",
    "        }\n",
    "    }\n",
    "    \n",
    "    pthread_exit((void *)0);\n",
    "    \n",
    "    \n",
    "}\n",
    "\n",
    "int main(void){\n",
    "    \n",
    "    \n",
    "    srand(getpid());\n",
    "    \n",
    "    //creamos el hilo generador\n",
    "    int retval = pthread_create(&hilos[0], NULL, &generador, NULL);\n",
    "    if(retval != 0)\n",
    "        exit(1);\n",
    "    \n",
    "    pthread_join(hilos[0],NULL);\n",
    "    \n",
    "    return 0;   \n",
    "}"
   ]
  },
  {
   "cell_type": "code",
   "execution_count": 2,
   "metadata": {
    "collapsed": true
   },
   "outputs": [],
   "source": [
    "!gcc -pthread ej5-arregloCircular.c -o ej5-arregloCircular"
   ]
  },
  {
   "cell_type": "code",
   "execution_count": 3,
   "metadata": {
    "collapsed": false
   },
   "outputs": [
    {
     "name": "stdout",
     "output_type": "stream",
     "text": [
      "2, 0, i\n",
      "6, 1, P\n",
      "0, 2, K\n",
      "1, 3, F\n",
      "2, 4, h\n",
      "3, 5, L\n",
      "4, 6, e\n",
      "5, 7, G\n",
      "6, 8, f\n",
      "7, 9, H\n",
      "8, 0, L\n",
      "0, 1, H\n",
      "0, 2, p\n",
      "1, 3, c\n",
      "2, 4, \\\n",
      "3, 5, `\n",
      "4, 6, ]\n",
      "5, 7, k\n",
      "6, 8, R\n",
      "7, 9, K\n",
      "8, 0, q\n",
      "7, 1, d\n",
      "0, 2, m\n",
      "1, 3, v\n",
      "2, 4, Y\n",
      "3, 5, e\n",
      "4, 6, f\n",
      "5, 7, c\n",
      "6, 8, _\n",
      "7, 9, k\n",
      "8, 0, R\n",
      "1, 1, l\n",
      "0, 2, v\n",
      "1, 3, O\n",
      "2, 4, A\n",
      "3, 5, [\n",
      "4, 6, U\n",
      "5, 7, ^\n",
      "6, 8, P\n",
      "7, 9, \\\n",
      "8, 0, [\n",
      "4, 1, M\n",
      "0, 2, q\n",
      "1, 3, k\n",
      "2, 4, q\n",
      "3, 5, H\n",
      "4, 6, P\n",
      "5, 7, u\n",
      "6, 8, L\n",
      "7, 9, w\n",
      "8, 0, A\n",
      "6, 1, C\n",
      "0, 2, m\n",
      "1, 3, u\n",
      "2, 4, X\n",
      "3, 5, X\n",
      "4, 6, L\n",
      "5, 7, M\n",
      "6, 8, T\n",
      "7, 9, ^\n",
      "8, 0, P\n",
      "0, 1, Z\n",
      "0, 2, n\n",
      "1, 3, N\n",
      "2, 4, G\n",
      "3, 5, i\n",
      "4, 6, n\n",
      "5, 7, _\n",
      "6, 8, ]\n",
      "7, 9, r\n",
      "8, 0, i\n",
      "5, 1, S\n",
      "0, 2, P\n",
      "1, 3, h\n",
      "2, 4, k\n",
      "3, 5, X\n",
      "4, 6, f\n",
      "5, 7, S\n",
      "6, 8, L\n",
      "7, 9, c\n",
      "8, 0, M\n",
      "7, 1, v\n",
      "0, 2, C\n",
      "1, 3, C\n",
      "2, 4, o\n",
      "3, 5, X\n",
      "4, 6, `\n",
      "5, 7, R\n",
      "6, 8, D\n",
      "7, 9, O\n",
      "8, 0, Y\n",
      "0, 1, J\n",
      "0, 2, l\n",
      "1, 3, K\n",
      "2, 4, J\n",
      "3, 5, q\n",
      "4, 6, I\n",
      "5, 7, [\n",
      "6, 8, r\n",
      "7, 9, g\n",
      "8, 0, m\n",
      "6, 1, R\n",
      "0, 2, W\n",
      "1, 3, a\n",
      "2, 4, G\n",
      "3, 5, I\n",
      "4, 6, R\n",
      "5, 7, p\n",
      "6, 8, _\n",
      "7, 9, A\n",
      "8, 0, w\n",
      "4, 1, L\n",
      "0, 2, C\n",
      "1, 3, ^\n",
      "2, 4, F\n",
      "3, 5, u\n",
      "4, 6, v\n",
      "5, 7, _\n",
      "6, 8, r\n",
      "7, 9, r\n",
      "8, 0, N\n",
      "3, 1, a\n",
      "0, 2, g\n",
      "1, 3, u\n",
      "2, 4, W\n",
      "3, 5, o\n",
      "4, 6, k\n",
      "5, 7, q\n",
      "6, 8, b\n",
      "7, 9, w\n",
      "8, 0, [\n",
      "0, 1, w\n",
      "0, 2, h\n",
      "1, 3, [\n",
      "2, 4, m\n",
      "3, 5, A\n",
      "4, 6, F\n",
      "5, 7, Y\n",
      "6, 8, c\n",
      "7, 9, s\n",
      "8, 0, J\n",
      "3, 1, C\n",
      "0, 2, t\n",
      "1, 3, `\n",
      "2, 4, H\n",
      "3, 5, r\n",
      "4, 6, f\n",
      "5, 7, H\n",
      "6, 8, g\n",
      "7, 9, N\n",
      "8, 0, m\n",
      "3, 1, q\n",
      "0, 2, f\n",
      "1, 3, i\n",
      "2, 4, b\n",
      "3, 5, J\n",
      "4, 6, g\n",
      "5, 7, y\n",
      "6, 8, V\n",
      "7, 9, c\n",
      "8, 0, s\n",
      "0, 1, i\n",
      "0, 2, K\n",
      "1, 3, I\n",
      "2, 4, i\n",
      "3, 5, x\n",
      "4, 6, e\n",
      "5, 7, A\n",
      "6, 8, W\n",
      "7, 9, x\n",
      "8, 0, o\n",
      "0, 1, H\n",
      "0, 2, a\n",
      "1, 3, v\n",
      "2, 4, u\n",
      "3, 5, y\n",
      "4, 6, R\n",
      "5, 7, o\n",
      "6, 8, `\n",
      "7, 9, ^\n",
      "8, 0, o\n",
      "0, 1, t\n",
      "0, 2, H\n",
      "1, 3, K\n",
      "2, 4, T\n",
      "3, 5, D\n",
      "4, 6, m\n",
      "5, 7, R\n",
      "6, 8, D\n",
      "7, 9, x\n",
      "8, 0, D\n",
      "7, 1, f\n",
      "^C\n"
     ]
    }
   ],
   "source": [
    "!./ej5-arregloCircular"
   ]
  },
  {
   "cell_type": "code",
   "execution_count": null,
   "metadata": {
    "collapsed": true
   },
   "outputs": [],
   "source": []
  }
 ],
 "metadata": {
  "kernelspec": {
   "display_name": "Python 2",
   "language": "python",
   "name": "python2"
  },
  "language_info": {
   "codemirror_mode": {
    "name": "ipython",
    "version": 2
   },
   "file_extension": ".py",
   "mimetype": "text/x-python",
   "name": "python",
   "nbconvert_exporter": "python",
   "pygments_lexer": "ipython2",
   "version": "2.7.12"
  }
 },
 "nbformat": 4,
 "nbformat_minor": 1
}
