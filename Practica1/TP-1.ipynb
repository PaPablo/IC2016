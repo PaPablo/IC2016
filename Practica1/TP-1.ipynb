{
 "cells": [
  {
   "cell_type": "markdown",
   "metadata": {},
   "source": [
    "# Trabajo Práctico N°1"
   ]
  },
  {
   "cell_type": "code",
   "execution_count": 1,
   "metadata": {
    "collapsed": true
   },
   "outputs": [],
   "source": [
    "!mkdir TP-1"
   ]
  },
  {
   "cell_type": "code",
   "execution_count": 14,
   "metadata": {
    "collapsed": false
   },
   "outputs": [
    {
     "name": "stdout",
     "output_type": "stream",
     "text": [
      "/home/pablo/gitHub/IC2016/Practica1/TP-1\n"
     ]
    }
   ],
   "source": [
    "%cd TP-1/"
   ]
  },
  {
   "cell_type": "code",
   "execution_count": 2,
   "metadata": {
    "collapsed": false
   },
   "outputs": [
    {
     "name": "stdout",
     "output_type": "stream",
     "text": [
      "Overwriting README.md\n"
     ]
    }
   ],
   "source": [
    "%%writefile README.md\n",
    "ALLENDE, Lucila Abigail\n",
    "SERRUYA ALOISI, Luciano Sebastián\n",
    "TOLEDO MARGALEF, Pablo Adrián"
   ]
  },
  {
   "cell_type": "code",
   "execution_count": 3,
   "metadata": {
    "collapsed": false
   },
   "outputs": [
    {
     "name": "stdout",
     "output_type": "stream",
     "text": [
      "Overwriting ej2.c\n"
     ]
    }
   ],
   "source": [
    "%%writefile ej2.c\n",
    "\n",
    "#include<stdio.h>\n",
    "#include<stdlib.h>\n",
    "#include<unistd.h>\n",
    "\n",
    "#define MAX_ARREGLO 20\n",
    "\n",
    "void inicializarArreglo(int *arrg, int tope){\n",
    "    /*Armamos random seed*/\n",
    "    srand(getpid());\n",
    "    \n",
    "    int i; \n",
    "    \n",
    "    for(i = 0; i < tope; i++){\n",
    "        arrg[i] = rand();\n",
    "    }\n",
    "}\n",
    "int main(void){\n",
    "    \n",
    "    /*Declarar arreglo*/\n",
    "    int arreglo[MAX_ARREGLO];\n",
    "    \n",
    "    \n",
    "    inicializarArreglo(arreglo, MAX_ARREGLO);\n",
    "    \n",
    "    int i;\n",
    "    \n",
    "    /* Recorremos el arreglo y mostramos valores*/\n",
    "    for(i = 0; i < MAX_ARREGLO; i++){\n",
    "        printf(\"El valor del arreglo en la posicion %d es: %d\\n\", i, arreglo[i]);\n",
    "    }\n",
    "    \n",
    "    return 0;\n",
    "}"
   ]
  },
  {
   "cell_type": "code",
   "execution_count": 4,
   "metadata": {
    "collapsed": false
   },
   "outputs": [],
   "source": [
    "!gcc ej2.c -o ej2"
   ]
  },
  {
   "cell_type": "code",
   "execution_count": 5,
   "metadata": {
    "collapsed": false
   },
   "outputs": [
    {
     "name": "stdout",
     "output_type": "stream",
     "text": [
      "El valor del arreglo en la posicion 0 es: 608457142\r\n",
      "El valor del arreglo en la posicion 1 es: 1368295730\r\n",
      "El valor del arreglo en la posicion 2 es: 1432311725\r\n",
      "El valor del arreglo en la posicion 3 es: 2031178862\r\n",
      "El valor del arreglo en la posicion 4 es: 1658223477\r\n",
      "El valor del arreglo en la posicion 5 es: 618251727\r\n",
      "El valor del arreglo en la posicion 6 es: 288868922\r\n",
      "El valor del arreglo en la posicion 7 es: 689709588\r\n",
      "El valor del arreglo en la posicion 8 es: 792122115\r\n",
      "El valor del arreglo en la posicion 9 es: 149519293\r\n",
      "El valor del arreglo en la posicion 10 es: 860421345\r\n",
      "El valor del arreglo en la posicion 11 es: 1232324029\r\n",
      "El valor del arreglo en la posicion 12 es: 606019748\r\n",
      "El valor del arreglo en la posicion 13 es: 1802858376\r\n",
      "El valor del arreglo en la posicion 14 es: 1127782623\r\n",
      "El valor del arreglo en la posicion 15 es: 1259468810\r\n",
      "El valor del arreglo en la posicion 16 es: 282610918\r\n",
      "El valor del arreglo en la posicion 17 es: 2072663766\r\n",
      "El valor del arreglo en la posicion 18 es: 91571911\r\n",
      "El valor del arreglo en la posicion 19 es: 2039304813\r\n"
     ]
    }
   ],
   "source": [
    "!./ej2"
   ]
  },
  {
   "cell_type": "code",
   "execution_count": 16,
   "metadata": {
    "collapsed": false
   },
   "outputs": [
    {
     "name": "stdout",
     "output_type": "stream",
     "text": [
      "Writing ej3.c\n"
     ]
    }
   ],
   "source": [
    "%%writefile ej3.c\n",
    "\n",
    "#include<stdio.h>\n",
    "#include<stdlib.h>\n",
    "#include<unistd.h>\n",
    "#include<pthread.h>\n",
    "\n",
    "#define MAX_ARREGLO 20\n",
    "#define MAX_HILOS 2\n",
    "\n",
    "    \n",
    "void *recorrerArreglo(void *arreglo){ \n",
    "    int i;\n",
    "    int valor;\n",
    "    \n",
    "    /* Recorremos el arreglo y mostramos valores*/\n",
    "    for(i = 0; i < MAX_ARREGLO; i++){\n",
    "        //le pasamos a la var el valor almacenado en el arreglo pasado por parametro\n",
    "        //lo apuntado por el arreglo casteado a puntero a entero\n",
    "        valor = *(int *)(arreglo + i);\n",
    "        printf(\"El valor del arreglo en la posicion %d es: %d\\n\", i, valor);\n",
    "        usleep(100000);\n",
    "        \n",
    "    }\n",
    "    \n",
    "    pthread_exit((void *)0);\n",
    "}\n",
    "\n",
    "void inicializarArreglo(int *arrg, int tope){\n",
    "    /*Armamos random seed*/\n",
    "    srand(getpid());\n",
    "    \n",
    "    int i; \n",
    "    \n",
    "    for(i = 0; i < tope; i++){\n",
    "        arrg[i] = rand();\n",
    "    }\n",
    "}\n",
    "int main(void){\n",
    "    //Declaramos arreglo de enteros\n",
    "    int arreglo[MAX_ARREGLO];\n",
    "    \n",
    "    /*Declaramos arreglo de hilos*/\n",
    "    pthread_t hilos[MAX_HILOS];\n",
    "    \n",
    "    int retval = 0;\n",
    "    \n",
    "    inicializarArreglo(arreglo, MAX_ARREGLO);\n",
    "    \n",
    "    int i;\n",
    "    for(i = 0; i < MAX_HILOS; i++){\n",
    "        /*Creamos hilo*/\n",
    "        printf(\"Hilo %d\\n\",i);\n",
    "        retval = pthread_create(&hilos[i],NULL, recorrerArreglo, (void *)arreglo);\n",
    "        if(retval != 0){\n",
    "            exit(1);\n",
    "        }\n",
    "        pthread_join(hilos[i], NULL);\n",
    "    }\n",
    "       \n",
    "    return 0;\n",
    "}"
   ]
  },
  {
   "cell_type": "code",
   "execution_count": 17,
   "metadata": {
    "collapsed": false,
    "scrolled": true
   },
   "outputs": [],
   "source": [
    "!gcc ej3.c -pthread -o ej3"
   ]
  },
  {
   "cell_type": "code",
   "execution_count": 18,
   "metadata": {
    "collapsed": false
   },
   "outputs": [
    {
     "name": "stdout",
     "output_type": "stream",
     "text": [
      "Hilo 0\n",
      "El valor del arreglo en la posicion 0 es: 271618316\n",
      "El valor del arreglo en la posicion 1 es: 1460678801\n",
      "El valor del arreglo en la posicion 2 es: 1465323568\n",
      "El valor del arreglo en la posicion 3 es: -698919152\n",
      "El valor del arreglo en la posicion 4 es: 2111199063\n",
      "El valor del arreglo en la posicion 5 es: 343791191\n",
      "El valor del arreglo en la posicion 6 es: 336887254\n",
      "El valor del arreglo en la posicion 7 es: -1760291715\n",
      "El valor del arreglo en la posicion 8 es: 1050088468\n",
      "El valor del arreglo en la posicion 9 es: -1539401964\n",
      "El valor del arreglo en la posicion 10 es: -89899369\n",
      "El valor del arreglo en la posicion 11 es: 1392157758\n",
      "El valor del arreglo en la posicion 12 es: 777190052\n",
      "El valor del arreglo en la posicion 13 es: 187585274\n",
      "El valor del arreglo en la posicion 14 es: -167039406\n",
      "El valor del arreglo en la posicion 15 es: 1056312110\n",
      "El valor del arreglo en la posicion 16 es: 289338891\n",
      "El valor del arreglo en la posicion 17 es: -569295114\n",
      "El valor del arreglo en la posicion 18 es: 668864830\n",
      "El valor del arreglo en la posicion 19 es: 1663557137\n",
      "Hilo 1\n",
      "El valor del arreglo en la posicion 0 es: 271618316\n",
      "El valor del arreglo en la posicion 1 es: 1460678801\n",
      "El valor del arreglo en la posicion 2 es: 1465323568\n",
      "El valor del arreglo en la posicion 3 es: -698919152\n",
      "El valor del arreglo en la posicion 4 es: 2111199063\n",
      "El valor del arreglo en la posicion 5 es: 343791191\n",
      "El valor del arreglo en la posicion 6 es: 336887254\n",
      "El valor del arreglo en la posicion 7 es: -1760291715\n",
      "El valor del arreglo en la posicion 8 es: 1050088468\n",
      "El valor del arreglo en la posicion 9 es: -1539401964\n",
      "El valor del arreglo en la posicion 10 es: -89899369\n",
      "El valor del arreglo en la posicion 11 es: 1392157758\n",
      "El valor del arreglo en la posicion 12 es: 777190052\n",
      "El valor del arreglo en la posicion 13 es: 187585274\n",
      "El valor del arreglo en la posicion 14 es: -167039406\n",
      "El valor del arreglo en la posicion 15 es: 1056312110\n",
      "El valor del arreglo en la posicion 16 es: 289338891\n",
      "El valor del arreglo en la posicion 17 es: -569295114\n",
      "El valor del arreglo en la posicion 18 es: 668864830\n",
      "El valor del arreglo en la posicion 19 es: 1663557137\n"
     ]
    }
   ],
   "source": [
    "!./ej3"
   ]
  },
  {
   "cell_type": "code",
   "execution_count": 150,
   "metadata": {
    "collapsed": false
   },
   "outputs": [
    {
     "name": "stdout",
     "output_type": "stream",
     "text": [
      "60 ej3.c\r\n"
     ]
    }
   ],
   "source": [
    "!wc -l ej3.c"
   ]
  },
  {
   "cell_type": "code",
   "execution_count": 28,
   "metadata": {
    "collapsed": false
   },
   "outputs": [
    {
     "name": "stdout",
     "output_type": "stream",
     "text": [
      "Overwriting ej4.c\n"
     ]
    }
   ],
   "source": [
    "%%writefile ej4.c\n",
    "#define _GNU_SOURCE\n",
    "\n",
    "#include<stdio.h>\n",
    "#include<stdlib.h>\n",
    "#include<unistd.h>\n",
    "#include<pthread.h>\n",
    "\n",
    "\n",
    "#define MAX_CARAC 10\n",
    "#define MAX_HILOS 2\n",
    "#define ESPERA 50000\n",
    "\n",
    "\n",
    "/*BUCLE INFINITO. SE PREGUNTA SI EL CONTADOR LLEGO AL TOPE.\n",
    "SI LLEGO, SE TERMINA EL HILO*/\n",
    "\n",
    "\n",
    "/*Variables de caracteres*/\n",
    "int retorno;\n",
    "char nuevoCarac, viejoCarac = 0;\n",
    "\n",
    "/*Arreglo de hilos*/\n",
    "pthread_t hilos[MAX_HILOS];\n",
    "\n",
    "int contador = 0;\n",
    "\n",
    "char caracAleatorio(void){\n",
    "    /*Hacemos que el random quede entre 65 y 112 (de la A a la z en ASCII)*/\n",
    "    return ((rand() % 57) + 65);\n",
    "}\n",
    "\n",
    "\n",
    "void *muestraCaracter(void *arg){\n",
    "    //Mostramos caracter aleatorio si es distinto al anterior mostrado\n",
    "    \n",
    "    while(1){\n",
    "        if(contador >= MAX_CARAC){\n",
    "            pthread_exit((void *) 0);\n",
    "        }\n",
    "        else if(nuevoCarac != viejoCarac){\n",
    "            printf(\"%c\\n\",nuevoCarac);\n",
    "            usleep(ESPERA);\n",
    "            \n",
    "            //Actualizamos el caracter viejo para que no se repita instantaneamente\n",
    "            viejoCarac = nuevoCarac;\n",
    "            contador++;\n",
    "        }\n",
    "        \n",
    "        pthread_yield();\n",
    "    }\n",
    "    \n",
    "}\n",
    "\n",
    "\n",
    "void *generaCaracteres (void *arg){\n",
    "    int retval;\n",
    "    \n",
    "    //semilla aleatoria\n",
    "    srand(getpid());\n",
    "    \n",
    "    //generamos caracter aleatorio\n",
    "    nuevoCarac = caracAleatorio();\n",
    "    \n",
    "    //Creamos hilo consumidor de caracteres\n",
    "    retval = pthread_create(&hilos[1], NULL, muestraCaracter,NULL);\n",
    "    if(retval != 0)\n",
    "        exit(1);\n",
    "            \n",
    "    //generamos caracteres aleatorios todo el tiempo\n",
    "    while(1){\n",
    "        nuevoCarac = caracAleatorio();\n",
    "        if (contador >= MAX_CARAC){\n",
    "            pthread_exit((void *) 0);\n",
    "        }\n",
    "        pthread_yield();\n",
    "    }\n",
    "    \n",
    "    \n",
    "}\n",
    "\n",
    "int main(void){\n",
    "    int retval = pthread_create(&hilos[0], NULL, generaCaracteres, NULL);\n",
    "    if(retval != 0)\n",
    "        exit(1);\n",
    "    \n",
    "    pthread_join(hilos[0],NULL);\n",
    "    \n",
    "    //De onda\n",
    "    printf(\"\\n\");\n",
    "    printf(\"caracteres impresos: %d\\n\", contador);\n",
    "    \n",
    "    return 0;\n",
    "    \n",
    "}"
   ]
  },
  {
   "cell_type": "code",
   "execution_count": 29,
   "metadata": {
    "collapsed": false
   },
   "outputs": [],
   "source": [
    "!gcc ej4.c -pthread -o ej4"
   ]
  },
  {
   "cell_type": "code",
   "execution_count": 30,
   "metadata": {
    "collapsed": false
   },
   "outputs": [
    {
     "name": "stdout",
     "output_type": "stream",
     "text": [
      "J\n",
      "E\n",
      "K\n",
      "j\n",
      "p\n",
      "^\n",
      "h\n",
      "_\n",
      "s\n",
      "M\n",
      "]\n",
      "v\n",
      "p\n",
      "O\n",
      "i\n",
      "Z\n",
      "`\n",
      "l\n",
      "A\n",
      "C\n",
      "Y\n",
      "B\n",
      "J\n",
      "y\n",
      "S\n",
      "i\n",
      "S\n",
      "k\n",
      "y\n",
      "^\n",
      "O\n",
      "M\n",
      "c\n",
      "G\n",
      "Z\n",
      "j\n",
      "B\n",
      "`\n",
      "Q\n",
      "u\n",
      "x\n",
      "v\n",
      "Z\n",
      "I\n",
      "D\n",
      "G\n",
      "H\n",
      "m\n",
      "y\n",
      "S\n",
      "X\n",
      "v\n",
      "i\n",
      "I\n",
      "o\n",
      "J\n",
      "M\n",
      "D\n",
      "v\n",
      "m\n",
      "u\n",
      "i\n",
      "U\n",
      "y\n",
      "t\n",
      "K\n",
      "k\n",
      "o\n",
      "L\n",
      "W\n",
      "i\n",
      "J\n",
      "s\n",
      "F\n",
      "P\n",
      "J\n",
      "X\n",
      "U\n",
      "Z\n",
      "h\n",
      "e\n",
      "p\n",
      "N\n",
      "y\n",
      "_\n",
      "F\n",
      "A\n",
      "a\n",
      "w\n",
      "N\n",
      "e\n",
      "q\n",
      "A\n",
      "T\n",
      "A\n",
      "T\n",
      "U\n",
      "L\n",
      "p\n",
      "[\n",
      "\n",
      "caracteres impresos: 100\n"
     ]
    }
   ],
   "source": [
    "!./ej4"
   ]
  },
  {
   "cell_type": "code",
   "execution_count": 19,
   "metadata": {
    "collapsed": false
   },
   "outputs": [
    {
     "name": "stdout",
     "output_type": "stream",
     "text": [
      "Overwriting ej5.c\n"
     ]
    }
   ],
   "source": [
    "%%writefile ej5.c\n",
    "\n",
    "#include<stdio.h>\n",
    "#include<stdlib.h>\n",
    "#include<unistd.h>\n",
    "#include<pthread.h>\n",
    "\n",
    "\n",
    "#define MAX_CARAC 10\n",
    "#define MAX_HILOS 2\n",
    "#define ESPERA 100000\n",
    "\n",
    "\n",
    "\n",
    "\n",
    "/*Arreglo de hilos*/\n",
    "pthread_t hilos[MAX_HILOS];\n",
    "\n",
    "int bandera_hilo = 0;\n",
    "\n",
    "int indice_global = 0;\n",
    "\n",
    "\n",
    "char caracAleatorio(void){\n",
    "    /*Hacemos que el random quede entre 65 y 112 (de la A a la z en ASCII)*/\n",
    "    return ((rand() % 57) + 65);\n",
    "}\n",
    "\n",
    "\n",
    "void *muestraCaracter(void *arreglo){\n",
    "    int i;\n",
    "    char carac_a_mostrar;\n",
    "    \n",
    "    while(1){\n",
    "        \n",
    "        \n",
    "        //Muestra los caracteres generados por el hilo productor\n",
    "        \n",
    "        for (i = 0; i < indice_global; i++){\n",
    "            carac_a_mostrar = * (char *)(arreglo + i);\n",
    "            printf(\"%c\\n\", carac_a_mostrar);\n",
    "        }\n",
    "        \n",
    "        printf(\"Hilo 2. Mostró %d caracteres\\n\", i);\n",
    "        usleep(ESPERA);\n",
    "        \n",
    "        //Levantamos la bandera y se queda esperando a que se cambie el hilo\n",
    "        bandera_hilo = 1;\n",
    "        \n",
    "        \n",
    "        //Si ya se llego al tope, se termina el hilo\n",
    "        if(indice_global >= MAX_CARAC)\n",
    "            pthread_exit((void *) 0);\n",
    "        \n",
    "        while(bandera_hilo);\n",
    "    }\n",
    "}\n",
    "\n",
    "\n",
    "void *generaCaracteres (void *arg){\n",
    "    \n",
    "    int retval;\n",
    "    int i;\n",
    "    \n",
    "    /*Variables de caracteres*/\n",
    "    char arregloCarac[MAX_CARAC];\n",
    "    \n",
    "    //semilla aleatoria\n",
    "    srand(getpid());\n",
    "    \n",
    "    \n",
    "    //Creamos hilo consumidor de caracteres\n",
    "    retval = pthread_create(&hilos[1], NULL, muestraCaracter, (void *)arregloCarac);\n",
    "    if(retval != 0)\n",
    "        exit(1);\n",
    "            \n",
    "    //generamos caracteres aleatorios todo el tiempo\n",
    "    while(1){\n",
    "        \n",
    "        indice_global++;\n",
    "        \n",
    "        if(indice_global > MAX_CARAC)\n",
    "            pthread_exit((void *) 0);\n",
    "        \n",
    "        for(i = 0; i < indice_global; i++){\n",
    "            arregloCarac[i] = caracAleatorio();\n",
    "        }\n",
    "        \n",
    "        bandera_hilo = 0;\n",
    "                \n",
    "        while(!bandera_hilo);      \n",
    "    }\n",
    "    \n",
    "}\n",
    "\n",
    "int main(void){\n",
    "    int retval = pthread_create(&hilos[0], NULL, generaCaracteres, NULL);\n",
    "    if(retval != 0)\n",
    "        exit(1);\n",
    "    \n",
    "    pthread_join(hilos[0],NULL);\n",
    "    \n",
    "    return 0;\n",
    "    \n",
    "}"
   ]
  },
  {
   "cell_type": "code",
   "execution_count": 20,
   "metadata": {
    "collapsed": false
   },
   "outputs": [],
   "source": [
    "!gcc ej5.c -pthread -o ej5"
   ]
  },
  {
   "cell_type": "code",
   "execution_count": 21,
   "metadata": {
    "collapsed": false
   },
   "outputs": [
    {
     "name": "stdout",
     "output_type": "stream",
     "text": [
      "H\n",
      "Hilo 2. Mostró 1 caracteres\n",
      "H\n",
      "P\n",
      "Hilo 2. Mostró 2 caracteres\n",
      "g\n",
      "n\n",
      "]\n",
      "Hilo 2. Mostró 3 caracteres\n",
      "S\n",
      "p\n",
      "S\n",
      "T\n",
      "Hilo 2. Mostró 4 caracteres\n",
      "A\n",
      "u\n",
      "G\n",
      "F\n",
      "H\n",
      "Hilo 2. Mostró 5 caracteres\n",
      "p\n",
      "L\n",
      "I\n",
      "s\n",
      "G\n",
      "y\n",
      "Hilo 2. Mostró 6 caracteres\n",
      "O\n",
      "n\n",
      "L\n",
      "Q\n",
      "_\n",
      "b\n",
      "c\n",
      "Hilo 2. Mostró 7 caracteres\n",
      "a\n",
      "k\n",
      "M\n",
      "x\n",
      "I\n",
      "l\n",
      "e\n",
      "v\n",
      "Hilo 2. Mostró 8 caracteres\n",
      "P\n",
      "N\n",
      "l\n",
      "r\n",
      "q\n",
      "C\n",
      "D\n",
      "N\n",
      "X\n",
      "Hilo 2. Mostró 9 caracteres\n",
      "L\n",
      "E\n",
      "d\n",
      "T\n",
      "w\n",
      "A\n",
      "S\n",
      "\\\n",
      "n\n",
      "n\n",
      "Hilo 2. Mostró 10 caracteres\n"
     ]
    }
   ],
   "source": [
    "!./ej5"
   ]
  },
  {
   "cell_type": "code",
   "execution_count": null,
   "metadata": {
    "collapsed": true
   },
   "outputs": [],
   "source": []
  }
 ],
 "metadata": {
  "kernelspec": {
   "display_name": "Python 2",
   "language": "python",
   "name": "python2"
  },
  "language_info": {
   "codemirror_mode": {
    "name": "ipython",
    "version": 2
   },
   "file_extension": ".py",
   "mimetype": "text/x-python",
   "name": "python",
   "nbconvert_exporter": "python",
   "pygments_lexer": "ipython2",
   "version": "2.7.12"
  }
 },
 "nbformat": 4,
 "nbformat_minor": 1
}
