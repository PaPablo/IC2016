{
 "cells": [
  {
   "cell_type": "markdown",
   "metadata": {},
   "source": [
    "# Trabajo Práctico N°1"
   ]
  },
  {
   "cell_type": "code",
   "execution_count": 1,
   "metadata": {
    "collapsed": true
   },
   "outputs": [],
   "source": [
    "!mkdir TP-1"
   ]
  },
  {
   "cell_type": "code",
   "execution_count": 14,
   "metadata": {
    "collapsed": false
   },
   "outputs": [
    {
     "name": "stdout",
     "output_type": "stream",
     "text": [
      "/home/pablo/gitHub/IC2016/Practica1/TP-1\n"
     ]
    }
   ],
   "source": [
    "%cd TP-1/"
   ]
  },
  {
   "cell_type": "code",
   "execution_count": 2,
   "metadata": {
    "collapsed": false
   },
   "outputs": [
    {
     "name": "stdout",
     "output_type": "stream",
     "text": [
      "Overwriting README.md\n"
     ]
    }
   ],
   "source": [
    "%%writefile README.md\n",
    "ALLENDE, Lucila Abigail\n",
    "SERRUYA ALOISI, Luciano Sebastián\n",
    "TOLEDO MARGALEF, Pablo Adrián"
   ]
  },
  {
   "cell_type": "code",
   "execution_count": 3,
   "metadata": {
    "collapsed": false
   },
   "outputs": [
    {
     "name": "stdout",
     "output_type": "stream",
     "text": [
      "Overwriting ej2.c\n"
     ]
    }
   ],
   "source": [
    "%%writefile ej2.c\n",
    "\n",
    "#include<stdio.h>\n",
    "#include<stdlib.h>\n",
    "#include<unistd.h>\n",
    "\n",
    "#define MAX_ARREGLO 20\n",
    "\n",
    "void inicializarArreglo(int *arrg, int tope){\n",
    "    /*Armamos random seed*/\n",
    "    srand(getpid());\n",
    "    \n",
    "    int i; \n",
    "    \n",
    "    for(i = 0; i < tope; i++){\n",
    "        arrg[i] = rand();\n",
    "    }\n",
    "}\n",
    "int main(void){\n",
    "    \n",
    "    /*Declarar arreglo*/\n",
    "    int arreglo[MAX_ARREGLO];\n",
    "    \n",
    "    \n",
    "    inicializarArreglo(arreglo, MAX_ARREGLO);\n",
    "    \n",
    "    int i;\n",
    "    \n",
    "    /* Recorremos el arreglo y mostramos valores*/\n",
    "    for(i = 0; i < MAX_ARREGLO; i++){\n",
    "        printf(\"El valor del arreglo en la posicion %d es: %d\\n\", i, arreglo[i]);\n",
    "    }\n",
    "    \n",
    "    return 0;\n",
    "}"
   ]
  },
  {
   "cell_type": "code",
   "execution_count": 4,
   "metadata": {
    "collapsed": false
   },
   "outputs": [],
   "source": [
    "!gcc ej2.c -o ej2"
   ]
  },
  {
   "cell_type": "code",
   "execution_count": 5,
   "metadata": {
    "collapsed": false
   },
   "outputs": [
    {
     "name": "stdout",
     "output_type": "stream",
     "text": [
      "El valor del arreglo en la posicion 0 es: 608457142\r\n",
      "El valor del arreglo en la posicion 1 es: 1368295730\r\n",
      "El valor del arreglo en la posicion 2 es: 1432311725\r\n",
      "El valor del arreglo en la posicion 3 es: 2031178862\r\n",
      "El valor del arreglo en la posicion 4 es: 1658223477\r\n",
      "El valor del arreglo en la posicion 5 es: 618251727\r\n",
      "El valor del arreglo en la posicion 6 es: 288868922\r\n",
      "El valor del arreglo en la posicion 7 es: 689709588\r\n",
      "El valor del arreglo en la posicion 8 es: 792122115\r\n",
      "El valor del arreglo en la posicion 9 es: 149519293\r\n",
      "El valor del arreglo en la posicion 10 es: 860421345\r\n",
      "El valor del arreglo en la posicion 11 es: 1232324029\r\n",
      "El valor del arreglo en la posicion 12 es: 606019748\r\n",
      "El valor del arreglo en la posicion 13 es: 1802858376\r\n",
      "El valor del arreglo en la posicion 14 es: 1127782623\r\n",
      "El valor del arreglo en la posicion 15 es: 1259468810\r\n",
      "El valor del arreglo en la posicion 16 es: 282610918\r\n",
      "El valor del arreglo en la posicion 17 es: 2072663766\r\n",
      "El valor del arreglo en la posicion 18 es: 91571911\r\n",
      "El valor del arreglo en la posicion 19 es: 2039304813\r\n"
     ]
    }
   ],
   "source": [
    "!./ej2"
   ]
  },
  {
   "cell_type": "code",
   "execution_count": 147,
   "metadata": {
    "collapsed": false
   },
   "outputs": [
    {
     "name": "stdout",
     "output_type": "stream",
     "text": [
      "Writing ej3.c\n"
     ]
    }
   ],
   "source": [
    "%%writefile ej3.c\n",
    "\n",
    "#include<stdio.h>\n",
    "#include<stdlib.h>\n",
    "#include<unistd.h>\n",
    "#include<pthread.h>\n",
    "\n",
    "#define MAX_ARREGLO 20\n",
    "#define MAX_HILOS 2\n",
    "\n",
    "    \n",
    "void *recorrerArreglo(void *arreglo){ \n",
    "    int i;\n",
    "    int valor;\n",
    "    \n",
    "    /* Recorremos el arreglo y mostramos valores*/\n",
    "    for(i = 0; i < MAX_ARREGLO; i++){\n",
    "        //le pasamos a la var el valor almacenado en el arreglo pasado por parametro\n",
    "        //lo apuntado por el arreglo casteado a puntero a entero\n",
    "        valor = *(int *)(arreglo + i);\n",
    "        printf(\"El valor del arreglo en la posicion %d es: %d\\n\", i, valor);\n",
    "        usleep(100000);\n",
    "        \n",
    "    }\n",
    "    \n",
    "    pthread_exit((void *)0);\n",
    "}\n",
    "\n",
    "void inicializarArreglo(int *arrg, int tope){\n",
    "    /*Armamos random seed*/\n",
    "    srand(getpid());\n",
    "    \n",
    "    int i; \n",
    "    \n",
    "    for(i = 0; i < tope; i++){\n",
    "        arrg[i] = rand();\n",
    "    }\n",
    "}\n",
    "int main(void){\n",
    "    //Declaramos arreglo de enteros\n",
    "    int arreglo[MAX_ARREGLO];\n",
    "    \n",
    "    /*Declaramos arreglo de hilos*/\n",
    "    pthread_t hilos[MAX_HILOS];\n",
    "    \n",
    "    int retval = 0;\n",
    "    \n",
    "    inicializarArreglo(arreglo, MAX_ARREGLO);\n",
    "    \n",
    "    int i;\n",
    "    for(i = 0; i < MAX_HILOS; i++){\n",
    "        /*Creamos hilo*/\n",
    "        printf(\"Hilo %d\\n\",i);\n",
    "        retval = pthread_create(&hilos[i],NULL, &recorrerArreglo, (void *)arreglo);\n",
    "        if(retval != 0){\n",
    "            exit(1);\n",
    "        }\n",
    "        pthread_join(hilos[i], NULL);\n",
    "    }\n",
    "       \n",
    "    return 0;\n",
    "}"
   ]
  },
  {
   "cell_type": "code",
   "execution_count": 148,
   "metadata": {
    "collapsed": false,
    "scrolled": true
   },
   "outputs": [],
   "source": [
    "!gcc ej3.c -pthread -o ej3"
   ]
  },
  {
   "cell_type": "code",
   "execution_count": 149,
   "metadata": {
    "collapsed": false
   },
   "outputs": [
    {
     "name": "stdout",
     "output_type": "stream",
     "text": [
      "Hilo 0\n",
      "El valor del arreglo en la posicion 0 es: 618075171\n",
      "El valor del arreglo en la posicion 1 es: -1138436332\n",
      "El valor del arreglo en la posicion 2 es: -843307817\n",
      "El valor del arreglo en la posicion 3 es: 869121060\n",
      "El valor del arreglo en la posicion 4 es: 657706428\n",
      "El valor del arreglo en la posicion 5 es: 757543885\n",
      "El valor del arreglo en la posicion 6 es: -986896589\n",
      "El valor del arreglo en la posicion 7 es: 465906983\n",
      "El valor del arreglo en la posicion 8 es: 672908589\n",
      "El valor del arreglo en la posicion 9 es: -1574429755\n",
      "El valor del arreglo en la posicion 10 es: 681715739\n",
      "El valor del arreglo en la posicion 11 es: -299326936\n",
      "El valor del arreglo en la posicion 12 es: 149825698\n",
      "El valor del arreglo en la posicion 13 es: -1962349016\n",
      "El valor del arreglo en la posicion 14 es: -796194578\n",
      "El valor del arreglo en la posicion 15 es: 919636744\n",
      "El valor del arreglo en la posicion 16 es: 1328992395\n",
      "El valor del arreglo en la posicion 17 es: 1867462352\n",
      "El valor del arreglo en la posicion 18 es: -2073080010\n",
      "El valor del arreglo en la posicion 19 es: 914648911\n",
      "Hilo 1\n",
      "El valor del arreglo en la posicion 0 es: 618075171\n",
      "El valor del arreglo en la posicion 1 es: -1138436332\n",
      "El valor del arreglo en la posicion 2 es: -843307817\n",
      "El valor del arreglo en la posicion 3 es: 869121060\n",
      "El valor del arreglo en la posicion 4 es: 657706428\n",
      "El valor del arreglo en la posicion 5 es: 757543885\n",
      "El valor del arreglo en la posicion 6 es: -986896589\n",
      "El valor del arreglo en la posicion 7 es: 465906983\n",
      "El valor del arreglo en la posicion 8 es: 672908589\n",
      "El valor del arreglo en la posicion 9 es: -1574429755\n",
      "El valor del arreglo en la posicion 10 es: 681715739\n",
      "El valor del arreglo en la posicion 11 es: -299326936\n",
      "El valor del arreglo en la posicion 12 es: 149825698\n",
      "El valor del arreglo en la posicion 13 es: -1962349016\n",
      "El valor del arreglo en la posicion 14 es: -796194578\n",
      "El valor del arreglo en la posicion 15 es: 919636744\n",
      "El valor del arreglo en la posicion 16 es: 1328992395\n",
      "El valor del arreglo en la posicion 17 es: 1867462352\n",
      "El valor del arreglo en la posicion 18 es: -2073080010\n",
      "El valor del arreglo en la posicion 19 es: 914648911\n"
     ]
    }
   ],
   "source": [
    "!./ej3"
   ]
  },
  {
   "cell_type": "code",
   "execution_count": 150,
   "metadata": {
    "collapsed": false
   },
   "outputs": [
    {
     "name": "stdout",
     "output_type": "stream",
     "text": [
      "60 ej3.c\r\n"
     ]
    }
   ],
   "source": [
    "!wc -l ej3.c"
   ]
  },
  {
   "cell_type": "code",
   "execution_count": 151,
   "metadata": {
    "collapsed": false
   },
   "outputs": [
    {
     "name": "stdout",
     "output_type": "stream",
     "text": [
      "Overwriting ej4.c\n"
     ]
    }
   ],
   "source": [
    "%%writefile ej4.c\n",
    "\n",
    "#include<stdio.h>\n",
    "#include<stdlib.h>\n",
    "#include<unistd.h>\n",
    "#include<pthread.h>\n",
    "\n",
    "\n",
    "#define MAX_CARAC 10\n",
    "#define MAX_HILOS 2\n",
    "\n",
    "\n",
    "/*PREGUNTAMOS SI EL CONTADOR LLEGO AL TOPE,\n",
    "SI LLEGO, SE SALE DEL BUCLE*/\n",
    "\n",
    "\n",
    "/*Variables de caracteres*/\n",
    "char nuevoCarac, viejoCarac = 0;\n",
    "\n",
    "/*Arreglo de hilos*/\n",
    "pthread_t hilos[MAX_HILOS];\n",
    "\n",
    "int contador = 0;\n",
    "\n",
    "char caracAleatorio(void){\n",
    "    /*Hacemos que el random quede entre 65 y 112 (de la A a la z en ASCII)*/\n",
    "    return ((rand() % 57) + 65);\n",
    "}\n",
    "\n",
    "\n",
    "void *muestraCaracter(void *arg){\n",
    "    //Mostramos caracter aleatorio si es distinto al anterior mostrado\n",
    "    while(contador < MAX_CARAC){\n",
    "        if(nuevoCarac != viejoCarac){\n",
    "            printf(\"%c\\n\",nuevoCarac);\n",
    "            usleep(50000);\n",
    "            viejoCarac = nuevoCarac;\n",
    "            contador++;\n",
    "        }\n",
    "    }\n",
    " \n",
    "    pthread_exit((void *)0);\n",
    "}\n",
    "\n",
    "\n",
    "void *generaCaracteres (void *arg){\n",
    "    int retval;\n",
    "    \n",
    "    //semilla aleatoria\n",
    "    srand(getpid());\n",
    "    \n",
    "    //generamos caracter aleatorio\n",
    "    nuevoCarac = caracAleatorio();\n",
    "    \n",
    "    //Creamos hilo consumidor de caracteres\n",
    "    retval = pthread_create(&hilos[1], NULL, &muestraCaracter,NULL);\n",
    "    if(retval != 0)\n",
    "        exit(1);\n",
    "            \n",
    "    //generamos caracteres aleatorios todo el tiempo\n",
    "    while(contador < MAX_CARAC){\n",
    "        nuevoCarac = caracAleatorio();\n",
    "    }\n",
    "    \n",
    "    pthread_exit((void *)0);\n",
    "}\n",
    "\n",
    "int main(void){\n",
    "    int retval = pthread_create(&hilos[0], NULL, &generaCaracteres, NULL);\n",
    "    if(retval != 0)\n",
    "        exit(1);\n",
    "    \n",
    "    pthread_join(hilos[0],NULL);\n",
    "    \n",
    "    //De onda\n",
    "    printf(\"\\n\");\n",
    "    printf(\"caracteres impresos: %d\\n\", contador);\n",
    "    \n",
    "    return 0;\n",
    "    \n",
    "}"
   ]
  },
  {
   "cell_type": "code",
   "execution_count": 152,
   "metadata": {
    "collapsed": false
   },
   "outputs": [],
   "source": [
    "!gcc -pthread ej4.c -o ej4"
   ]
  },
  {
   "cell_type": "code",
   "execution_count": 153,
   "metadata": {
    "collapsed": false
   },
   "outputs": [
    {
     "name": "stdout",
     "output_type": "stream",
     "text": [
      "P\n",
      "]\n",
      "X\n",
      "W\n",
      "R\n",
      "C\n",
      "r\n",
      "y\n",
      "o\n",
      "e\n",
      "\n",
      "caracteres impresos: 10\n"
     ]
    }
   ],
   "source": [
    "!./ej4"
   ]
  },
  {
   "cell_type": "code",
   "execution_count": 187,
   "metadata": {
    "collapsed": false
   },
   "outputs": [
    {
     "name": "stdout",
     "output_type": "stream",
     "text": [
      "Overwriting ej4.c\n"
     ]
    }
   ],
   "source": [
    "%%writefile ej4.c\n",
    "\n",
    "#include<stdio.h>\n",
    "#include<stdlib.h>\n",
    "#include<unistd.h>\n",
    "#include<pthread.h>\n",
    "\n",
    "\n",
    "#define MAX_CARAC 10\n",
    "#define MAX_HILOS 2\n",
    "\n",
    "\n",
    "/*BUCLE INFINITO. SE PREGUNTA SI EL CONTADOR LLEGO AL TOPE.\n",
    "SI LLEGO, SE TERMINA EL HILO*/\n",
    "\n",
    "\n",
    "/*Variables de caracteres*/\n",
    "int retorno;\n",
    "char nuevoCarac, viejoCarac = 0;\n",
    "\n",
    "/*Arreglo de hilos*/\n",
    "pthread_t hilos[MAX_HILOS];\n",
    "\n",
    "int contador = 0;\n",
    "\n",
    "char caracAleatorio(void){\n",
    "    /*Hacemos que el random quede entre 65 y 112 (de la A a la z en ASCII)*/\n",
    "    return ((rand() % 57) + 65);\n",
    "}\n",
    "\n",
    "\n",
    "void *muestraCaracter(void *arg){\n",
    "    //Mostramos caracter aleatorio si es distinto al anterior mostrado\n",
    "    \n",
    "    while(1){\n",
    "        if(contador >= MAX_CARAC){\n",
    "            pthread_exit((void *) 0);\n",
    "        }\n",
    "        else if(nuevoCarac != viejoCarac){\n",
    "            printf(\"%c\\n\",nuevoCarac);\n",
    "            usleep(50000);\n",
    "            viejoCarac = nuevoCarac;\n",
    "            contador++;\n",
    "\n",
    "            //retorno = sched_yield();\n",
    "        }\n",
    "    }\n",
    "    \n",
    "}\n",
    "\n",
    "\n",
    "void *generaCaracteres (void *arg){\n",
    "    int retval;\n",
    "    \n",
    "    //semilla aleatoria\n",
    "    srand(getpid());\n",
    "    \n",
    "    //generamos caracter aleatorio\n",
    "    nuevoCarac = caracAleatorio();\n",
    "    \n",
    "    //Creamos hilo consumidor de caracteres\n",
    "    retval = pthread_create(&hilos[1], NULL, &muestraCaracter,NULL);\n",
    "    if(retval != 0)\n",
    "        exit(1);\n",
    "            \n",
    "    //generamos caracteres aleatorios todo el tiempo\n",
    "    while(1){\n",
    "        nuevoCarac = caracAleatorio();\n",
    "        if (contador >= MAX_CARAC){\n",
    "            pthread_exit((void *) 0);\n",
    "        }\n",
    "      \n",
    "        \n",
    "        /*el pthread_yield no quiere andar, tira warning de que no esta declarada\n",
    "        con el sched, realmente es lo mismo que nada. No se si se lo estara usando mal,\n",
    "        pero si no esta funciona mejor el programa.\n",
    "        Los hilos switchean solos, como en Round Robin.\n",
    "        retorno = sched_yield();*/\n",
    "    }\n",
    "    \n",
    "    \n",
    "}\n",
    "\n",
    "int main(void){\n",
    "    int retval = pthread_create(&hilos[0], NULL, &generaCaracteres, NULL);\n",
    "    if(retval != 0)\n",
    "        exit(1);\n",
    "    \n",
    "    pthread_join(hilos[0],NULL);\n",
    "    \n",
    "    //De onda\n",
    "    printf(\"\\n\");\n",
    "    printf(\"caracteres impresos: %d\\n\", contador);\n",
    "    \n",
    "    return 0;\n",
    "    \n",
    "}"
   ]
  },
  {
   "cell_type": "code",
   "execution_count": 188,
   "metadata": {
    "collapsed": false
   },
   "outputs": [],
   "source": [
    "!gcc ej4.c -pthread -o ej4"
   ]
  },
  {
   "cell_type": "code",
   "execution_count": 189,
   "metadata": {
    "collapsed": false
   },
   "outputs": [
    {
     "name": "stdout",
     "output_type": "stream",
     "text": [
      "V\n",
      "s\n",
      "D\n",
      "i\n",
      "v\n",
      "C\n",
      "m\n",
      "j\n",
      "^\n",
      "R\n",
      "\n",
      "caracteres impresos: 10\n"
     ]
    }
   ],
   "source": [
    "!./ej4"
   ]
  },
  {
   "cell_type": "code",
   "execution_count": 216,
   "metadata": {
    "collapsed": false
   },
   "outputs": [
    {
     "name": "stdout",
     "output_type": "stream",
     "text": [
      "Overwriting ej5.c\n"
     ]
    }
   ],
   "source": [
    "%%writefile ej5.c\n",
    "\n",
    "#include<stdio.h>\n",
    "#include<stdlib.h>\n",
    "#include<unistd.h>\n",
    "#include<pthread.h>\n",
    "#include<sched.h>\n",
    "\n",
    "\n",
    "#define MAX_CARAC 10\n",
    "#define MAX_HILOS 2\n",
    "\n",
    "\n",
    "/*La onda con esto era tener el índice global, que el hilo 1 genere x cantidad de char, y el hilo 2 muestra la x cantidad.\n",
    "Después el hilo 1 genera x+1 char, hilo 2 muestra x+1 chars.\n",
    "Hilo 1 termina de generar los char => se termina ejecución de hilo 1 y se pasa al 2.\n",
    "Hilo 2 termina de mostrar los char => se termina ejecución de hilo 2 y se vuelve al 1.\n",
    "Así hasta que el índice global llegue al MAX_CARAC.\n",
    "El tema es que el sched_yield me parece que no estaría funcionando para lo que se desea.\n",
    "Creo yo que los hilos están switcheando solos y cuando se ejecuta hace cualquier cosa.\n",
    "Habría que ver como hacer para nosotros poder controlar cuándo terminar la ejecución de un hilo y pasar al siguiente\n",
    "y después completar ese hilo y volver al primero.*/\n",
    "\n",
    "\n",
    "/*Arreglo de hilos*/\n",
    "pthread_t hilos[MAX_HILOS];\n",
    "\n",
    "int indice_global = 0;\n",
    "\n",
    "char caracAleatorio(void){\n",
    "    /*Hacemos que el random quede entre 65 y 112 (de la A a la z en ASCII)*/\n",
    "    return ((rand() % 57) + 65);\n",
    "}\n",
    "\n",
    "\n",
    "void *muestraCaracter(void *arreglo){\n",
    "    int i;\n",
    "    char carac_a_mostrar;\n",
    "    while(1){\n",
    "        for (i = 0; i < indice_global; i++){\n",
    "            carac_a_mostrar = * (char *)(arreglo + i);\n",
    "            printf(\"%c\\n\", carac_a_mostrar);\n",
    "        }\n",
    "        //printf(\"Hilo 2. Mostro %d caracteres\\n\", i);\n",
    "        sched_yield();\n",
    "        if(indice_global >= MAX_CARAC)\n",
    "            pthread_exit((void *) 0);\n",
    "    }\n",
    "}\n",
    "\n",
    "\n",
    "void *generaCaracteres (void *arg){\n",
    "    \n",
    "    int retval;\n",
    "    int i;\n",
    "    \n",
    "    /*Variables de caracteres*/\n",
    "    char arregloCarac[MAX_CARAC];\n",
    "    \n",
    "    //semilla aleatoria\n",
    "    srand(getpid());\n",
    "    \n",
    "    arregloCarac[indice_global++] = caracAleatorio();\n",
    "    \n",
    "    //Creamos hilo consumidor de caracteres\n",
    "    retval = pthread_create(&hilos[1], NULL, &muestraCaracter, (void *)arregloCarac);\n",
    "    if(retval != 0)\n",
    "        exit(1);\n",
    "            \n",
    "    //generamos caracteres aleatorios todo el tiempo\n",
    "    while(1){\n",
    "        indice_global++;\n",
    "        for(i = 0; i < indice_global; i++){\n",
    "            arregloCarac[i] = caracAleatorio();\n",
    "        }\n",
    "        //printf(\"Hilo 1. Genero %d caracteres\\n\", i);\n",
    "        sched_yield();\n",
    "        if(indice_global >= MAX_CARAC)\n",
    "            pthread_exit((void *) 0);      \n",
    "    }\n",
    "    \n",
    "}\n",
    "\n",
    "int main(void){\n",
    "    int retval = pthread_create(&hilos[0], NULL, &generaCaracteres, NULL);\n",
    "    if(retval != 0)\n",
    "        exit(1);\n",
    "    \n",
    "    pthread_join(hilos[0],NULL);\n",
    "    \n",
    "    //De onda\n",
    "    printf(\"\\n\");\n",
    "    printf(\"caracteres impresos: %d\\n\", indice_global);\n",
    "    \n",
    "    return 0;\n",
    "    \n",
    "}"
   ]
  },
  {
   "cell_type": "code",
   "execution_count": 217,
   "metadata": {
    "collapsed": false
   },
   "outputs": [],
   "source": [
    "!gcc ej5.c -pthread -o ej5"
   ]
  },
  {
   "cell_type": "code",
   "execution_count": 218,
   "metadata": {
    "collapsed": false
   },
   "outputs": [
    {
     "name": "stdout",
     "output_type": "stream",
     "text": [
      "n\r\n",
      "]\r\n",
      "L\r\n",
      "B\r\n",
      "J\r\n",
      "T\r\n",
      "[\r\n",
      "\\\r\n",
      "N\r\n",
      "T\r\n",
      "\r\n",
      "caracteres impresos: 10\r\n"
     ]
    }
   ],
   "source": [
    "!./ej5"
   ]
  },
  {
   "cell_type": "code",
   "execution_count": 101,
   "metadata": {
    "collapsed": false
   },
   "outputs": [
    {
     "name": "stdout",
     "output_type": "stream",
     "text": [
      "Overwriting ej5.c\n"
     ]
    }
   ],
   "source": [
    "%%writefile ej5.c\n",
    "\n",
    "#include<stdio.h>\n",
    "#include<stdlib.h>\n",
    "#include<unistd.h>\n",
    "#include<pthread.h>\n",
    "#include<sched.h>\n",
    "\n",
    "\n",
    "#define MAX_CARAC 10\n",
    "#define MAX_HILOS 2\n",
    "#define ESPERA 100000\n",
    "\n",
    "\n",
    "\n",
    "\n",
    "/*Arreglo de hilos*/\n",
    "pthread_t hilos[MAX_HILOS];\n",
    "\n",
    "int bandera_hilo = 0;\n",
    "\n",
    "int indice_global = 0;\n",
    "\n",
    "\n",
    "char caracAleatorio(void){\n",
    "    /*Hacemos que el random quede entre 65 y 112 (de la A a la z en ASCII)*/\n",
    "    return ((rand() % 57) + 65);\n",
    "}\n",
    "\n",
    "\n",
    "void *muestraCaracter(void *arreglo){\n",
    "    int i;\n",
    "    char carac_a_mostrar;\n",
    "    \n",
    "    while(1){\n",
    "        \n",
    "        for (i = 0; i < indice_global; i++){\n",
    "            carac_a_mostrar = * (char *)(arreglo + i);\n",
    "            printf(\"%c\\n\", carac_a_mostrar);\n",
    "        }\n",
    "        \n",
    "        printf(\"Hilo 2. Mostró %d caracteres\\n\", i);\n",
    "        usleep(ESPERA);\n",
    "        bandera_hilo = 1;\n",
    "        \n",
    "        if(indice_global >= MAX_CARAC)\n",
    "            pthread_exit((void *) 0);\n",
    "        \n",
    "        while(bandera_hilo);\n",
    "    }\n",
    "}\n",
    "\n",
    "\n",
    "void *generaCaracteres (void *arg){\n",
    "    \n",
    "    int retval;\n",
    "    int i;\n",
    "    \n",
    "    /*Variables de caracteres*/\n",
    "    char arregloCarac[MAX_CARAC];\n",
    "    \n",
    "    //semilla aleatoria\n",
    "    srand(getpid());\n",
    "    \n",
    "    \n",
    "    //Creamos hilo consumidor de caracteres\n",
    "    retval = pthread_create(&hilos[1], NULL, &muestraCaracter, (void *)arregloCarac);\n",
    "    if(retval != 0)\n",
    "        exit(1);\n",
    "            \n",
    "    //generamos caracteres aleatorios todo el tiempo\n",
    "    while(1){\n",
    "        \n",
    "        indice_global++;\n",
    "        \n",
    "        if(indice_global > MAX_CARAC)\n",
    "            pthread_exit((void *) 0);\n",
    "        \n",
    "        for(i = 0; i < indice_global; i++){\n",
    "            arregloCarac[i] = caracAleatorio();\n",
    "        }\n",
    "        \n",
    "        printf(\"Hilo 1. Generó %d caracteres\\n\", i);\n",
    "        usleep(ESPERA);\n",
    "        bandera_hilo = 0;\n",
    "                \n",
    "        while(!bandera_hilo);      \n",
    "    }\n",
    "    \n",
    "}\n",
    "\n",
    "int main(void){\n",
    "    int retval = pthread_create(&hilos[0], NULL, &generaCaracteres, NULL);\n",
    "    if(retval != 0)\n",
    "        exit(1);\n",
    "    \n",
    "    pthread_join(hilos[0],NULL);\n",
    "    \n",
    "    return 0;\n",
    "    \n",
    "}"
   ]
  },
  {
   "cell_type": "code",
   "execution_count": 102,
   "metadata": {
    "collapsed": false
   },
   "outputs": [],
   "source": [
    "!gcc ej5.c -pthread -o ej5"
   ]
  },
  {
   "cell_type": "code",
   "execution_count": 103,
   "metadata": {
    "collapsed": false
   },
   "outputs": [
    {
     "name": "stdout",
     "output_type": "stream",
     "text": [
      "Hilo 1. Generó 1 caracteres\n",
      "x\n",
      "Hilo 2. Mostró 1 caracteres\n",
      "x\n",
      "Hilo 2. Mostró 1 caracteres\n",
      "Hilo 1. Generó 2 caracteres\n",
      "H\n",
      "q\n",
      "Hilo 2. Mostró 2 caracteres\n",
      "Hilo 1. Generó 3 caracteres\n",
      "f\n",
      "e\n",
      "t\n",
      "Hilo 2. Mostró 3 caracteres\n",
      "Hilo 1. Generó 4 caracteres\n",
      "_\n",
      "S\n",
      "E\n",
      "m\n",
      "Hilo 2. Mostró 4 caracteres\n",
      "Hilo 1. Generó 5 caracteres\n",
      "^\n",
      "h\n",
      "c\n",
      "Y\n",
      "\\\n",
      "Hilo 2. Mostró 5 caracteres\n",
      "Hilo 1. Generó 6 caracteres\n",
      "E\n",
      "L\n",
      "y\n",
      "w\n",
      "X\n",
      "u\n",
      "Hilo 2. Mostró 6 caracteres\n",
      "Hilo 1. Generó 7 caracteres\n",
      "B\n",
      "M\n",
      "R\n",
      "^\n",
      "_\n",
      "C\n",
      "y\n",
      "Hilo 2. Mostró 7 caracteres\n",
      "Hilo 1. Generó 8 caracteres\n",
      "d\n",
      "]\n",
      "V\n",
      "s\n",
      "d\n",
      "]\n",
      "o\n",
      "_\n",
      "Hilo 2. Mostró 8 caracteres\n",
      "Hilo 1. Generó 9 caracteres\n",
      "W\n",
      "T\n",
      "q\n",
      "\\\n",
      "H\n",
      "e\n",
      "J\n",
      "A\n",
      "D\n",
      "Hilo 2. Mostró 9 caracteres\n",
      "Hilo 1. Generó 10 caracteres\n",
      "u\n",
      "E\n",
      "P\n",
      "t\n",
      "C\n",
      "w\n",
      "G\n",
      "T\n",
      "K\n",
      "X\n",
      "Hilo 2. Mostró 10 caracteres\n"
     ]
    }
   ],
   "source": [
    "!./ej5"
   ]
  },
  {
   "cell_type": "code",
   "execution_count": null,
   "metadata": {
    "collapsed": true
   },
   "outputs": [],
   "source": []
  }
 ],
 "metadata": {
  "kernelspec": {
   "display_name": "Python 2",
   "language": "python",
   "name": "python2"
  },
  "language_info": {
   "codemirror_mode": {
    "name": "ipython",
    "version": 2
   },
   "file_extension": ".py",
   "mimetype": "text/x-python",
   "name": "python",
   "nbconvert_exporter": "python",
   "pygments_lexer": "ipython2",
   "version": "2.7.12"
  }
 },
 "nbformat": 4,
 "nbformat_minor": 1
}
