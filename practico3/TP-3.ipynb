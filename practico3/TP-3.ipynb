{
 "cells": [
  {
   "cell_type": "markdown",
   "metadata": {},
   "source": [
    "# Trabajo Práctico 3"
   ]
  },
  {
   "cell_type": "code",
   "execution_count": 2,
   "metadata": {
    "collapsed": false
   },
   "outputs": [
    {
     "name": "stdout",
     "output_type": "stream",
     "text": [
      "Overwriting README.md\n"
     ]
    }
   ],
   "source": [
    "%%writefile README.md\n",
    "\n",
    "ALLENDE, Lucila Abigail\n",
    "SERRUYA ALOISI, Luciano Sebastián\n",
    "TOLEDO MARGALEF, Pablo Adrián"
   ]
  },
  {
   "cell_type": "markdown",
   "metadata": {},
   "source": [
    "## Ejercicio 1: multiplicación de matrices cuadradas (secuencial)\n",
    "\n",
    "### Orden de las matrices: 2000"
   ]
  },
  {
   "cell_type": "code",
   "execution_count": 7,
   "metadata": {
    "collapsed": false
   },
   "outputs": [
    {
     "name": "stdout",
     "output_type": "stream",
     "text": [
      "Writing mmCompleta.c\n"
     ]
    }
   ],
   "source": [
    "%%writefile mmCompleta.c\n",
    "\n",
    "#include <stdio.h>\n",
    "\n",
    "#define N 2000\n",
    "\n",
    "double a[N][N];\n",
    "double b[N][N];\n",
    "double c[N][N];\n",
    "\n",
    "void iniMat(double mat[][N], int len, double iniVal)\n",
    "{\n",
    "\tint i, j;\n",
    "\n",
    "\tfor(i = 0; i < len; ++i)\n",
    "\t\tfor(j = 0; j < len; ++j)\n",
    "\t\t\tmat[i][j] = iniVal;\n",
    "}\n",
    "\n",
    "/* Check1Mat: Chequea que la matriz resultante quede con\n",
    " *            el mismo valor en todas sus celdas.\n",
    " * Es un chequeo básico para el caso particular en que\n",
    " * se sabe de ante mano que el resultado tendrá esa forma.\n",
    " * Retorna: 0 en caso correcto (todas las celdas contiene\n",
    " *          finVal. 1 En caso de error (al menos una celda\n",
    " * contiene un valor diferente de finVal).\n",
    " */\n",
    "int Check1Mat(double mat[][N], int len, double finVal)\n",
    "{\n",
    "\tint i, j;\n",
    "\n",
    "\tfor(i = 0; i < len; ++i)\n",
    "\t\tfor(j = 0; j < len; ++j)\n",
    "\t\t\tif(mat[i][j] != finVal)\n",
    "\t\t\t\treturn 1;\n",
    "\treturn 0;\n",
    "}\n",
    "\n",
    "void printMat(double mat[][N], int len)\n",
    "{\n",
    "\tint i, j;\n",
    "\n",
    "\tfor(i = 0; i < len; ++i)\n",
    "\t{\n",
    "\t\tfor(j = 0; j < len; ++j)\n",
    "\t\t\tprintf( \"%.1f \", mat[i][j]);\n",
    "\t\tprintf(\"\\n\");\n",
    "\t}\n",
    "}\n",
    "\n",
    "void mm(void)\n",
    "{\n",
    "\tint i, j, k;\n",
    "\n",
    "\tfor(i = 0; i < N; ++i)\n",
    "\t\tfor(j = 0; j < N; ++j)\n",
    "\t\t\tfor(k = 0; k < N; ++k)\n",
    "\t\t\t\tc[i][j] += a[i][k] * b[k][j];\n",
    "}\n",
    "\n",
    "int main(void)\n",
    "{\n",
    "\tprintf(\"Comienzo ...\\n\");\n",
    "\tiniMat(a, N, 1.0);\n",
    "\tiniMat(b, N, 1.0);\n",
    "\tiniMat(c, N, 0.0);\n",
    "\n",
    "\tprintf(\"Multiplicando ...\\n\");\n",
    "\n",
    "\tmm();\n",
    "\n",
    "\tif(Check1Mat(c, N, N) == 0)\n",
    "\t\tprintf(\"Fin Multiplicación (Resultado correcto)\\n\");\n",
    "\telse\n",
    "\t\tprintf(\"Fin Multiplicación (Resultado INCORRECTO!)\\n\");\n",
    "\n",
    "/*\n",
    "\tprintf(\"Matriz a:\\n\");\n",
    "\tprintMat(a, N);\n",
    "\tprintf(\"Matriz b:\\n\");\n",
    "\tprintMat(b, N);\n",
    "\tprintf(\"Matriz c:\\n\");\n",
    "\tprintMat(c, N);\n",
    "*/\n",
    "\n",
    "\tprintf(\"Fin del programa\\n\");\n",
    "}\n"
   ]
  },
  {
   "cell_type": "code",
   "execution_count": 8,
   "metadata": {
    "collapsed": true
   },
   "outputs": [],
   "source": [
    "!gcc mmCompleta.c -o mmCompleta"
   ]
  },
  {
   "cell_type": "markdown",
   "metadata": {},
   "source": [
    "#### Pasamos a realizar las pruebas de tiempo. Corriendo tres veces seguidas el programa sin carga del sistema, tres veces y haciendo un promedio de los tres tiempos"
   ]
  },
  {
   "cell_type": "code",
   "execution_count": 5,
   "metadata": {
    "collapsed": false
   },
   "outputs": [
    {
     "name": "stdout",
     "output_type": "stream",
     "text": [
      "Comienzo ...\n",
      "Multiplicando ...\n",
      "Fin Multiplicación (Resultado correcto)\n",
      "Fin del programa\n",
      "66.19user 0.03system 1:06.24elapsed 99%CPU (0avgtext+0avgdata 94956maxresident)k\n",
      "0inputs+0outputs (0major+1014minor)pagefaults 0swaps\n",
      "Comienzo ...\n",
      "Multiplicando ...\n",
      "Fin Multiplicación (Resultado correcto)\n",
      "Fin del programa\n",
      "66.04user 0.08system 1:06.13elapsed 99%CPU (0avgtext+0avgdata 95016maxresident)k\n",
      "0inputs+0outputs (0major+1015minor)pagefaults 0swaps\n",
      "Comienzo ...\n",
      "Multiplicando ...\n",
      "Fin Multiplicación (Resultado correcto)\n",
      "Fin del programa\n",
      "66.11user 0.07system 1:06.21elapsed 99%CPU (0avgtext+0avgdata 94968maxresident)k\n",
      "0inputs+0outputs (0major+1015minor)pagefaults 0swaps\n"
     ]
    }
   ],
   "source": [
    "!time ./mmCompleta && time ./mmCompleta && time ./mmCompleta"
   ]
  },
  {
   "cell_type": "markdown",
   "metadata": {},
   "source": [
    "`Promedio de tiempo: (66.24 + 66.13 + 66.2) / 3 = 66.19 = 1:06.19` \n"
   ]
  },
  {
   "cell_type": "markdown",
   "metadata": {},
   "source": [
    "#### Ahora realizamos la misma prueba con una matriz de la mitad del tamaño de la anterior"
   ]
  },
  {
   "cell_type": "code",
   "execution_count": 23,
   "metadata": {
    "collapsed": false
   },
   "outputs": [
    {
     "name": "stdout",
     "output_type": "stream",
     "text": [
      "Overwriting mmMitad.c\n"
     ]
    }
   ],
   "source": [
    "%%writefile mmMitad.c\n",
    "\n",
    "#include <stdio.h>\n",
    "\n",
    "#define N 1000\n",
    "\n",
    "double a[N][N];\n",
    "double b[N][N];\n",
    "double c[N][N];\n",
    "\n",
    "void iniMat(double mat[][N], int len, double iniVal)\n",
    "{\n",
    "\tint i, j;\n",
    "\n",
    "\tfor(i = 0; i < len; ++i)\n",
    "\t\tfor(j = 0; j < len; ++j)\n",
    "\t\t\tmat[i][j] = iniVal;\n",
    "}\n",
    "\n",
    "/* Check1Mat: Chequea que la matriz resultante quede con\n",
    " *            el mismo valor en todas sus celdas.\n",
    " * Es un chequeo básico para el caso particular en que\n",
    " * se sabe de ante mano que el resultado tendrá esa forma.\n",
    " * Retorna: 0 en caso correcto (todas las celdas contiene\n",
    " *          finVal. 1 En caso de error (al menos una celda\n",
    " * contiene un valor diferente de finVal).\n",
    " */\n",
    "int Check1Mat(double mat[][N], int len, double finVal)\n",
    "{\n",
    "\tint i, j;\n",
    "\n",
    "\tfor(i = 0; i < len; ++i)\n",
    "\t\tfor(j = 0; j < len; ++j)\n",
    "\t\t\tif(mat[i][j] != finVal)\n",
    "\t\t\t\treturn 1;\n",
    "\treturn 0;\n",
    "}\n",
    "\n",
    "void printMat(double mat[][N], int len)\n",
    "{\n",
    "\tint i, j;\n",
    "\n",
    "\tfor(i = 0; i < len; ++i)\n",
    "\t{\n",
    "\t\tfor(j = 0; j < len; ++j)\n",
    "\t\t\tprintf( \"%.1f \", mat[i][j]);\n",
    "\t\tprintf(\"\\n\");\n",
    "\t}\n",
    "}\n",
    "\n",
    "void mm(void)\n",
    "{\n",
    "\tint i, j, k;\n",
    "\n",
    "\tfor(i = 0; i < N; ++i)\n",
    "\t\tfor(j = 0; j < N; ++j)\n",
    "\t\t\tfor(k = 0; k < N; ++k)\n",
    "\t\t\t\tc[i][j] += a[i][k] * b[k][j];\n",
    "}\n",
    "\n",
    "int main(void)\n",
    "{\n",
    "\tprintf(\"Comienzo ...\\n\");\n",
    "\tiniMat(a, N, 1.0);\n",
    "\tiniMat(b, N, 1.0);\n",
    "\tiniMat(c, N, 0.0);\n",
    "\n",
    "\tprintf(\"Multiplicando ...\\n\");\n",
    "\n",
    "\tmm();\n",
    "\n",
    "\tif(Check1Mat(c, N, N) == 0)\n",
    "\t\tprintf(\"Fin Multiplicación (Resultado correcto)\\n\");\n",
    "\telse\n",
    "\t\tprintf(\"Fin Multiplicación (Resultado INCORRECTO!)\\n\");\n",
    "\n",
    "/*\n",
    "\tprintf(\"Matriz a:\\n\");\n",
    "\tprintMat(a, N);\n",
    "\tprintf(\"Matriz b:\\n\");\n",
    "\tprintMat(b, N);\n",
    "\tprintf(\"Matriz c:\\n\");\n",
    "\tprintMat(c, N);\n",
    "*/\n",
    "\n",
    "\tprintf(\"Fin del programa\\n\");\n",
    "}\n"
   ]
  },
  {
   "cell_type": "code",
   "execution_count": 24,
   "metadata": {
    "collapsed": false
   },
   "outputs": [],
   "source": [
    "!gcc mmMitad.c -o mmMitad"
   ]
  },
  {
   "cell_type": "code",
   "execution_count": 25,
   "metadata": {
    "collapsed": false
   },
   "outputs": [
    {
     "name": "stdout",
     "output_type": "stream",
     "text": [
      "Comienzo ...\n",
      "Multiplicando ...\n",
      "Fin Multiplicación (Resultado correcto)\n",
      "Fin del programa\n",
      "7.77user 0.01system 0:07.81elapsed 99%CPU (0avgtext+0avgdata 24656maxresident)k\n",
      "0inputs+0outputs (0major+811minor)pagefaults 0swaps\n",
      "Comienzo ...\n",
      "Multiplicando ...\n",
      "Fin Multiplicación (Resultado correcto)\n",
      "Fin del programa\n",
      "7.80user 0.00system 0:07.81elapsed 99%CPU (0avgtext+0avgdata 24656maxresident)k\n",
      "0inputs+0outputs (0major+813minor)pagefaults 0swaps\n",
      "Comienzo ...\n",
      "Multiplicando ...\n",
      "Fin Multiplicación (Resultado correcto)\n",
      "Fin del programa\n",
      "7.78user 0.01system 0:07.80elapsed 99%CPU (0avgtext+0avgdata 24740maxresident)k\n",
      "0inputs+0outputs (0major+812minor)pagefaults 0swaps\n"
     ]
    }
   ],
   "source": [
    "!time ./mmMitad && time ./mmMitad && time ./mmMitad"
   ]
  },
  {
   "cell_type": "markdown",
   "metadata": {},
   "source": [
    "`Promedio de ejecución: (7.81 + 7.81 + 7.80) / 3 = 7.806`"
   ]
  },
  {
   "cell_type": "markdown",
   "metadata": {},
   "source": [
    "### Ejercicio 2: Pruebas con banderas"
   ]
  },
  {
   "cell_type": "code",
   "execution_count": 36,
   "metadata": {
    "collapsed": true
   },
   "outputs": [],
   "source": [
    "!gcc mmCompleta.c -o mmCompleta -O0"
   ]
  },
  {
   "cell_type": "code",
   "execution_count": 37,
   "metadata": {
    "collapsed": false
   },
   "outputs": [
    {
     "name": "stdout",
     "output_type": "stream",
     "text": [
      "Comienzo ...\n",
      "Multiplicando ...\n",
      "Fin Multiplicación (Resultado correcto)\n",
      "Fin del programa\n",
      "66.47user 0.02system 1:06.54elapsed 99%CPU (0avgtext+0avgdata 95012maxresident)k\n",
      "0inputs+0outputs (0major+1016minor)pagefaults 0swaps\n",
      "Comienzo ...\n",
      "Multiplicando ...\n",
      "Fin Multiplicación (Resultado correcto)\n",
      "Fin del programa\n",
      "66.13user 0.01system 1:06.16elapsed 99%CPU (0avgtext+0avgdata 95008maxresident)k\n",
      "0inputs+0outputs (0major+1014minor)pagefaults 0swaps\n",
      "Comienzo ...\n",
      "Multiplicando ...\n",
      "Fin Multiplicación (Resultado correcto)\n",
      "Fin del programa\n",
      "66.31user 0.04system 1:06.37elapsed 99%CPU (0avgtext+0avgdata 95124maxresident)k\n",
      "0inputs+0outputs (0major+1017minor)pagefaults 0swaps\n"
     ]
    }
   ],
   "source": [
    "!time ./mmCompleta && time ./mmCompleta && time ./mmCompleta"
   ]
  },
  {
   "cell_type": "code",
   "execution_count": 38,
   "metadata": {
    "collapsed": true
   },
   "outputs": [],
   "source": [
    "!gcc mmCompleta.c -o mmCompleta -O1"
   ]
  },
  {
   "cell_type": "code",
   "execution_count": 39,
   "metadata": {
    "collapsed": false
   },
   "outputs": [
    {
     "name": "stdout",
     "output_type": "stream",
     "text": [
      "Comienzo ...\n",
      "Multiplicando ...\n",
      "Fin Multiplicación (Resultado correcto)\n",
      "Fin del programa\n",
      "22.26user 0.04system 0:22.31elapsed 99%CPU (0avgtext+0avgdata 94916maxresident)k\n",
      "0inputs+0outputs (0major+1015minor)pagefaults 0swaps\n",
      "Comienzo ...\n",
      "Multiplicando ...\n",
      "Fin Multiplicación (Resultado correcto)\n",
      "Fin del programa\n",
      "22.24user 0.00system 0:22.27elapsed 99%CPU (0avgtext+0avgdata 94984maxresident)k\n",
      "0inputs+0outputs (0major+1016minor)pagefaults 0swaps\n",
      "Comienzo ...\n",
      "Multiplicando ...\n",
      "Fin Multiplicación (Resultado correcto)\n",
      "Fin del programa\n",
      "22.23user 0.02system 0:22.26elapsed 99%CPU (0avgtext+0avgdata 95008maxresident)k\n",
      "0inputs+0outputs (0major+1013minor)pagefaults 0swaps\n"
     ]
    }
   ],
   "source": [
    "!time ./mmCompleta && time ./mmCompleta && time ./mmCompleta"
   ]
  },
  {
   "cell_type": "code",
   "execution_count": 40,
   "metadata": {
    "collapsed": true
   },
   "outputs": [],
   "source": [
    "!gcc mmCompleta.c -o mmCompleta -O2"
   ]
  },
  {
   "cell_type": "code",
   "execution_count": 41,
   "metadata": {
    "collapsed": false
   },
   "outputs": [
    {
     "name": "stdout",
     "output_type": "stream",
     "text": [
      "Comienzo ...\n",
      "Multiplicando ...\n",
      "Fin Multiplicación (Resultado correcto)\n",
      "Fin del programa\n",
      "22.65user 0.02system 0:22.70elapsed 99%CPU (0avgtext+0avgdata 95000maxresident)k\n",
      "0inputs+0outputs (0major+1015minor)pagefaults 0swaps\n",
      "Comienzo ...\n",
      "Multiplicando ...\n",
      "Fin Multiplicación (Resultado correcto)\n",
      "Fin del programa\n",
      "22.69user 0.02system 0:22.73elapsed 99%CPU (0avgtext+0avgdata 95056maxresident)k\n",
      "0inputs+0outputs (0major+1018minor)pagefaults 0swaps\n",
      "Comienzo ...\n",
      "Multiplicando ...\n",
      "Fin Multiplicación (Resultado correcto)\n",
      "Fin del programa\n",
      "22.78user 0.02system 0:22.84elapsed 99%CPU (0avgtext+0avgdata 95052maxresident)k\n",
      "0inputs+0outputs (0major+1016minor)pagefaults 0swaps\n"
     ]
    }
   ],
   "source": [
    "!time ./mmCompleta && time ./mmCompleta && time ./mmCompleta"
   ]
  },
  {
   "cell_type": "code",
   "execution_count": 42,
   "metadata": {
    "collapsed": true
   },
   "outputs": [],
   "source": [
    "!gcc mmCompleta.c -o mmCompleta -O3"
   ]
  },
  {
   "cell_type": "code",
   "execution_count": 43,
   "metadata": {
    "collapsed": false
   },
   "outputs": [
    {
     "name": "stdout",
     "output_type": "stream",
     "text": [
      "Comienzo ...\n",
      "Multiplicando ...\n",
      "Fin Multiplicación (Resultado correcto)\n",
      "Fin del programa\n",
      "15.63user 0.02system 0:15.69elapsed 99%CPU (0avgtext+0avgdata 94980maxresident)k\n",
      "0inputs+0outputs (0major+1016minor)pagefaults 0swaps\n",
      "Comienzo ...\n",
      "Multiplicando ...\n",
      "Fin Multiplicación (Resultado correcto)\n",
      "Fin del programa\n",
      "15.64user 0.02system 0:15.67elapsed 99%CPU (0avgtext+0avgdata 94988maxresident)k\n",
      "0inputs+0outputs (0major+1014minor)pagefaults 0swaps\n",
      "Comienzo ...\n",
      "Multiplicando ...\n",
      "Fin Multiplicación (Resultado correcto)\n",
      "Fin del programa\n",
      "15.76user 0.02system 0:15.79elapsed 99%CPU (0avgtext+0avgdata 95024maxresident)k\n",
      "0inputs+0outputs (0major+1016minor)pagefaults 0swaps\n"
     ]
    }
   ],
   "source": [
    "!time ./mmCompleta && time ./mmCompleta && time ./mmCompleta"
   ]
  },
  {
   "cell_type": "markdown",
   "metadata": {},
   "source": [
    "### Ejercicio 3: Matriz completa en paralelo"
   ]
  },
  {
   "cell_type": "code",
   "execution_count": 44,
   "metadata": {
    "collapsed": false
   },
   "outputs": [
    {
     "name": "stdout",
     "output_type": "stream",
     "text": [
      "Writing ej3.c\n"
     ]
    }
   ],
   "source": [
    "%%writefile ej3.c\n",
    "\n",
    "/* Introducción a la Concurrencia 2016\n",
    " *\n",
    " * Ejemplo de multiplicación de matrices.\n",
    " * Programa secuencial.\n",
    " *\n",
    " */\n",
    "\n",
    "#include <stdio.h>\n",
    "#include <omp.h>\n",
    "\n",
    "#define N 2000\n",
    "\n",
    "double a[N][N];\n",
    "double b[N][N];\n",
    "double c[N][N];\n",
    "\n",
    "void iniMat(double mat[][N], int len, double iniVal)\n",
    "{\n",
    "\tfor(int i = 0; i < len; ++i)\n",
    "\t\tfor(int j = 0; j < len; ++j)\n",
    "\t\t\tmat[i][j] = iniVal;\n",
    "}\n",
    "\n",
    "/* Check1Mat: Chequea que la matriz resultante quede con\n",
    " *            el mismo valor en todas sus celdas.\n",
    " * Es un chequeo básico para el caso particular en que\n",
    " * se sabe de ante mano que el resultado tendrá esa forma.\n",
    " * Retorna: 0 en caso correcto (todas las celdas contiene\n",
    " *          finVal. 1 En caso de error (al menos una celda\n",
    " * contiene un valor diferente de finVal).\n",
    " */\n",
    "int Check1Mat(double mat[][N], int len, double finVal)\n",
    "{\n",
    "\tint i, j;\n",
    "\n",
    "\tfor(i = 0; i < len; ++i)\n",
    "\t\tfor(j = 0; j < len; ++j)\n",
    "\t\t\tif(mat[i][j] != finVal)\n",
    "\t\t\t\treturn 1;\n",
    "\treturn 0;\n",
    "}\n",
    "void printMat(double mat[][N], int len)\n",
    "{\n",
    "\tint i, j;\n",
    "\n",
    "\tfor(i = 0; i < len; ++i)\n",
    "\t{\n",
    "\t\tfor(j = 0; j < len; ++j)\n",
    "\t\t\tprintf( \"%.1f \", mat[i][j]);\n",
    "\t\tprintf(\"\\n\");\n",
    "\t}\n",
    "}\n",
    "\n",
    "void mm(void){        \n",
    "    \n",
    "    #pragma omp parallel for\n",
    "    //maneja las filas\n",
    "    for(int i = 0; i < N; ++i){\n",
    "        //maneja las columnas\n",
    "        for(int j = 0; j < N; ++j){\n",
    "            //calcular una celda de la resultante\n",
    "            for(int k = 0; k < N; ++k){\n",
    "                c[i][j] += a[i][k] * b[k][j];   \n",
    "            }\n",
    "        }             \n",
    "    }\n",
    "\n",
    "}\n",
    "\n",
    "int main(void)\n",
    "{\n",
    "\tprintf(\"Comienzo ...\\n\");\n",
    "\tiniMat(a, N, 1.0);\n",
    "\tiniMat(b, N, 1.0);\n",
    "\tiniMat(c, N, 0.0);\n",
    "\n",
    "\tprintf(\"Multiplicando ...\\n\");\n",
    "\n",
    "\tmm();\n",
    "\n",
    "\tif(Check1Mat(c, N, N) == 0)\n",
    "\t\tprintf(\"Fin Multiplicación (Resultado correcto)\\n\");\n",
    "\telse\n",
    "\t\tprintf(\"Fin Multiplicación (Resultado INCORRECTO!)\\n\");\n",
    "\n",
    "\tprintf(\"Fin del programa\\n\");\n",
    "}\n"
   ]
  },
  {
   "cell_type": "code",
   "execution_count": 47,
   "metadata": {
    "collapsed": true
   },
   "outputs": [],
   "source": [
    "!gcc ej3.c -o ej3 -fopenmp"
   ]
  },
  {
   "cell_type": "code",
   "execution_count": 49,
   "metadata": {
    "collapsed": false
   },
   "outputs": [
    {
     "name": "stdout",
     "output_type": "stream",
     "text": [
      "Comienzo ...\n",
      "Multiplicando ...\n",
      "Fin Multiplicación (Resultado correcto)\n",
      "Fin del programa\n",
      "66.36user 0.10system 0:34.72elapsed 191%CPU (0avgtext+0avgdata 95400maxresident)k\n",
      "0inputs+0outputs (0major+1549minor)pagefaults 0swaps\n",
      "Comienzo ...\n",
      "Multiplicando ...\n",
      "Fin Multiplicación (Resultado correcto)\n",
      "Fin del programa\n",
      "66.44user 0.05system 0:34.66elapsed 191%CPU (0avgtext+0avgdata 95260maxresident)k\n",
      "0inputs+0outputs (0major+1035minor)pagefaults 0swaps\n",
      "Comienzo ...\n",
      "Multiplicando ...\n",
      "Fin Multiplicación (Resultado correcto)\n",
      "Fin del programa\n",
      "66.54user 0.04system 0:34.76elapsed 191%CPU (0avgtext+0avgdata 95344maxresident)k\n",
      "0inputs+0outputs (0major+1040minor)pagefaults 0swaps\n"
     ]
    }
   ],
   "source": [
    "!time ./ej3 && time ./ej3 && time ./ej3"
   ]
  },
  {
   "cell_type": "markdown",
   "metadata": {},
   "source": [
    "`Tiempo promedio: 34.71 seg`"
   ]
  },
  {
   "cell_type": "markdown",
   "metadata": {},
   "source": [
    "#### La paralelización de la matriz se realiza por filas.  \n",
    "#### Se aprovecharía al máximo la propiedad de la localidad de referencia, si se disponen los elementos de la matriz A por filas, y los elementos de la matriz B por columnas, es decir, su traspuesta."
   ]
  },
  {
   "cell_type": "markdown",
   "metadata": {},
   "source": [
    "### Ejercicio 4: Cree un programa que muestre el ID de cada hilo en un bloque paralelo de OpenMP"
   ]
  },
  {
   "cell_type": "code",
   "execution_count": 73,
   "metadata": {
    "collapsed": false
   },
   "outputs": [
    {
     "name": "stdout",
     "output_type": "stream",
     "text": [
      "Overwriting ej4.c\n"
     ]
    }
   ],
   "source": [
    "%%writefile ej4.c \n",
    "\n",
    "#include <omp.h>\n",
    "#include <stdio.h>\n",
    "\n",
    "int main(void){\n",
    "    \n",
    "    #pragma omp parallel \n",
    "    {\n",
    "        int ID = omp_get_thread_num();\n",
    "        printf(\"Hilo:%d\\n\", ID);\n",
    "    }\n",
    "}"
   ]
  },
  {
   "cell_type": "code",
   "execution_count": 74,
   "metadata": {
    "collapsed": false
   },
   "outputs": [],
   "source": [
    "!gcc ej4.c -o ej4 -fopenmp"
   ]
  },
  {
   "cell_type": "code",
   "execution_count": 75,
   "metadata": {
    "collapsed": false
   },
   "outputs": [
    {
     "name": "stdout",
     "output_type": "stream",
     "text": [
      "Hilo:0\r\n",
      "Hilo:1\r\n"
     ]
    }
   ],
   "source": [
    "!./ej4\n"
   ]
  },
  {
   "cell_type": "markdown",
   "metadata": {},
   "source": [
    "### Ejercicio 5: Sumatoria de arreglo (1000 posiciones)"
   ]
  },
  {
   "cell_type": "code",
   "execution_count": 98,
   "metadata": {
    "collapsed": false
   },
   "outputs": [
    {
     "name": "stdout",
     "output_type": "stream",
     "text": [
      "Overwriting ej5.c\n"
     ]
    }
   ],
   "source": [
    "%%writefile ej5.c\n",
    "\n",
    "#include <stdio.h>\n",
    "#include <unistd.h>\n",
    "#define MAX 1000\n",
    "\n",
    "\n",
    "void iniArreglo(int *a){\n",
    "    int i;\n",
    "    for(i = 0; i < MAX; i++){\n",
    "        a[i] = i;\n",
    "    }\n",
    "}\n",
    "\n",
    "int sumatoria(int *a){\n",
    "    int valor = 0;\n",
    "    int i;\n",
    "    \n",
    "    for(i = 0; i < MAX; i++){\n",
    "        valor += a[i];\n",
    "        usleep(10);\n",
    "        /*agregamos espera para que se note la diferencia\n",
    "        entre la ejecución paralela y secuencial*/\n",
    "    }\n",
    "    return valor;\n",
    "}\n",
    "\n",
    "int main(void){\n",
    "    int arreglo[MAX];\n",
    "    \n",
    "    iniArreglo(arreglo);\n",
    "    \n",
    "    int acum = sumatoria(arreglo);\n",
    "    \n",
    "    printf(\"Valor del acumulador: %d\\n\", acum);\n",
    "    \n",
    "    return 0;\n",
    "}"
   ]
  },
  {
   "cell_type": "code",
   "execution_count": 99,
   "metadata": {
    "collapsed": true
   },
   "outputs": [],
   "source": [
    "!gcc ej5.c -o ej5"
   ]
  },
  {
   "cell_type": "code",
   "execution_count": 100,
   "metadata": {
    "collapsed": false
   },
   "outputs": [
    {
     "name": "stdout",
     "output_type": "stream",
     "text": [
      "Valor del acumulador: 499500\r\n",
      "0.00user 0.00system 0:00.06elapsed 0%CPU (0avgtext+0avgdata 1380maxresident)k\r\n",
      "0inputs+0outputs (0major+65minor)pagefaults 0swaps\r\n"
     ]
    }
   ],
   "source": [
    "!time ./ej5"
   ]
  },
  {
   "cell_type": "markdown",
   "metadata": {},
   "source": [
    "### Ejercicio 6: Sumatoria paralela"
   ]
  },
  {
   "cell_type": "code",
   "execution_count": 101,
   "metadata": {
    "collapsed": false
   },
   "outputs": [
    {
     "name": "stdout",
     "output_type": "stream",
     "text": [
      "Overwriting ej6.c\n"
     ]
    }
   ],
   "source": [
    "%%writefile ej6.c\n",
    "\n",
    "#include <stdio.h>\n",
    "#include <omp.h>\n",
    "#include <unistd.h>\n",
    "\n",
    "#define MAX 1000\n",
    "\n",
    "\n",
    "void iniArreglo(int *a){\n",
    "    int i;\n",
    "    for(i = 0; i < MAX; i++){\n",
    "        a[i] = i;\n",
    "    }\n",
    "}\n",
    "\n",
    "int sumatoria(int *a){\n",
    "    int valor;\n",
    "    int i;\n",
    "    \n",
    "    #pragma omp parallel for reduction(+:valor)\n",
    "    for(i = 0; i < MAX; i++){\n",
    "        valor += a[i];\n",
    "        usleep(10);  \n",
    "        /*agregamos espera para que se note la diferencia\n",
    "        entre la ejecución paralela y secuencial*/\n",
    "    }\n",
    "    return valor;\n",
    "}\n",
    "\n",
    "int main(void){\n",
    "    int arreglo[MAX];\n",
    "    \n",
    "    iniArreglo(arreglo);\n",
    "    \n",
    "    int acum = sumatoria(arreglo);\n",
    "    \n",
    "    printf(\"Valor del acumulador: %d\\n\", acum);\n",
    "    \n",
    "    return 0;\n",
    "}"
   ]
  },
  {
   "cell_type": "code",
   "execution_count": 102,
   "metadata": {
    "collapsed": true
   },
   "outputs": [],
   "source": [
    "!gcc ej6.c -o ej6 -fopenmp"
   ]
  },
  {
   "cell_type": "code",
   "execution_count": 103,
   "metadata": {
    "collapsed": false
   },
   "outputs": [
    {
     "name": "stdout",
     "output_type": "stream",
     "text": [
      "Valor del acumulador: 499500\r\n",
      "0.00user 0.00system 0:00.03elapsed 21%CPU (0avgtext+0avgdata 1720maxresident)k\r\n",
      "0inputs+0outputs (0major+90minor)pagefaults 0swaps\r\n"
     ]
    }
   ],
   "source": [
    "!time ./ej6"
   ]
  },
  {
   "cell_type": "markdown",
   "metadata": {},
   "source": [
    "### Ejercicio 7: Implementación (secuencial) de integral"
   ]
  },
  {
   "cell_type": "code",
   "execution_count": 4,
   "metadata": {
    "collapsed": false
   },
   "outputs": [
    {
     "name": "stdout",
     "output_type": "stream",
     "text": [
      "Overwriting ej7.c\n"
     ]
    }
   ],
   "source": [
    "%%writefile ej7.c\n",
    "\n",
    "#include<stdio.h>\n",
    "#include<unistd.h>\n",
    "\n",
    "int num_steps = 100000;\n",
    "double step;\n",
    "int main(){\n",
    "    int i;\n",
    "    double x, pi, sum = 0.0;\n",
    "    double incremento = (double)num_steps / (num_steps * 2); \n",
    "    \n",
    "    step = 1.0/(double)num_steps;\n",
    "\n",
    "    \n",
    "    for(i=0; i < num_steps; i++){\n",
    "        x = (i + incremento)*step;\n",
    "        sum += 4.0/(1.0+(x*x));\n",
    "        usleep(1);\n",
    "    }\n",
    "    \n",
    "    pi = step*sum;\n",
    "    \n",
    "    printf(\"PI = %.50f\\n\", pi);\n",
    "    return 0;\n",
    "}"
   ]
  },
  {
   "cell_type": "code",
   "execution_count": 5,
   "metadata": {
    "collapsed": true
   },
   "outputs": [],
   "source": [
    "!gcc ej7.c -o ej7"
   ]
  },
  {
   "cell_type": "code",
   "execution_count": 6,
   "metadata": {
    "collapsed": false
   },
   "outputs": [
    {
     "name": "stdout",
     "output_type": "stream",
     "text": [
      "PI = 3.14159265359816153306837804848328232765197753906250\r\n",
      "0.03user 0.32system 0:05.71elapsed 6%CPU (0avgtext+0avgdata 1372maxresident)k\r\n",
      "0inputs+0outputs (0major+63minor)pagefaults 0swaps\r\n"
     ]
    }
   ],
   "source": [
    "!time ./ej7"
   ]
  },
  {
   "cell_type": "markdown",
   "metadata": {},
   "source": [
    "### Ejercicio 8: Implementación (paralela) de integral"
   ]
  },
  {
   "cell_type": "code",
   "execution_count": 1,
   "metadata": {
    "collapsed": false
   },
   "outputs": [
    {
     "name": "stdout",
     "output_type": "stream",
     "text": [
      "Overwriting ej8.c\n"
     ]
    }
   ],
   "source": [
    "%%writefile ej8.c\n",
    "\n",
    "#include<stdio.h>\n",
    "#include<unistd.h>\n",
    "#include<omp.h>\n",
    "\n",
    "int num_steps = 100000;\n",
    "double step;\n",
    "int main(){\n",
    "    int i;\n",
    "    double x, pi, sum;\n",
    "    double incremento = (double)num_steps / (num_steps * 2); \n",
    "    \n",
    "    step = 1.0/(double)num_steps;\n",
    "\n",
    "    #pragma omp parallel for reduction(+:sum)\n",
    "    for(i=0; i < num_steps; i++){\n",
    "        x = (i + incremento)*step;\n",
    "        sum += 4.0/(1.0+(x*x));        \n",
    "        usleep(1);\n",
    "    }\n",
    "    \n",
    "    pi = step*sum;\n",
    "    \n",
    "    printf(\"PI = %.50f\\n\", pi);\n",
    "    return 0;\n",
    "}"
   ]
  },
  {
   "cell_type": "code",
   "execution_count": 2,
   "metadata": {
    "collapsed": true
   },
   "outputs": [],
   "source": [
    "!gcc ej8.c -o ej8 -fopenmp"
   ]
  },
  {
   "cell_type": "code",
   "execution_count": 3,
   "metadata": {
    "collapsed": false
   },
   "outputs": [
    {
     "name": "stdout",
     "output_type": "stream",
     "text": [
      "PI = 3.14159265359812556184238019341137260198593139648438\r\n",
      "0.04user 0.11system 0:00.76elapsed 20%CPU (0avgtext+0avgdata 1772maxresident)k\r\n",
      "0inputs+0outputs (0major+96minor)pagefaults 0swaps\r\n"
     ]
    }
   ],
   "source": [
    "!time ./ej8"
   ]
  },
  {
   "cell_type": "markdown",
   "metadata": {
    "collapsed": true
   },
   "source": [
    "### Ejercicio 9: investigación sobre compiladores y lenguajes que soportan OpenMP\n",
    "\n",
    "    Proveedor: Oracle\n",
    "    Compilador: C/C++ / Fortran\n",
    "    Bandera de compilación correspondiente a OMP: -xopenmp (Solaris y Linux)\n",
    "    \n",
    "    Proveedor: Intel\n",
    "    Compilador: C/C++ / Fortran\n",
    "    Bandera de compilación correspondiente a OMP: -Qopenmp (Windows); -openmp (Linux y Mac OSX)\n",
    "    \n",
    "    Proveedor: PGI\n",
    "    Compilador: C/C++ / Fortran\n",
    "    Bandera de compilación correspondiente a OMP: -mp (todas las plataformas)\n",
    "    \n",
    "    \n",
    "    OpenMP está diseñado para Fortran, C y C++. Otros lenguajes implementan ciertas herramientas y extensiones (no oficiales de OpenMP) para utilizar las bibliotecas y directivas de OMP. \n",
    "    \n",
    "    Algunos ejemplos son:\n",
    "    \n",
    "    Cython: lenguaje de programación (superconjunto de Python) que une Python con el sistema de tipado estático de C y C++.\n",
    "    \n",
    "    omp4j: preprocesador de código abierto similiar a OpenMP para Java "
   ]
  },
  {
   "cell_type": "code",
   "execution_count": null,
   "metadata": {
    "collapsed": true
   },
   "outputs": [],
   "source": []
  }
 ],
 "metadata": {
  "kernelspec": {
   "display_name": "Python 2",
   "language": "python",
   "name": "python2"
  },
  "language_info": {
   "codemirror_mode": {
    "name": "ipython",
    "version": 2
   },
   "file_extension": ".py",
   "mimetype": "text/x-python",
   "name": "python",
   "nbconvert_exporter": "python",
   "pygments_lexer": "ipython2",
   "version": "2.7.12"
  }
 },
 "nbformat": 4,
 "nbformat_minor": 1
}
