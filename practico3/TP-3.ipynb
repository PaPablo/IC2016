{
 "cells": [
  {
   "cell_type": "markdown",
   "metadata": {},
   "source": [
    "# Trabajo Práctico 3"
   ]
  },
  {
   "cell_type": "code",
   "execution_count": 1,
   "metadata": {
    "collapsed": false
   },
   "outputs": [
    {
     "name": "stdout",
     "output_type": "stream",
     "text": [
      "Writing README.md\n"
     ]
    }
   ],
   "source": [
    "%%writefile README.md\n",
    "\n",
    "ALLENDE, Lucila Abigail\n",
    "SERRUYA ALOISI, Luciano Sebastián\n",
    "TOLEDO MARGALEF, Pablo Adrián"
   ]
  },
  {
   "cell_type": "code",
   "execution_count": 63,
   "metadata": {
    "collapsed": false
   },
   "outputs": [
    {
     "name": "stdout",
     "output_type": "stream",
     "text": [
      "Overwriting mm.c\n"
     ]
    }
   ],
   "source": [
    "%%writefile mm.c\n",
    "\n",
    "\n",
    "//time ./mm\n",
    "\n",
    "\n",
    "#include <stdio.h>\n",
    "\n",
    "#define N 11568\n",
    "//ya en 11569 no compila\n",
    "\n",
    "//#define N 11550\n",
    "\n",
    "//#define N 1000\n",
    "\n",
    "double a[N][N];\n",
    "double b[N][N];\n",
    "double c[N][N];\n",
    "\n",
    "void iniMat(double mat[][N], int len, double iniVal)\n",
    "{\n",
    "\tint i, j;\n",
    "\n",
    "\tfor(i = 0; i < len; ++i)\n",
    "\t\tfor(j = 0; j < len; ++j)\n",
    "\t\t\tmat[i][j] = iniVal;\n",
    "}\n",
    "\n",
    "/* Check1Mat: Chequea que la matriz resultante quede con\n",
    " *            el mismo valor en todas sus celdas.\n",
    " * Es un chequeo básico para el caso particular en que\n",
    " * se sabe de ante mano que el resultado tendrá esa forma.\n",
    " * Retorna: 0 en caso correcto (todas las celdas contiene\n",
    " *          finVal. 1 En caso de error (al menos una celda\n",
    " * contiene un valor diferente de finVal).\n",
    " */\n",
    "int Check1Mat(double mat[][N], int len, double finVal)\n",
    "{\n",
    "\tint i, j;\n",
    "\n",
    "\tfor(i = 0; i < len; ++i)\n",
    "\t\tfor(j = 0; j < len; ++j)\n",
    "\t\t\tif(mat[i][j] != finVal)\n",
    "\t\t\t\treturn 1;\n",
    "\treturn 0;\n",
    "}\n",
    "\n",
    "void printMat(double mat[][N], int len)\n",
    "{\n",
    "\tint i, j;\n",
    "\n",
    "\tfor(i = 0; i < len; ++i)\n",
    "\t{\n",
    "\t\tfor(j = 0; j < len; ++j)\n",
    "\t\t\tprintf( \"%.1f \", mat[i][j]);\n",
    "\t\tprintf(\"\\n\");\n",
    "\t}\n",
    "}\n",
    "\n",
    "void mm(void)\n",
    "{\n",
    "\tint i, j, k;\n",
    "\n",
    "\tfor(i = 0; i < N; ++i)\n",
    "\t\tfor(j = 0; j < N; ++j)\n",
    "\t\t\tfor(k = 0; k < N; ++k)\n",
    "\t\t\t\tc[i][j] += a[i][k] * b[k][j];\n",
    "}\n",
    "\n",
    "int main(void)\n",
    "{\n",
    "\tprintf(\"Comienzo ...\\n\");\n",
    "\tiniMat(a, N, 1.0);\n",
    "\tiniMat(b, N, 1.0);\n",
    "\tiniMat(c, N, 0.0);\n",
    "\n",
    "\tprintf(\"Multiplicando ...\\n\");\n",
    "\n",
    "\tmm();\n",
    "\n",
    "\tif(Check1Mat(c, N, N) == 0)\n",
    "\t\tprintf(\"Fin Multiplicación (Resultado correcto)\\n\");\n",
    "\telse\n",
    "\t\tprintf(\"Fin Multiplicación (Resultado INCORRECTO!)\\n\");\n",
    "\n",
    "/*\n",
    "\tprintf(\"Matriz a:\\n\");\n",
    "\tprintMat(a, N);\n",
    "\tprintf(\"Matriz b:\\n\");\n",
    "\tprintMat(b, N);\n",
    "\tprintf(\"Matriz c:\\n\");\n",
    "\tprintMat(c, N);\n",
    "*/\n",
    "\n",
    "\tprintf(\"Fin del programa\\n\");\n",
    "}\n"
   ]
  },
  {
   "cell_type": "code",
   "execution_count": 64,
   "metadata": {
    "collapsed": false
   },
   "outputs": [],
   "source": [
    "!gcc mm.c -o mm"
   ]
  },
  {
   "cell_type": "code",
   "execution_count": 62,
   "metadata": {
    "collapsed": false
   },
   "outputs": [
    {
     "name": "stdout",
     "output_type": "stream",
     "text": [
      "Comienzo ...\n",
      "Multiplicando ...\n",
      "Fin Multiplicación (Resultado correcto)\n",
      "Fin del programa\n",
      "4.94user 0.00system 0:04.94elapsed 99%CPU (0avgtext+0avgdata 24704maxresident)k\n",
      "0inputs+0outputs (0major+810minor)pagefaults 0swaps\n"
     ]
    }
   ],
   "source": [
    "!time ./mm"
   ]
  },
  {
   "cell_type": "code",
   "execution_count": 88,
   "metadata": {
    "collapsed": false
   },
   "outputs": [
    {
     "name": "stdout",
     "output_type": "stream",
     "text": [
      "Overwriting ej4.c\n"
     ]
    }
   ],
   "source": [
    "%%writefile ej4.c \n",
    "\n",
    "#include <omp.h>\n",
    "#include <stdio.h>\n",
    "\n",
    "int main(void){\n",
    "    int ID = omp_get_thread_num();\n",
    "    #pragma omp parallel num_threads(4)\n",
    "    {\n",
    "        printf(\"Hilo:%d\\n\", ID);\n",
    "    }\n",
    "}"
   ]
  },
  {
   "cell_type": "code",
   "execution_count": 89,
   "metadata": {
    "collapsed": false
   },
   "outputs": [],
   "source": [
    "!gcc -fopenmp ej4.c -o ej4 "
   ]
  },
  {
   "cell_type": "code",
   "execution_count": 90,
   "metadata": {
    "collapsed": false
   },
   "outputs": [
    {
     "name": "stdout",
     "output_type": "stream",
     "text": [
      "Hilo:0\r\n",
      "Hilo:0\r\n",
      "Hilo:0\r\n",
      "Hilo:0\r\n"
     ]
    }
   ],
   "source": [
    "!./ej4"
   ]
  },
  {
   "cell_type": "code",
   "execution_count": 248,
   "metadata": {
    "collapsed": false
   },
   "outputs": [
    {
     "name": "stdout",
     "output_type": "stream",
     "text": [
      "Overwriting ej5.c\n"
     ]
    }
   ],
   "source": [
    "%%writefile ej5.c\n",
    "\n",
    "#include <stdio.h>\n",
    "#include <omp.h>\n",
    "\n",
    "#define MAX 1000\n",
    "\n",
    "\n",
    "void iniArreglo(int *a){\n",
    "    int i;\n",
    "    \n",
    "    for(i = 0; i < MAX; i++){\n",
    "        a[i] = i;\n",
    "    }\n",
    "    \n",
    "}\n",
    "\n",
    "int sumatoria(int *a){\n",
    "    int valor = 0;\n",
    "    int i;\n",
    "    \n",
    "    //la variable en la que se van a combinar\n",
    "    //los valores de los resultados de las reducciones\n",
    "    //se indica en el pragma (valor)\n",
    "    \n",
    "    #pragma omp parallel for reduction (+:valor)\n",
    "    {\n",
    "        for(i = 0; i < MAX; i++){\n",
    "            valor += a[i];\n",
    "        }\n",
    "    }\n",
    "    return valor;\n",
    "}\n",
    "\n",
    "int main(void){\n",
    "    int arreglo[MAX];\n",
    "    \n",
    "    iniArreglo(arreglo);\n",
    "    \n",
    "    int acum = sumatoria(arreglo);\n",
    "    \n",
    "    printf(\"Valor del acumulador: %d\\n\", (int)acum);\n",
    "    \n",
    "    return 0;\n",
    "}"
   ]
  },
  {
   "cell_type": "code",
   "execution_count": 249,
   "metadata": {
    "collapsed": false
   },
   "outputs": [],
   "source": [
    "!gcc ej5.c -o ej5"
   ]
  },
  {
   "cell_type": "code",
   "execution_count": 250,
   "metadata": {
    "collapsed": false
   },
   "outputs": [
    {
     "name": "stdout",
     "output_type": "stream",
     "text": [
      "Valor del acumulador: 499500\r\n",
      "0.00user 0.00system 0:00.00elapsed ?%CPU (0avgtext+0avgdata 1360maxresident)k\r\n",
      "0inputs+0outputs (0major+66minor)pagefaults 0swaps\r\n"
     ]
    }
   ],
   "source": [
    "!/usr/bin/time ./ej5"
   ]
  },
  {
   "cell_type": "code",
   "execution_count": 358,
   "metadata": {
    "collapsed": false
   },
   "outputs": [
    {
     "name": "stdout",
     "output_type": "stream",
     "text": [
      "Overwriting ej7.c\n"
     ]
    }
   ],
   "source": [
    "%%writefile ej7.c\n",
    "\n",
    "#include<stdio.h>\n",
    "#include<unistd.h>\n",
    "\n",
    "int num_steps = 100000;\n",
    "double step;\n",
    "int main(){\n",
    "    int i;\n",
    "    double x, pi, sum = 0.0;\n",
    "    double incremento = (double)num_steps / (num_steps * 2); \n",
    "    \n",
    "    printf(\"incremento = %.2f\\n\", incremento);\n",
    "    \n",
    "    step = 1.0/(double)num_steps;\n",
    "    \n",
    "    printf(\"step = %.5f\\n\", step);\n",
    "    //sleep(1);\n",
    "    \n",
    "    for(i=0; i < num_steps; i++){\n",
    "        x = (i + incremento)*step;\n",
    "        sum += 4.0/(1.0+(x*x));\n",
    "    }\n",
    "    \n",
    "    pi = step*sum;\n",
    "    \n",
    "    printf(\"PI = %.50f\\n\", pi);\n",
    "    return 0;\n",
    "}"
   ]
  },
  {
   "cell_type": "code",
   "execution_count": 359,
   "metadata": {
    "collapsed": true
   },
   "outputs": [],
   "source": [
    "!gcc ej7.c -o ej7"
   ]
  },
  {
   "cell_type": "code",
   "execution_count": 360,
   "metadata": {
    "collapsed": false
   },
   "outputs": [
    {
     "name": "stdout",
     "output_type": "stream",
     "text": [
      "incremento = 0.50\r\n",
      "step = 0.00001\r\n",
      "PI = 3.14159265359816153306837804848328232765197753906250\r\n",
      "0.00user 0.00system 0:00.00elapsed ?%CPU (0avgtext+0avgdata 1432maxresident)k\r\n",
      "0inputs+0outputs (0major+66minor)pagefaults 0swaps\r\n"
     ]
    }
   ],
   "source": [
    "!time ./ej7"
   ]
  },
  {
   "cell_type": "code",
   "execution_count": 400,
   "metadata": {
    "collapsed": false
   },
   "outputs": [
    {
     "name": "stdout",
     "output_type": "stream",
     "text": [
      "Overwriting ej7paralelo.c\n"
     ]
    }
   ],
   "source": [
    "%%writefile ej7paralelo.c\n",
    "\n",
    "#include<stdio.h>\n",
    "#include<unistd.h>\n",
    "\n",
    "int num_steps = 100000;\n",
    "double step;\n",
    "\n",
    "int main(){\n",
    "    int i;\n",
    "    double x, pi, sum = 0.0;\n",
    "    double incremento = (double)num_steps / (num_steps * 2); \n",
    "    \n",
    "    printf(\"incremento = %.2f\\n\", incremento);\n",
    "    \n",
    "    step = 1.0/(double)num_steps;\n",
    "    \n",
    "    printf(\"step = %.5f\\n\", step);\n",
    "    //sleep(1);\n",
    "    //#pragma omp parallel\n",
    "    {\n",
    "        for(i=0; i < num_steps; i++){\n",
    "            x = (i + incremento)*step;\n",
    "            sum += 4.0/(1.0+(x*x));\n",
    "        }\n",
    "    }\n",
    "    \n",
    "    pi = step*sum;\n",
    "    \n",
    "    printf(\"PI = %.50f\\n\", pi);\n",
    "    return 0;\n",
    "}"
   ]
  },
  {
   "cell_type": "code",
   "execution_count": 401,
   "metadata": {
    "collapsed": false
   },
   "outputs": [],
   "source": [
    "!gcc -fopenmp ej7paralelo.c -o ej7paralelo"
   ]
  },
  {
   "cell_type": "code",
   "execution_count": 402,
   "metadata": {
    "collapsed": false
   },
   "outputs": [
    {
     "name": "stdout",
     "output_type": "stream",
     "text": [
      "incremento = 0.50\r\n",
      "step = 0.00001\r\n",
      "PI = 3.14159265359816153306837804848328232765197753906250\r\n",
      "0.00user 0.00system 0:00.00elapsed 0%CPU (0avgtext+0avgdata 1540maxresident)k\r\n",
      "0inputs+0outputs (0major+74minor)pagefaults 0swaps\r\n"
     ]
    }
   ],
   "source": [
    "!time ./ej7paralelo"
   ]
  },
  {
   "cell_type": "code",
   "execution_count": null,
   "metadata": {
    "collapsed": true
   },
   "outputs": [],
   "source": []
  }
 ],
 "metadata": {
  "kernelspec": {
   "display_name": "Python 2",
   "language": "python",
   "name": "python2"
  },
  "language_info": {
   "codemirror_mode": {
    "name": "ipython",
    "version": 2
   },
   "file_extension": ".py",
   "mimetype": "text/x-python",
   "name": "python",
   "nbconvert_exporter": "python",
   "pygments_lexer": "ipython2",
   "version": "2.7.12"
  }
 },
 "nbformat": 4,
 "nbformat_minor": 1
}
