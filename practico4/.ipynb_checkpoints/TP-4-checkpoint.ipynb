{
 "cells": [
  {
   "cell_type": "code",
   "execution_count": 2,
   "metadata": {
    "collapsed": false
   },
   "outputs": [
    {
     "name": "stdout",
     "output_type": "stream",
     "text": [
      "Writing README.md\n"
     ]
    }
   ],
   "source": [
    "%%writefile README.md\n",
    "ALLENDE, Lucila Abigail\n",
    "SERRUYA ALOISI, Luciano Sebastián\n",
    "TOLEDO MARGALEF, Pablo Adrián"
   ]
  },
  {
   "cell_type": "code",
   "execution_count": 4,
   "metadata": {
    "collapsed": false
   },
   "outputs": [
    {
     "name": "stdout",
     "output_type": "stream",
     "text": [
      "Overwriting ej1.c\n"
     ]
    }
   ],
   "source": [
    "%%writefile ej1.c\n",
    "#include <mpi.h>\n",
    "#include <stdio.h>\n",
    "#include <unistd.h>\n",
    "_Bool esPar(int val){\n",
    "    return !(val % 2);\n",
    "}\n",
    "int main(int argc, char const *argv[])\n",
    "{\n",
    "    int size, rank, rankRecv;\n",
    "    MPI_Init(NULL, NULL);\n",
    "    MPI_Comm_size(MPI_COMM_WORLD, &size);\n",
    "    MPI_Comm_rank(MPI_COMM_WORLD, &rank);\n",
    "    \n",
    "    if (esPar(rank)) \n",
    "    {\n",
    "        \n",
    "        printf(\"RANK %d: Envío %d\\n\", rank, rank);\n",
    "        MPI_Send(&rank, 1, MPI_INT, rank+1, 0, MPI_COMM_WORLD);\n",
    "    } else {        \n",
    "        MPI_Status status;\n",
    "        MPI_Recv(&rankRecv, 1, MPI_INT, rank-1, 0, MPI_COMM_WORLD, &status);\n",
    "        printf(\"RANK %d: Recibí del proceso RANK %d\\n\", rank, rankRecv);\n",
    "        //printf(\"Msg: %d Source: %d Tag: %d\\n\", rankRecv, status.MPI_SOURCE, status.MPI_TAG);\n",
    "\n",
    "    }\n",
    "    \n",
    "    MPI_Barrier(MPI_COMM_WORLD);\n",
    "    MPI_Finalize();\n",
    "    return 0;\n",
    "}\n"
   ]
  },
  {
   "cell_type": "code",
   "execution_count": 5,
   "metadata": {
    "collapsed": false
   },
   "outputs": [],
   "source": [
    "!mpicc ej1.c -o ej1"
   ]
  },
  {
   "cell_type": "code",
   "execution_count": 6,
   "metadata": {
    "collapsed": false
   },
   "outputs": [
    {
     "name": "stdout",
     "output_type": "stream",
     "text": [
      "RANK 2: Envío 2\r\n",
      "RANK 0: Envío 0\r\n",
      "RANK 1: Recibí del proceso RANK 0\r\n",
      "RANK 3: Recibí del proceso RANK 2\r\n"
     ]
    }
   ],
   "source": [
    "!mpirun -np 4 ./ej1"
   ]
  },
  {
   "cell_type": "code",
   "execution_count": 7,
   "metadata": {
    "collapsed": false
   },
   "outputs": [
    {
     "name": "stdout",
     "output_type": "stream",
     "text": [
      "Overwriting ej1a.c\n"
     ]
    }
   ],
   "source": [
    "%%writefile ej1a.c\n",
    "#include <mpi.h>\n",
    "#include <stdio.h>\n",
    "#include <unistd.h>\n",
    "\n",
    "\n",
    "_Bool esPar(int val){\n",
    "    return !(val % 2);\n",
    "}\n",
    "int main(int argc, char const *argv[])\n",
    "{\n",
    "    int size, rank;\n",
    "    MPI_Init(NULL, NULL);\n",
    "    MPI_Comm_size(MPI_COMM_WORLD, &size);\n",
    "    MPI_Comm_rank(MPI_COMM_WORLD, &rank);\n",
    "    int x = 1;\n",
    "    char ping[] = \"Hago ping\";\n",
    "    char pong[] = \"Hago pong\";\n",
    "    \n",
    "    if (esPar(rank)) \n",
    "    {\n",
    "        \n",
    "        //printf(\"RANK %d: Envio %d\\n\", rank, x);\n",
    "        printf(\"RANK %d, %s\\n\", rank, ping);\n",
    "        MPI_Send(&pong, sizeof(pong), MPI_BYTE, rank+1, 0, MPI_COMM_WORLD);\n",
    "    } else {\n",
    "        MPI_Status status;\n",
    "        MPI_Recv(&pong, sizeof(pong), MPI_BYTE, rank-1, 0, MPI_COMM_WORLD, &status);\n",
    "        printf(\"RANK %d, %s\\n\", rank, pong);\n",
    "        \n",
    "        //printf(\"RANK %d: Recibi %d\\n\", rank, x);\n",
    "        //printf(\"Msg: %d Source: %d Tag: %d\\n\", x, status.MPI_SOURCE, status.MPI_TAG);\n",
    "\n",
    "    }\n",
    "    \n",
    "    MPI_Barrier(MPI_COMM_WORLD);\n",
    "    MPI_Finalize();\n",
    "    return 0;\n",
    "}\n"
   ]
  },
  {
   "cell_type": "code",
   "execution_count": 8,
   "metadata": {
    "collapsed": false
   },
   "outputs": [],
   "source": [
    "!mpicc ej1a.c -o ej1a"
   ]
  },
  {
   "cell_type": "code",
   "execution_count": 9,
   "metadata": {
    "collapsed": false
   },
   "outputs": [
    {
     "name": "stdout",
     "output_type": "stream",
     "text": [
      "RANK 2, Hago ping\r\n",
      "RANK 3, Hago pong\r\n",
      "RANK 0, Hago ping\r\n",
      "RANK 1, Hago pong\r\n"
     ]
    }
   ],
   "source": [
    "!mpirun -np 4 ./ej1a"
   ]
  },
  {
   "cell_type": "code",
   "execution_count": 10,
   "metadata": {
    "collapsed": false
   },
   "outputs": [
    {
     "name": "stdout",
     "output_type": "stream",
     "text": [
      "Overwriting ej2.c\n"
     ]
    }
   ],
   "source": [
    "%%writefile ej2.c\n",
    "#include <mpi.h>\n",
    "#include<stdio.h>\n",
    "#include<stdlib.h>\n",
    "#include<unistd.h>\n",
    "\n",
    "#define MAX_PROCESOS 100\n",
    "\n",
    "int main(){\n",
    "    int size, rank;\n",
    "    //int msj;\n",
    "    srand(getpid());\n",
    "    \n",
    "    MPI_Init(NULL, NULL);\n",
    "    MPI_Comm_size(MPI_COMM_WORLD, &size);\n",
    "    MPI_Comm_rank(MPI_COMM_WORLD, &rank);\n",
    "    \n",
    "    if((rank == 0) || (rank == 1) || (rank == 2)){\n",
    "        //establecemos que los procesos con rank 0, 1, 2 van a ser lo que envien mensajes\n",
    "        \n",
    "        int envio;\n",
    "        \n",
    "        printf(\"Soy el RANK %d, envío\\n\", rank);\n",
    "        \n",
    "        for(int i = rank+1; i < MAX_PROCESOS; i++){\n",
    "            envio = rand() % 100;\n",
    "            MPI_Send(&envio, 1, MPI_INT, i, rand()%100, MPI_COMM_WORLD);\n",
    "            //enviamos un mensaje con un valor y etiqueta aleatoria\n",
    "        }\n",
    "    }\n",
    "    else{\n",
    "        //los demas procesos reciben\n",
    "        \n",
    "        MPI_Status status;\n",
    "        int msj;\n",
    "        \n",
    "        MPI_Recv(&msj, 1, MPI_INT, MPI_ANY_SOURCE, MPI_ANY_TAG, MPI_COMM_WORLD, &status);\n",
    "        //recibimos el mensaje de cualquier fuente y con cualquier etiqueta\n",
    "        \n",
    "        printf(\"RANK %d, recibí un %d (SOURCE %d, TAG %d)\\n\", rank, msj, status.MPI_SOURCE, status.MPI_TAG);\n",
    "        \n",
    "    }\n",
    "    \n",
    "        \n",
    "    \n",
    "    MPI_Barrier(MPI_COMM_WORLD);\n",
    "    MPI_Finalize();\n",
    "    return 0;\n",
    "}"
   ]
  },
  {
   "cell_type": "code",
   "execution_count": 11,
   "metadata": {
    "collapsed": false
   },
   "outputs": [],
   "source": [
    "!mpicc ej2.c -o ej2"
   ]
  },
  {
   "cell_type": "code",
   "execution_count": 12,
   "metadata": {
    "collapsed": false,
    "scrolled": true
   },
   "outputs": [
    {
     "name": "stdout",
     "output_type": "stream",
     "text": [
      "Soy el RANK 1, envío\n",
      "RANK 6, recibí un 74 (SOURCE 1, TAG 37)\n",
      "RANK 36, recibí un 37 (SOURCE 1, TAG 28)\n",
      "RANK 43, recibí un 9 (SOURCE 1, TAG 83)\n",
      "RANK 63, recibí un 2 (SOURCE 1, TAG 80)\n",
      "RANK 5, recibí un 32 (SOURCE 1, TAG 31)\n",
      "RANK 97, recibí un 50 (SOURCE 1, TAG 0)\n",
      "RANK 58, recibí un 90 (SOURCE 1, TAG 76)\n",
      "RANK 77, recibí un 39 (SOURCE 1, TAG 8)\n",
      "RANK 79, recibí un 89 (SOURCE 1, TAG 54)\n",
      "RANK 94, recibí un 1 (SOURCE 1, TAG 82)\n",
      "RANK 22, recibí un 74 (SOURCE 1, TAG 0)\n",
      "RANK 53, recibí un 99 (SOURCE 1, TAG 40)\n",
      "RANK 87, recibí un 42 (SOURCE 1, TAG 87)\n",
      "RANK 39, recibí un 24 (SOURCE 1, TAG 56)\n",
      "RANK 29, recibí un 98 (SOURCE 1, TAG 73)\n",
      "RANK 62, recibí un 94 (SOURCE 1, TAG 49)\n",
      "RANK 66, recibí un 40 (SOURCE 1, TAG 73)\n",
      "RANK 99, recibí un 59 (SOURCE 1, TAG 87)\n",
      "RANK 19, recibí un 53 (SOURCE 1, TAG 20)\n",
      "RANK 33, recibí un 94 (SOURCE 1, TAG 53)\n",
      "RANK 14, recibí un 34 (SOURCE 1, TAG 24)\n",
      "RANK 70, recibí un 8 (SOURCE 1, TAG 89)\n",
      "RANK 73, recibí un 49 (SOURCE 1, TAG 0)\n",
      "RANK 41, recibí un 20 (SOURCE 1, TAG 61)\n",
      "RANK 52, recibí un 60 (SOURCE 1, TAG 36)\n",
      "RANK 7, recibí un 97 (SOURCE 1, TAG 2)\n",
      "RANK 49, recibí un 54 (SOURCE 1, TAG 99)\n",
      "RANK 57, recibí un 66 (SOURCE 1, TAG 43)\n",
      "RANK 75, recibí un 9 (SOURCE 1, TAG 33)\n",
      "RANK 11, recibí un 75 (SOURCE 1, TAG 85)\n",
      "RANK 25, recibí un 47 (SOURCE 1, TAG 11)\n",
      "RANK 80, recibí un 2 (SOURCE 1, TAG 20)\n",
      "RANK 88, recibí un 33 (SOURCE 1, TAG 91)\n",
      "RANK 59, recibí un 26 (SOURCE 1, TAG 56)\n",
      "RANK 35, recibí un 25 (SOURCE 1, TAG 90)\n",
      "RANK 32, recibí un 30 (SOURCE 1, TAG 79)\n",
      "Soy el RANK 0, envío\n",
      "RANK 86, recibí un 24 (SOURCE 1, TAG 11)\n",
      "RANK 45, recibí un 61 (SOURCE 0, TAG 55)\n",
      "RANK 74, recibí un 44 (SOURCE 0, TAG 15)\n",
      "Soy el RANK 2, envío\n",
      "RANK 34, recibí un 74 (SOURCE 0, TAG 80)\n",
      "RANK 8, recibí un 69 (SOURCE 0, TAG 93)\n",
      "RANK 90, recibí un 96 (SOURCE 0, TAG 17)\n",
      "RANK 95, recibí un 92 (SOURCE 0, TAG 16)\n",
      "RANK 76, recibí un 12 (SOURCE 0, TAG 72)\n",
      "RANK 13, recibí un 23 (SOURCE 0, TAG 34)\n",
      "RANK 40, recibí un 64 (SOURCE 0, TAG 39)\n",
      "RANK 38, recibí un 49 (SOURCE 0, TAG 41)\n",
      "RANK 61, recibí un 26 (SOURCE 0, TAG 7)\n",
      "RANK 85, recibí un 3 (SOURCE 0, TAG 4)\n",
      "RANK 92, recibí un 89 (SOURCE 0, TAG 6)\n",
      "RANK 16, recibí un 15 (SOURCE 0, TAG 11)\n",
      "RANK 9, recibí un 80 (SOURCE 0, TAG 91)\n",
      "RANK 81, recibí un 81 (SOURCE 0, TAG 32)\n",
      "RANK 83, recibí un 90 (SOURCE 0, TAG 81)\n",
      "RANK 67, recibí un 50 (SOURCE 0, TAG 58)\n",
      "RANK 48, recibí un 86 (SOURCE 0, TAG 35)\n",
      "RANK 28, recibí un 90 (SOURCE 0, TAG 7)\n",
      "RANK 65, recibí un 24 (SOURCE 0, TAG 10)\n",
      "RANK 4, recibí un 9 (SOURCE 0, TAG 41)\n",
      "RANK 27, recibí un 32 (SOURCE 0, TAG 16)\n",
      "RANK 17, recibí un 89 (SOURCE 0, TAG 35)\n",
      "RANK 46, recibí un 35 (SOURCE 0, TAG 29)\n",
      "RANK 51, recibí un 98 (SOURCE 0, TAG 40)\n",
      "RANK 21, recibí un 88 (SOURCE 0, TAG 65)\n",
      "RANK 18, recibí un 56 (SOURCE 0, TAG 17)\n",
      "RANK 23, recibí un 90 (SOURCE 0, TAG 15)\n",
      "RANK 56, recibí un 34 (SOURCE 0, TAG 31)\n",
      "RANK 84, recibí un 96 (SOURCE 0, TAG 82)\n",
      "RANK 93, recibí un 51 (SOURCE 0, TAG 69)\n",
      "RANK 31, recibí un 68 (SOURCE 0, TAG 22)\n",
      "RANK 60, recibí un 71 (SOURCE 0, TAG 45)\n",
      "RANK 98, recibí un 10 (SOURCE 0, TAG 90)\n",
      "RANK 30, recibí un 55 (SOURCE 0, TAG 73)\n",
      "RANK 69, recibí un 40 (SOURCE 0, TAG 70)\n",
      "RANK 42, recibí un 52 (SOURCE 0, TAG 40)\n",
      "RANK 12, recibí un 90 (SOURCE 0, TAG 77)\n",
      "RANK 82, recibí un 53 (SOURCE 0, TAG 84)\n",
      "RANK 71, recibí un 81 (SOURCE 0, TAG 41)\n",
      "RANK 64, recibí un 43 (SOURCE 0, TAG 97)\n",
      "RANK 68, recibí un 75 (SOURCE 0, TAG 60)\n",
      "RANK 96, recibí un 85 (SOURCE 0, TAG 26)\n",
      "RANK 44, recibí un 47 (SOURCE 0, TAG 10)\n",
      "RANK 55, recibí un 24 (SOURCE 0, TAG 59)\n",
      "RANK 3, recibí un 28 (SOURCE 0, TAG 34)\n",
      "RANK 54, recibí un 94 (SOURCE 0, TAG 43)\n",
      "RANK 91, recibí un 31 (SOURCE 0, TAG 61)\n",
      "RANK 78, recibí un 28 (SOURCE 0, TAG 54)\n",
      "RANK 89, recibí un 22 (SOURCE 0, TAG 15)\n",
      "RANK 15, recibí un 23 (SOURCE 0, TAG 1)\n",
      "RANK 26, recibí un 74 (SOURCE 0, TAG 13)\n",
      "RANK 10, recibí un 21 (SOURCE 0, TAG 3)\n",
      "RANK 47, recibí un 77 (SOURCE 0, TAG 72)\n",
      "RANK 72, recibí un 48 (SOURCE 0, TAG 83)\n",
      "RANK 50, recibí un 15 (SOURCE 0, TAG 79)\n",
      "RANK 20, recibí un 59 (SOURCE 0, TAG 92)\n",
      "RANK 24, recibí un 40 (SOURCE 0, TAG 71)\n",
      "RANK 37, recibí un 51 (SOURCE 0, TAG 18)\n"
     ]
    }
   ],
   "source": [
    "!mpirun -np 100 ./ej2"
   ]
  },
  {
   "cell_type": "code",
   "execution_count": 19,
   "metadata": {
    "collapsed": false
   },
   "outputs": [
    {
     "name": "stdout",
     "output_type": "stream",
     "text": [
      "Overwriting ej3.c\n"
     ]
    }
   ],
   "source": [
    "%%writefile ej3.c\n",
    "#include <mpi.h>\n",
    "#include<stdio.h>\n",
    "#include<stdlib.h>\n",
    "#include<unistd.h>\n",
    "\n",
    "#define MAX_PROCESOS 3\n",
    "#define TAG_EXIT 0\n",
    "\n",
    "/*Hay un problema con el Probe. Si se hace el Probe del mensaje pero no se recibe,\n",
    "se queda haciendo el Probe con ese mensaje y no recibe los nuevos (no termina nunca)\n",
    "Habría que ver una forma para que pueda descartar ese mensaje que no le sirve*/ \n",
    "\n",
    "_Bool esPar(int val){\n",
    "    return !(val % 2);\n",
    "}\n",
    "\n",
    "int main(){\n",
    "    int size, rank, flag, mensaje;\n",
    "    MPI_Status status;\n",
    "    \n",
    "    srand(getpid());\n",
    "    MPI_Init(NULL, NULL);\n",
    "    MPI_Comm_size(MPI_COMM_WORLD, &size);\n",
    "    MPI_Comm_rank(MPI_COMM_WORLD, &rank);\n",
    "    \n",
    "    if(rank == 0){\n",
    "        \n",
    "        int envio, i;\n",
    "        int msj = rand()%100;\n",
    "        \n",
    "        printf(\"Soy el RANK %d, voy a enviar %d mensajes\\n\", rank, msj);\n",
    "\n",
    "        for(i = 0; i < msj-2; i++){\n",
    "            envio = i;\n",
    "            MPI_Send(&envio, 1, MPI_INT, (i%2)+1, (rand()%100)+1, MPI_COMM_WORLD);\n",
    "        }\n",
    "            /*le enviamos un msj al proceso con RANK indicado por el i\n",
    "            (utilizamos una etiqueta aleatoria). Cada proceso la recibe y muestra un mensaje si le toco una etiqueta\n",
    "            correspondiente a el (el RANK 1 muestra pares, RANK 2 impares)*/\n",
    "\n",
    "        MPI_Send(&envio, 1, MPI_INT, 1, TAG_EXIT, MPI_COMM_WORLD);\n",
    "        MPI_Send(&envio, 1, MPI_INT, 2, TAG_EXIT, MPI_COMM_WORLD);\n",
    "        //Enviamos estos dos mensajes para que los procesos de RANK 1 y 2 terminen\n",
    "        \n",
    "    } else if (rank == 1){\n",
    "        \n",
    "        //los demas procesos reciben\n",
    "        \n",
    "        while(1){\n",
    "            \n",
    "            MPI_Probe(MPI_ANY_SOURCE, MPI_ANY_TAG, MPI_COMM_WORLD, &status);\n",
    "            //Vemos que nos mandaron\n",
    "            \n",
    "            if(status.MPI_TAG == TAG_EXIT){\n",
    "                printf(\"RANK %d: Recibi TAG %d. Me fui\\n\\n\", rank, status.MPI_TAG);\n",
    "                break;\n",
    "            }\n",
    "            \n",
    "            \n",
    "            \n",
    "            if(esPar(status.MPI_TAG)){\n",
    "                MPI_Recv(&mensaje, 1, MPI_INT, MPI_ANY_SOURCE, MPI_ANY_TAG, MPI_COMM_WORLD, &status);\n",
    "                printf(\"RANK %d (recibo tags pares), recibí un %d (SOURCE %d, TAG %d)\\n\", \n",
    "                       rank, mensaje, status.MPI_SOURCE, status.MPI_TAG);\n",
    "            }\n",
    "            else{\n",
    "                //aca se tendria que descartar el mensaje y poder recibir otro\n",
    "                \n",
    "                MPI_Recv(&mensaje, 1, MPI_INT, MPI_ANY_SOURCE, MPI_ANY_TAG, MPI_COMM_WORLD, &status);\n",
    "            }\n",
    "        }\n",
    "\n",
    "    }else{\n",
    "\n",
    "        while(1){\n",
    "\n",
    "            MPI_Probe(MPI_ANY_SOURCE, MPI_ANY_TAG, MPI_COMM_WORLD, &status);\n",
    "            //Vemos que nos mandaron\n",
    "\n",
    "            if(status.MPI_TAG == TAG_EXIT){\n",
    "                printf(\"RANK %d: Recibi TAG %d. Me fui\\n\\n\", rank, status.MPI_TAG);\n",
    "                break;\n",
    "            }\n",
    "            \n",
    "            \n",
    "            if(!(esPar(status.MPI_TAG))){\n",
    "                MPI_Recv(&mensaje, 1, MPI_INT, MPI_ANY_SOURCE, MPI_ANY_TAG, MPI_COMM_WORLD, &status);\n",
    "                printf(\"RANK %d (recibo tags impares), recibí un %d (SOURCE %d, TAG %d)\\n\", \n",
    "                       rank, mensaje, status.MPI_SOURCE, status.MPI_TAG);\n",
    "            }\n",
    "            else{\n",
    "\n",
    "                //aca se tendria que descartar el mensaje y poder recibir otro\n",
    "                \n",
    "                MPI_Recv(&mensaje, 1, MPI_INT, MPI_ANY_SOURCE, MPI_ANY_TAG, MPI_COMM_WORLD, &status);\n",
    "            }\n",
    "        }\n",
    "    }\n",
    "    \n",
    "    MPI_Barrier(MPI_COMM_WORLD);\n",
    "    MPI_Finalize();\n",
    "    return 0;\n",
    "}"
   ]
  },
  {
   "cell_type": "code",
   "execution_count": 20,
   "metadata": {
    "collapsed": false
   },
   "outputs": [],
   "source": [
    "!mpicc ej3.c -o ej3"
   ]
  },
  {
   "cell_type": "code",
   "execution_count": 38,
   "metadata": {
    "collapsed": false
   },
   "outputs": [
    {
     "name": "stdout",
     "output_type": "stream",
     "text": [
      "Soy el RANK 0, voy a enviar 79 mensajes\r\n",
      "RANK 1 (recibo tags pares), recibí un 0 (SOURCE 0, TAG 34)\r\n",
      "RANK 1 (recibo tags pares), recibí un 2 (SOURCE 0, TAG 80)\r\n",
      "RANK 1 (recibo tags pares), recibí un 10 (SOURCE 0, TAG 48)\r\n",
      "RANK 1 (recibo tags pares), recibí un 18 (SOURCE 0, TAG 80)\r\n",
      "RANK 1 (recibo tags pares), recibí un 20 (SOURCE 0, TAG 84)\r\n",
      "RANK 1 (recibo tags pares), recibí un 22 (SOURCE 0, TAG 14)\r\n",
      "RANK 1 (recibo tags pares), recibí un 26 (SOURCE 0, TAG 60)\r\n",
      "RANK 1 (recibo tags pares), recibí un 38 (SOURCE 0, TAG 100)\r\n",
      "RANK 1 (recibo tags pares), recibí un 42 (SOURCE 0, TAG 40)\r\n",
      "RANK 1 (recibo tags pares), recibí un 50 (SOURCE 0, TAG 68)\r\n",
      "RANK 1 (recibo tags pares), recibí un 54 (SOURCE 0, TAG 2)\r\n",
      "RANK 1 (recibo tags pares), recibí un 56 (SOURCE 0, TAG 70)\r\n",
      "RANK 1 (recibo tags pares), recibí un 58 (SOURCE 0, TAG 58)\r\n",
      "RANK 1 (recibo tags pares), recibí un 60 (SOURCE 0, TAG 2)\r\n",
      "RANK 1 (recibo tags pares), recibí un 62 (SOURCE 0, TAG 36)\r\n",
      "RANK 1 (recibo tags pares), recibí un 66 (SOURCE 0, TAG 64)\r\n",
      "RANK 1 (recibo tags pares), recibí un 68 (SOURCE 0, TAG 54)\r\n",
      "RANK 1 (recibo tags pares), recibí un 72 (SOURCE 0, TAG 62)\r\n",
      "RANK 1 (recibo tags pares), recibí un 74 (SOURCE 0, TAG 70)\r\n",
      "RANK 1 (recibo tags pares), recibí un 76 (SOURCE 0, TAG 26)\r\n",
      "RANK 1: Recibi TAG 0. Me fui\r\n",
      "\r\n",
      "RANK 2 (recibo tags impares), recibí un 1 (SOURCE 0, TAG 91)\r\n",
      "RANK 2 (recibo tags impares), recibí un 3 (SOURCE 0, TAG 27)\r\n",
      "RANK 2 (recibo tags impares), recibí un 9 (SOURCE 0, TAG 23)\r\n",
      "RANK 2 (recibo tags impares), recibí un 15 (SOURCE 0, TAG 35)\r\n",
      "RANK 2 (recibo tags impares), recibí un 19 (SOURCE 0, TAG 51)\r\n",
      "RANK 2 (recibo tags impares), recibí un 23 (SOURCE 0, TAG 53)\r\n",
      "RANK 2 (recibo tags impares), recibí un 27 (SOURCE 0, TAG 75)\r\n",
      "RANK 2 (recibo tags impares), recibí un 29 (SOURCE 0, TAG 41)\r\n",
      "RANK 2 (recibo tags impares), recibí un 35 (SOURCE 0, TAG 29)\r\n",
      "RANK 2 (recibo tags impares), recibí un 37 (SOURCE 0, TAG 91)\r\n",
      "RANK 2 (recibo tags impares), recibí un 39 (SOURCE 0, TAG 97)\r\n",
      "RANK 2 (recibo tags impares), recibí un 43 (SOURCE 0, TAG 1)\r\n",
      "RANK 2 (recibo tags impares), recibí un 47 (SOURCE 0, TAG 65)\r\n",
      "RANK 2 (recibo tags impares), recibí un 53 (SOURCE 0, TAG 81)\r\n",
      "RANK 2 (recibo tags impares), recibí un 67 (SOURCE 0, TAG 41)\r\n",
      "RANK 2 (recibo tags impares), recibí un 69 (SOURCE 0, TAG 63)\r\n",
      "RANK 2 (recibo tags impares), recibí un 73 (SOURCE 0, TAG 81)\r\n",
      "RANK 2: Recibi TAG 0. Me fui\r\n",
      "\r\n"
     ]
    }
   ],
   "source": [
    "!mpirun -np 3 ./ej3"
   ]
  },
  {
   "cell_type": "code",
   "execution_count": 39,
   "metadata": {
    "collapsed": false
   },
   "outputs": [
    {
     "name": "stdout",
     "output_type": "stream",
     "text": [
      "Overwriting ejemplo.c\n"
     ]
    }
   ],
   "source": [
    "%%writefile ejemplo.c\n",
    "\n",
    "#include <mpi.h>\n",
    "#include <stdio.h>\n",
    "#include<unistd.h>\n",
    "\n",
    "int main(int argc, char** argv) {\n",
    "    int rank;\n",
    "    int buf = 0;\n",
    "    const int root=0;\n",
    "\n",
    "    MPI_Init(&argc, &argv);\n",
    "    MPI_Comm_rank(MPI_COMM_WORLD, &rank);\n",
    "\n",
    "    printf(\"[%d]: Before Bcast, buf is %d\\n\", rank, buf);\n",
    "    \n",
    "\n",
    "    if(rank == root) {\n",
    "       buf = 777;\n",
    "    }\n",
    "    \n",
    "    \n",
    "\n",
    "    /* everyone calls bcast, data is taken from root and ends up in everyone's buf */\n",
    "    MPI_Bcast(&buf, 1, MPI_INT, root, MPI_COMM_WORLD);\n",
    "    usleep(5000);\n",
    "\n",
    "    if(rank == root) {\n",
    "       buf = 0;\n",
    "    }\n",
    "    printf(\"\\n[%d]: After Bcast, buf is %d\\n\", rank, buf);\n",
    "\n",
    "    MPI_Finalize();\n",
    "    return 0;\n",
    "}"
   ]
  },
  {
   "cell_type": "code",
   "execution_count": 40,
   "metadata": {
    "collapsed": true
   },
   "outputs": [],
   "source": [
    "!mpicc ejemplo.c -o ejemplo"
   ]
  },
  {
   "cell_type": "code",
   "execution_count": 47,
   "metadata": {
    "collapsed": false
   },
   "outputs": [
    {
     "name": "stdout",
     "output_type": "stream",
     "text": [
      "[1]: Before Bcast, buf is 0\r\n",
      "[3]: Before Bcast, buf is 0\r\n",
      "[4]: Before Bcast, buf is 0\r\n",
      "[5]: Before Bcast, buf is 0\r\n",
      "[2]: Before Bcast, buf is 0\r\n",
      "[7]: Before Bcast, buf is 0\r\n",
      "[0]: Before Bcast, buf is 0\r\n",
      "[8]: Before Bcast, buf is 0\r\n",
      "[6]: Before Bcast, buf is 0\r\n",
      "[9]: Before Bcast, buf is 0\r\n",
      "\r\n",
      "[0]: After Bcast, buf is 0\r\n",
      "\r\n",
      "[1]: After Bcast, buf is 777\r\n",
      "\r\n",
      "[2]: After Bcast, buf is 777\r\n",
      "\r\n",
      "[3]: After Bcast, buf is 777\r\n",
      "\r\n",
      "[4]: After Bcast, buf is 777\r\n",
      "\r\n",
      "[5]: After Bcast, buf is 777\r\n",
      "\r\n",
      "[8]: After Bcast, buf is 777\r\n",
      "\r\n",
      "[7]: After Bcast, buf is 777\r\n",
      "\r\n",
      "[6]: After Bcast, buf is 777\r\n",
      "\r\n",
      "[9]: After Bcast, buf is 777\r\n"
     ]
    }
   ],
   "source": [
    "!mpirun -np 10 ./ejemplo"
   ]
  },
  {
   "cell_type": "code",
   "execution_count": 4,
   "metadata": {
    "collapsed": false
   },
   "outputs": [
    {
     "name": "stdout",
     "output_type": "stream",
     "text": [
      "Overwriting ej4.c\n"
     ]
    }
   ],
   "source": [
    "%%writefile ej4.c\n",
    "#include <stdio.h>\n",
    "#include <mpi.h>\n",
    "#define NUM_STEPS 100000\n",
    "#define MAX_PROC 10\n",
    "\n",
    "void calcDeltaX(float *array, unsigned int num_steps){\n",
    "    float incremento = (float)num_steps/(num_steps * 2); \n",
    "    float step = 1.0/(float)num_steps;\n",
    "    \n",
    "    for (int i = 0; i < num_steps; i++)\n",
    "        array[i] = (i + incremento)*step;\n",
    "}\n",
    "\n",
    "float calcIntegralPI(float *array, int num_steps){\n",
    "    float val = 0.0;\n",
    "    float x;\n",
    "    for(int i = 0; i < num_steps; i++){\n",
    "        x = array[i];\n",
    "        val += 4.0/(1.0+(x*x));\n",
    "    }\n",
    "    \n",
    "    return val;\n",
    "}\n",
    "\n",
    "float sumatoria(float *array, int tope){\n",
    "    float val = 0.0;\n",
    "    for(int i = 0; i < tope; i++)\n",
    "        val += array[i];\n",
    "    \n",
    "    return val;\n",
    "}\n",
    "\n",
    "int main(){\n",
    "    MPI_Init(NULL, NULL);\n",
    "\n",
    "    int rank;\n",
    "    MPI_Comm_rank(MPI_COMM_WORLD, &rank);\n",
    "    int size;\n",
    "    MPI_Comm_size(MPI_COMM_WORLD, &size);\n",
    "    \n",
    "    \n",
    "    float deltaX[NUM_STEPS];\n",
    "    //Creamos el arreglo para los valores de X\n",
    "    if(rank == 0)\n",
    "        calcDeltaX(deltaX, NUM_STEPS);\n",
    "    //carga el arreglo con los valores de la abscisa\n",
    "    \n",
    "    \n",
    "    \n",
    "    float sub_deltaX[NUM_STEPS/MAX_PROC];\n",
    "    //Creamos un buffer para cada proceso\n",
    "    \n",
    "    MPI_Scatter(deltaX, NUM_STEPS/MAX_PROC, MPI_FLOAT, sub_deltaX, NUM_STEPS/MAX_PROC, MPI_FLOAT, 0, MPI_COMM_WORLD);\n",
    "    //Asignamos a cada proceso un subarreglo de los valores\n",
    "    \n",
    "    float sub_area = calcIntegralPI(sub_deltaX, NUM_STEPS/MAX_PROC);\n",
    "    //calculamos el valor del area debajo de la curva de cada subarreglo\n",
    "    \n",
    "    float areas[MAX_PROC];\n",
    "    \n",
    "    MPI_Gather(&sub_area, 1, MPI_FLOAT, areas, 1, MPI_FLOAT, 0, MPI_COMM_WORLD);\n",
    "    \n",
    "    \n",
    "    if(rank==0){\n",
    "        float PI = sumatoria(areas, MAX_PROC) / NUM_STEPS;\n",
    "        printf(\"PI = %.5f\\n\", PI);\n",
    "    }\n",
    "    \n",
    "    \n",
    "    \n",
    "    \n",
    "    \n",
    "    MPI_Barrier(MPI_COMM_WORLD);\n",
    "    MPI_Finalize();\n",
    "    return 0;\n",
    "}"
   ]
  },
  {
   "cell_type": "code",
   "execution_count": 5,
   "metadata": {
    "collapsed": false
   },
   "outputs": [],
   "source": [
    "!mpicc ej4.c -o ej4"
   ]
  },
  {
   "cell_type": "code",
   "execution_count": 6,
   "metadata": {
    "collapsed": false
   },
   "outputs": [
    {
     "name": "stdout",
     "output_type": "stream",
     "text": [
      "PI = 3.14159\r\n"
     ]
    }
   ],
   "source": [
    "!mpirun -np 10 ./ej4"
   ]
  },
  {
   "cell_type": "code",
   "execution_count": null,
   "metadata": {
    "collapsed": true
   },
   "outputs": [],
   "source": []
  }
 ],
 "metadata": {
  "kernelspec": {
   "display_name": "Python 2",
   "language": "python",
   "name": "python2"
  },
  "language_info": {
   "codemirror_mode": {
    "name": "ipython",
    "version": 2
   },
   "file_extension": ".py",
   "mimetype": "text/x-python",
   "name": "python",
   "nbconvert_exporter": "python",
   "pygments_lexer": "ipython2",
   "version": "2.7.12"
  }
 },
 "nbformat": 4,
 "nbformat_minor": 1
}
