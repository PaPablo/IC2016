{
 "cells": [
  {
   "cell_type": "code",
   "execution_count": 2,
   "metadata": {
    "collapsed": false
   },
   "outputs": [
    {
     "name": "stdout",
     "output_type": "stream",
     "text": [
      "Writing README.md\n"
     ]
    }
   ],
   "source": [
    "%%writefile README.md\n",
    "ALLENDE, Lucila Abigail\n",
    "SERRUYA ALOISI, Luciano Sebastián\n",
    "TOLEDO MARGALEF, Pablo Adrián"
   ]
  },
  {
   "cell_type": "code",
   "execution_count": 70,
   "metadata": {
    "collapsed": false
   },
   "outputs": [
    {
     "name": "stdout",
     "output_type": "stream",
     "text": [
      "Overwriting ej1.c\n"
     ]
    }
   ],
   "source": [
    "%%writefile ej1.c\n",
    "#include <mpi.h>\n",
    "#include <stdio.h>\n",
    "#include <unistd.h>\n",
    "_Bool esPar(int val){\n",
    "    return !(val % 2);\n",
    "}\n",
    "int main(int argc, char const *argv[])\n",
    "{\n",
    "    int size, rank;\n",
    "    MPI_Init(NULL, NULL);\n",
    "    MPI_Comm_size(MPI_COMM_WORLD, &size);\n",
    "    MPI_Comm_rank(MPI_COMM_WORLD, &rank);\n",
    "    int x;\n",
    "    \n",
    "    if (esPar(rank)) \n",
    "    {\n",
    "        \n",
    "        printf(\"RANK %d: Envio %d\\n\", rank, x);\n",
    "        MPI_Send(&x, 1, MPI_INT, rank+1, 0, MPI_COMM_WORLD);\n",
    "    } else {\n",
    "        MPI_Status status;\n",
    "        MPI_Recv(&x, 1, MPI_INT, rank-1, 0, MPI_COMM_WORLD, &status);\n",
    "        printf(\"RANK %d: Recibi %d\\n\", rank, x);\n",
    "        //printf(\"Msg: %d Source: %d Tag: %d\\n\", x, status.MPI_SOURCE, status.MPI_TAG);\n",
    "\n",
    "    }\n",
    "    \n",
    "    \n",
    "    MPI_Finalize();\n",
    "    return 0;\n",
    "}\n"
   ]
  },
  {
   "cell_type": "code",
   "execution_count": 71,
   "metadata": {
    "collapsed": false
   },
   "outputs": [],
   "source": [
    "!mpicc ej1.c -o ej1"
   ]
  },
  {
   "cell_type": "code",
   "execution_count": 72,
   "metadata": {
    "collapsed": false
   },
   "outputs": [
    {
     "name": "stdout",
     "output_type": "stream",
     "text": [
      "RANK 0: Envio 2\r\n",
      "RANK 2: Envio 2\r\n",
      "RANK 1: Recibi 2\r\n",
      "RANK 3: Recibi 2\r\n"
     ]
    }
   ],
   "source": [
    "!mpirun -np 4 ./ej1"
   ]
  },
  {
   "cell_type": "code",
   "execution_count": 98,
   "metadata": {
    "collapsed": false
   },
   "outputs": [
    {
     "name": "stdout",
     "output_type": "stream",
     "text": [
      "Overwriting ej1a.c\n"
     ]
    }
   ],
   "source": [
    "%%writefile ej1a.c\n",
    "#include <mpi.h>\n",
    "#include <stdio.h>\n",
    "#include <unistd.h>\n",
    "\n",
    "\n",
    "_Bool esPar(int val){\n",
    "    return !(val % 2);\n",
    "}\n",
    "int main(int argc, char const *argv[])\n",
    "{\n",
    "    int size, rank;\n",
    "    MPI_Init(NULL, NULL);\n",
    "    MPI_Comm_size(MPI_COMM_WORLD, &size);\n",
    "    MPI_Comm_rank(MPI_COMM_WORLD, &rank);\n",
    "    int x = 1;\n",
    "    char ping[] = \"Hago ping\";\n",
    "    char pong[] = \"Hago pong\";\n",
    "    \n",
    "    if (esPar(rank)) \n",
    "    {\n",
    "        \n",
    "        //printf(\"RANK %d: Envio %d\\n\", rank, x);\n",
    "        printf(\"RANK %d, %s\\n\", rank, ping);\n",
    "        MPI_Send(&pong, sizeof(pong), MPI_BYTE, rank+1, 0, MPI_COMM_WORLD);\n",
    "    } else {\n",
    "        MPI_Status status;\n",
    "        MPI_Recv(&pong, sizeof(pong), MPI_BYTE, rank-1, 0, MPI_COMM_WORLD, &status);\n",
    "        printf(\"RANK %d, %s\\n\", rank, pong);\n",
    "        \n",
    "        //printf(\"RANK %d: Recibi %d\\n\", rank, x);\n",
    "        //printf(\"Msg: %d Source: %d Tag: %d\\n\", x, status.MPI_SOURCE, status.MPI_TAG);\n",
    "\n",
    "    }\n",
    "    \n",
    "    \n",
    "    MPI_Finalize();\n",
    "    return 0;\n",
    "}\n"
   ]
  },
  {
   "cell_type": "code",
   "execution_count": 99,
   "metadata": {
    "collapsed": false
   },
   "outputs": [],
   "source": [
    "!mpicc ej1a.c -o ej1a"
   ]
  },
  {
   "cell_type": "code",
   "execution_count": 87,
   "metadata": {
    "collapsed": false
   },
   "outputs": [
    {
     "name": "stdout",
     "output_type": "stream",
     "text": [
      "Hago ping\r\n",
      "Hago pong\r\n",
      "Hago ping\r\n",
      "Hago pong\r\n"
     ]
    }
   ],
   "source": [
    "!mpirun -np 4 ./ej1a"
   ]
  },
  {
   "cell_type": "code",
   "execution_count": null,
   "metadata": {
    "collapsed": true
   },
   "outputs": [],
   "source": []
  }
 ],
 "metadata": {
  "kernelspec": {
   "display_name": "Python 2",
   "language": "python",
   "name": "python2"
  },
  "language_info": {
   "codemirror_mode": {
    "name": "ipython",
    "version": 2
   },
   "file_extension": ".py",
   "mimetype": "text/x-python",
   "name": "python",
   "nbconvert_exporter": "python",
   "pygments_lexer": "ipython2",
   "version": "2.7.12"
  }
 },
 "nbformat": 4,
 "nbformat_minor": 1
}
