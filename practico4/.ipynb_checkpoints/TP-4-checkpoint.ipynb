{
 "cells": [
  {
   "cell_type": "code",
   "execution_count": 2,
   "metadata": {
    "collapsed": false
   },
   "outputs": [
    {
     "name": "stdout",
     "output_type": "stream",
     "text": [
      "Writing README.md\n"
     ]
    }
   ],
   "source": [
    "%%writefile README.md\n",
    "ALLENDE, Lucila Abigail\n",
    "SERRUYA ALOISI, Luciano Sebastián\n",
    "TOLEDO MARGALEF, Pablo Adrián"
   ]
  },
  {
   "cell_type": "code",
   "execution_count": 38,
   "metadata": {
    "collapsed": false
   },
   "outputs": [
    {
     "name": "stdout",
     "output_type": "stream",
     "text": [
      "Overwriting ej1.c\n"
     ]
    }
   ],
   "source": [
    "%%writefile ej1.c\n",
    "#include <mpi.h>\n",
    "#include <stdio.h>\n",
    "#include <unistd.h>\n",
    "_Bool esPar(int val){\n",
    "    return !(val % 2);\n",
    "}\n",
    "int main(int argc, char const *argv[])\n",
    "{\n",
    "    int size, rank, rankRecv;\n",
    "    MPI_Init(NULL, NULL);\n",
    "    MPI_Comm_size(MPI_COMM_WORLD, &size);\n",
    "    MPI_Comm_rank(MPI_COMM_WORLD, &rank);\n",
    "    \n",
    "    if (esPar(rank)) \n",
    "    {\n",
    "        \n",
    "        printf(\"RANK %d: Envío %d\\n\", rank, rank);\n",
    "        MPI_Send(&rank, 1, MPI_INT, rank+1, 0, MPI_COMM_WORLD);\n",
    "    } else {        \n",
    "        MPI_Status status;\n",
    "        MPI_Recv(&rankRecv, 1, MPI_INT, rank-1, 0, MPI_COMM_WORLD, &status);\n",
    "        printf(\"RANK %d: Recibí del proceso RANK %d\\n\", rank, rankRecv);\n",
    "        printf(\"Msg: %d Source: %d Tag: %d\\n\", rankRecv, status.MPI_SOURCE, status.MPI_TAG);\n",
    "\n",
    "    }\n",
    "    \n",
    "    \n",
    "    MPI_Finalize();\n",
    "    return 0;\n",
    "}\n"
   ]
  },
  {
   "cell_type": "code",
   "execution_count": 39,
   "metadata": {
    "collapsed": false
   },
   "outputs": [],
   "source": [
    "!mpicc ej1.c -o ej1"
   ]
  },
  {
   "cell_type": "code",
   "execution_count": 40,
   "metadata": {
    "collapsed": false
   },
   "outputs": [
    {
     "name": "stdout",
     "output_type": "stream",
     "text": [
      "RANK 0: Envío 0\r\n",
      "RANK 1: Recibí del proceso RANK 0\r\n",
      "Msg: 0 Source: 0 Tag: 0\r\n",
      "RANK 2: Envío 2\r\n",
      "RANK 3: Recibí del proceso RANK 2\r\n",
      "Msg: 2 Source: 2 Tag: 0\r\n"
     ]
    }
   ],
   "source": [
    "!mpirun -np 4 ./ej1"
   ]
  },
  {
   "cell_type": "code",
   "execution_count": 33,
   "metadata": {
    "collapsed": false
   },
   "outputs": [
    {
     "name": "stdout",
     "output_type": "stream",
     "text": [
      "Overwriting ej1a.c\n"
     ]
    }
   ],
   "source": [
    "%%writefile ej1a.c\n",
    "#include <mpi.h>\n",
    "#include <stdio.h>\n",
    "#include <unistd.h>\n",
    "\n",
    "\n",
    "_Bool esPar(int val){\n",
    "    return !(val % 2);\n",
    "}\n",
    "int main(int argc, char const *argv[])\n",
    "{\n",
    "    int size, rank;\n",
    "    MPI_Init(NULL, NULL);\n",
    "    MPI_Comm_size(MPI_COMM_WORLD, &size);\n",
    "    MPI_Comm_rank(MPI_COMM_WORLD, &rank);\n",
    "    int x = 1;\n",
    "    char ping[] = \"Hago ping\";\n",
    "    char pong[] = \"Hago pong\";\n",
    "    \n",
    "    if (esPar(rank)) \n",
    "    {\n",
    "        \n",
    "        //printf(\"RANK %d: Envio %d\\n\", rank, x);\n",
    "        printf(\"RANK %d, %s\\n\", rank, ping);\n",
    "        MPI_Send(&pong, sizeof(pong), MPI_BYTE, rank+1, 0, MPI_COMM_WORLD);\n",
    "    } else {\n",
    "        MPI_Status status;\n",
    "        MPI_Recv(&pong, sizeof(pong), MPI_BYTE, rank-1, 0, MPI_COMM_WORLD, &status);\n",
    "        printf(\"RANK %d, %s\\n\", rank, pong);\n",
    "        \n",
    "        //printf(\"RANK %d: Recibi %d\\n\", rank, x);\n",
    "        //printf(\"Msg: %d Source: %d Tag: %d\\n\", x, status.MPI_SOURCE, status.MPI_TAG);\n",
    "\n",
    "    }\n",
    "    \n",
    "    \n",
    "    MPI_Finalize();\n",
    "    return 0;\n",
    "}\n"
   ]
  },
  {
   "cell_type": "code",
   "execution_count": 34,
   "metadata": {
    "collapsed": false
   },
   "outputs": [],
   "source": [
    "!mpicc ej1a.c -o ej1a"
   ]
  },
  {
   "cell_type": "code",
   "execution_count": 35,
   "metadata": {
    "collapsed": false
   },
   "outputs": [
    {
     "name": "stdout",
     "output_type": "stream",
     "text": [
      "RANK 2, Hago ping\r\n",
      "RANK 3, Hago pong\r\n",
      "RANK 0, Hago ping\r\n",
      "RANK 1, Hago pong\r\n"
     ]
    }
   ],
   "source": [
    "!mpirun -np 4 ./ej1a"
   ]
  },
  {
   "cell_type": "code",
   "execution_count": 254,
   "metadata": {
    "collapsed": false
   },
   "outputs": [
    {
     "name": "stdout",
     "output_type": "stream",
     "text": [
      "Overwriting ej2.c\n"
     ]
    }
   ],
   "source": [
    "%%writefile ej2.c\n",
    "#include <mpi.h>\n",
    "#include<stdio.h>\n",
    "#include<stdlib.h>\n",
    "#include<unistd.h>\n",
    "\n",
    "#define MAX_PROCESOS 100\n",
    "\n",
    "int main(){\n",
    "    int size, rank;\n",
    "    //int msj;\n",
    "    srand(getpid());\n",
    "    \n",
    "    MPI_Init(NULL, NULL);\n",
    "    MPI_Comm_size(MPI_COMM_WORLD, &size);\n",
    "    MPI_Comm_rank(MPI_COMM_WORLD, &rank);\n",
    "    \n",
    "    if((rank == 0) || (rank == 1) || (rank == 2)){\n",
    "        //establecemos que los procesos con rank 0, 1, 2 van a ser lo que envien mensajes\n",
    "        \n",
    "        int envio;\n",
    "        \n",
    "        printf(\"Soy el RANK %d, envío\\n\", rank);\n",
    "        \n",
    "        for(int i = rank+1; i < MAX_PROCESOS; i++){\n",
    "            envio = rand() % 100;\n",
    "            MPI_Send(&envio, 1, MPI_INT, i, rand()%100, MPI_COMM_WORLD);\n",
    "            //enviamos un mensaje con un valor y etiqueta aleatoria\n",
    "        }\n",
    "    }\n",
    "    else{\n",
    "        //los demas procesos reciben\n",
    "        \n",
    "        MPI_Status status;\n",
    "        int msj;\n",
    "        \n",
    "        MPI_Recv(&msj, 1, MPI_INT, MPI_ANY_SOURCE, MPI_ANY_TAG, MPI_COMM_WORLD, &status);\n",
    "        //recibimos el mensaje de cualquier fuente y con cualquier etiqueta\n",
    "        \n",
    "        printf(\"RANK %d, recibí un %d (SOURCE %d, TAG %d)\\n\", rank, msj, status.MPI_SOURCE, status.MPI_TAG);\n",
    "        \n",
    "    }\n",
    "    \n",
    "        \n",
    "    \n",
    "    \n",
    "    MPI_Finalize();\n",
    "    return 0;\n",
    "}"
   ]
  },
  {
   "cell_type": "code",
   "execution_count": 255,
   "metadata": {
    "collapsed": false
   },
   "outputs": [],
   "source": [
    "!mpicc ej2.c -o ej2"
   ]
  },
  {
   "cell_type": "code",
   "execution_count": 260,
   "metadata": {
    "collapsed": false,
    "scrolled": true
   },
   "outputs": [
    {
     "name": "stdout",
     "output_type": "stream",
     "text": [
      "Soy el RANK 1, envío\n",
      "RANK 12, recibí un 17 (SOURCE 1, TAG 72)\n",
      "RANK 24, recibí un 59 (SOURCE 1, TAG 2)\n",
      "RANK 32, recibí un 39 (SOURCE 1, TAG 74)\n",
      "RANK 53, recibí un 36 (SOURCE 1, TAG 87)\n",
      "RANK 68, recibí un 55 (SOURCE 1, TAG 93)\n",
      "RANK 98, recibí un 94 (SOURCE 1, TAG 24)\n",
      "RANK 96, recibí un 66 (SOURCE 1, TAG 21)\n",
      "RANK 36, recibí un 1 (SOURCE 1, TAG 83)\n",
      "RANK 51, recibí un 97 (SOURCE 1, TAG 91)\n",
      "RANK 83, recibí un 60 (SOURCE 1, TAG 57)\n",
      "RANK 84, recibí un 18 (SOURCE 1, TAG 15)\n",
      "RANK 61, recibí un 7 (SOURCE 1, TAG 90)\n",
      "RANK 60, recibí un 29 (SOURCE 1, TAG 67)\n",
      "RANK 52, recibí un 59 (SOURCE 1, TAG 44)\n",
      "RANK 99, recibí un 78 (SOURCE 1, TAG 13)\n",
      "RANK 10, recibí un 46 (SOURCE 1, TAG 71)\n",
      "RANK 34, recibí un 33 (SOURCE 1, TAG 11)\n",
      "RANK 42, recibí un 64 (SOURCE 1, TAG 69)\n",
      "RANK 57, recibí un 59 (SOURCE 1, TAG 85)\n",
      "RANK 69, recibí un 3 (SOURCE 1, TAG 64)\n",
      "Soy el RANK 0, envío\n",
      "RANK 72, recibí un 5 (SOURCE 1, TAG 95)\n",
      "RANK 41, recibí un 41 (SOURCE 0, TAG 8)\n",
      "RANK 15, recibí un 58 (SOURCE 0, TAG 6)\n",
      "RANK 76, recibí un 29 (SOURCE 0, TAG 3)\n",
      "RANK 14, recibí un 84 (SOURCE 0, TAG 8)\n",
      "RANK 43, recibí un 97 (SOURCE 0, TAG 71)\n",
      "RANK 91, recibí un 50 (SOURCE 0, TAG 26)\n",
      "RANK 88, recibí un 18 (SOURCE 0, TAG 64)\n",
      "Soy el RANK 2, envío\n",
      "RANK 31, recibí un 91 (SOURCE 0, TAG 82)\n",
      "RANK 71, recibí un 25 (SOURCE 0, TAG 26)\n",
      "RANK 9, recibí un 98 (SOURCE 0, TAG 4)\n",
      "RANK 33, recibí un 38 (SOURCE 0, TAG 68)\n",
      "RANK 20, recibí un 95 (SOURCE 0, TAG 36)\n",
      "RANK 79, recibí un 79 (SOURCE 0, TAG 32)\n",
      "RANK 21, recibí un 77 (SOURCE 0, TAG 94)\n",
      "RANK 45, recibí un 56 (SOURCE 0, TAG 59)\n",
      "RANK 81, recibí un 45 (SOURCE 0, TAG 53)\n",
      "RANK 82, recibí un 63 (SOURCE 0, TAG 31)\n",
      "RANK 3, recibí un 95 (SOURCE 0, TAG 83)\n",
      "RANK 56, recibí un 42 (SOURCE 0, TAG 38)\n",
      "RANK 62, recibí un 44 (SOURCE 0, TAG 72)\n",
      "RANK 77, recibí un 19 (SOURCE 0, TAG 73)\n",
      "RANK 25, recibí un 35 (SOURCE 0, TAG 97)\n",
      "RANK 59, recibí un 89 (SOURCE 0, TAG 67)\n",
      "RANK 47, recibí un 94 (SOURCE 0, TAG 63)\n",
      "RANK 4, recibí un 45 (SOURCE 0, TAG 80)\n",
      "RANK 64, recibí un 4 (SOURCE 0, TAG 60)\n",
      "RANK 40, recibí un 21 (SOURCE 0, TAG 91)\n",
      "RANK 35, recibí un 98 (SOURCE 0, TAG 70)\n",
      "RANK 86, recibí un 83 (SOURCE 0, TAG 41)\n",
      "RANK 26, recibí un 87 (SOURCE 0, TAG 31)\n",
      "RANK 50, recibí un 8 (SOURCE 0, TAG 33)\n",
      "RANK 27, recibí un 76 (SOURCE 0, TAG 36)\n",
      "RANK 7, recibí un 33 (SOURCE 0, TAG 81)\n",
      "RANK 8, recibí un 18 (SOURCE 0, TAG 40)\n",
      "RANK 11, recibí un 44 (SOURCE 0, TAG 78)\n",
      "RANK 28, recibí un 48 (SOURCE 0, TAG 39)\n",
      "RANK 22, recibí un 61 (SOURCE 0, TAG 62)\n",
      "RANK 66, recibí un 93 (SOURCE 0, TAG 45)\n",
      "RANK 39, recibí un 4 (SOURCE 0, TAG 43)\n",
      "RANK 18, recibí un 33 (SOURCE 0, TAG 63)\n",
      "RANK 37, recibí un 16 (SOURCE 0, TAG 73)\n",
      "RANK 17, recibí un 68 (SOURCE 0, TAG 3)\n",
      "RANK 13, recibí un 63 (SOURCE 0, TAG 46)\n",
      "RANK 19, recibí un 86 (SOURCE 0, TAG 30)\n",
      "RANK 94, recibí un 18 (SOURCE 0, TAG 31)\n",
      "RANK 46, recibí un 28 (SOURCE 0, TAG 47)\n",
      "RANK 78, recibí un 75 (SOURCE 0, TAG 48)\n",
      "RANK 49, recibí un 83 (SOURCE 0, TAG 84)\n",
      "RANK 97, recibí un 83 (SOURCE 0, TAG 64)\n",
      "RANK 90, recibí un 97 (SOURCE 0, TAG 64)\n",
      "RANK 16, recibí un 83 (SOURCE 0, TAG 38)\n",
      "RANK 95, recibí un 26 (SOURCE 0, TAG 78)\n",
      "RANK 80, recibí un 8 (SOURCE 0, TAG 18)\n",
      "RANK 5, recibí un 97 (SOURCE 0, TAG 47)\n",
      "RANK 70, recibí un 31 (SOURCE 0, TAG 8)\n",
      "RANK 30, recibí un 99 (SOURCE 0, TAG 45)\n",
      "RANK 93, recibí un 52 (SOURCE 0, TAG 94)\n",
      "RANK 87, recibí un 21 (SOURCE 0, TAG 82)\n",
      "RANK 23, recibí un 27 (SOURCE 0, TAG 79)\n",
      "RANK 6, recibí un 98 (SOURCE 0, TAG 25)\n",
      "RANK 58, recibí un 7 (SOURCE 0, TAG 97)\n",
      "RANK 73, recibí un 91 (SOURCE 0, TAG 5)\n",
      "RANK 48, recibí un 58 (SOURCE 0, TAG 32)\n",
      "RANK 63, recibí un 76 (SOURCE 0, TAG 54)\n",
      "RANK 89, recibí un 87 (SOURCE 0, TAG 92)\n",
      "RANK 55, recibí un 97 (SOURCE 0, TAG 39)\n",
      "RANK 29, recibí un 34 (SOURCE 0, TAG 32)\n",
      "RANK 92, recibí un 67 (SOURCE 0, TAG 70)\n",
      "RANK 44, recibí un 8 (SOURCE 0, TAG 83)\n",
      "RANK 75, recibí un 24 (SOURCE 0, TAG 6)\n",
      "RANK 38, recibí un 78 (SOURCE 2, TAG 50)\n",
      "RANK 85, recibí un 16 (SOURCE 0, TAG 95)\n",
      "RANK 74, recibí un 74 (SOURCE 0, TAG 32)\n",
      "RANK 65, recibí un 38 (SOURCE 0, TAG 13)\n",
      "RANK 67, recibí un 34 (SOURCE 0, TAG 58)\n",
      "RANK 54, recibí un 66 (SOURCE 0, TAG 51)\n"
     ]
    }
   ],
   "source": [
    "!mpirun -np 100 ./ej2"
   ]
  },
  {
   "cell_type": "code",
   "execution_count": 561,
   "metadata": {
    "collapsed": false
   },
   "outputs": [
    {
     "name": "stdout",
     "output_type": "stream",
     "text": [
      "Overwriting ej3.c\n"
     ]
    }
   ],
   "source": [
    "%%writefile ej3.c\n",
    "#include <mpi.h>\n",
    "#include<stdio.h>\n",
    "#include<stdlib.h>\n",
    "#include<unistd.h>\n",
    "\n",
    "#define MAX_PROCESOS 3\n",
    "#define TAG_EXIT 0\n",
    "\n",
    "/*Hay un problema con el Probe. Si se hace el Probe del mensaje pero no se recibe,\n",
    "se queda haciendo el Probe con ese mensaje y no recibe los nuevos (no termina nunca)\n",
    "Habría que ver una forma para que pueda descartar ese mensaje que no le sirve*/ \n",
    "\n",
    "_Bool esPar(int val){\n",
    "    return !(val % 2);\n",
    "}\n",
    "\n",
    "int main(){\n",
    "    int size, rank, flag, mensaje;\n",
    "    MPI_Status status;\n",
    "    \n",
    "    srand(getpid());\n",
    "    MPI_Init(NULL, NULL);\n",
    "    MPI_Comm_size(MPI_COMM_WORLD, &size);\n",
    "    MPI_Comm_rank(MPI_COMM_WORLD, &rank);\n",
    "    \n",
    "    if(rank == 0){\n",
    "        \n",
    "        int envio, i;\n",
    "        int msj = rand()%100;\n",
    "        \n",
    "        printf(\"Soy el RANK %d, voy a enviar %d mensajes\\n\", rank, msj);\n",
    "\n",
    "        for(i = 0; i < msj-2; i++){\n",
    "            envio = i;\n",
    "            MPI_Send(&envio, 1, MPI_INT, (i%2)+1, (rand()%100)+1, MPI_COMM_WORLD);\n",
    "        }\n",
    "            /*le enviamos un msj al proceso con RANK indicado por el i\n",
    "            (utilizamos una etiqueta aleatoria). Cada proceso la recibe y muestra un mensaje si le toco una etiqueta\n",
    "            correspondiente a el (el RANK 1 muestra pares, RANK 2 impares)*/\n",
    "\n",
    "        MPI_Send(&envio, 1, MPI_INT, 1, TAG_EXIT, MPI_COMM_WORLD);\n",
    "        MPI_Send(&envio, 1, MPI_INT, 2, TAG_EXIT, MPI_COMM_WORLD);\n",
    "        //Enviamos estos dos mensajes para que los procesos de RANK 1 y 2 terminen\n",
    "        \n",
    "    } else if (rank == 1){\n",
    "        \n",
    "        //los demas procesos reciben\n",
    "        \n",
    "        while(1){\n",
    "            \n",
    "            MPI_Probe(MPI_ANY_SOURCE, MPI_ANY_TAG, MPI_COMM_WORLD, &status);\n",
    "            //Vemos que nos mandaron\n",
    "            \n",
    "            if(status.MPI_TAG == TAG_EXIT){\n",
    "                printf(\"RANK %d: Recibi TAG %d. Me fui\\n\\n\", rank, status.MPI_TAG);\n",
    "                break;\n",
    "            }\n",
    "            \n",
    "            \n",
    "            \n",
    "            if(esPar(status.MPI_TAG)){\n",
    "                MPI_Recv(&mensaje, 1, MPI_INT, MPI_ANY_SOURCE, MPI_ANY_TAG, MPI_COMM_WORLD, &status);\n",
    "                printf(\"RANK %d (recibo tags pares), recibí un %d (SOURCE %d, TAG %d)\\n\", \n",
    "                       rank, mensaje, status.MPI_SOURCE, status.MPI_TAG);\n",
    "            }\n",
    "            else{\n",
    "                //aca se tendria que descartar el mensaje y poder recibir otro\n",
    "                \n",
    "                MPI_Recv(&mensaje, 1, MPI_INT, MPI_ANY_SOURCE, MPI_ANY_TAG, MPI_COMM_WORLD, &status);\n",
    "            }\n",
    "        }\n",
    "\n",
    "    }else{\n",
    "\n",
    "        while(1){\n",
    "\n",
    "            MPI_Probe(MPI_ANY_SOURCE, MPI_ANY_TAG, MPI_COMM_WORLD, &status);\n",
    "            //Vemos que nos mandaron\n",
    "\n",
    "            if(status.MPI_TAG == TAG_EXIT){\n",
    "                printf(\"RANK %d: Recibi TAG %d. Me fui\\n\\n\", rank, status.MPI_TAG);\n",
    "                break;\n",
    "            }\n",
    "            \n",
    "            \n",
    "            if(!(esPar(status.MPI_TAG))){\n",
    "                MPI_Recv(&mensaje, 1, MPI_INT, MPI_ANY_SOURCE, MPI_ANY_TAG, MPI_COMM_WORLD, &status);\n",
    "                printf(\"RANK %d (recibo tags impares), recibí un %d (SOURCE %d, TAG %d)\\n\", \n",
    "                       rank, mensaje, status.MPI_SOURCE, status.MPI_TAG);\n",
    "            }\n",
    "            else{\n",
    "\n",
    "                //aca se tendria que descartar el mensaje y poder recibir otro\n",
    "                \n",
    "                MPI_Recv(&mensaje, 1, MPI_INT, MPI_ANY_SOURCE, MPI_ANY_TAG, MPI_COMM_WORLD, &status);\n",
    "            }\n",
    "        }\n",
    "    }\n",
    "    \n",
    "    MPI_Finalize();\n",
    "    return 0;\n",
    "}"
   ]
  },
  {
   "cell_type": "code",
   "execution_count": 562,
   "metadata": {
    "collapsed": false
   },
   "outputs": [],
   "source": [
    "!mpicc ej3.c -o ej3"
   ]
  },
  {
   "cell_type": "code",
   "execution_count": 566,
   "metadata": {
    "collapsed": false
   },
   "outputs": [
    {
     "name": "stdout",
     "output_type": "stream",
     "text": [
      "Soy el RANK 0, voy a enviar 75 mensajes\r\n",
      "RANK 1 (recibo tags pares), recibí un 2 (SOURCE 0, TAG 16)\r\n",
      "RANK 2 (recibo tags impares), recibí un 1 (SOURCE 0, TAG 91)\r\n",
      "RANK 2 (recibo tags impares), recibí un 5 (SOURCE 0, TAG 61)\r\n",
      "RANK 2 (recibo tags impares), recibí un 7 (SOURCE 0, TAG 65)\r\n",
      "RANK 2 (recibo tags impares), recibí un 9 (SOURCE 0, TAG 99)\r\n",
      "RANK 1 (recibo tags pares), recibí un 6 (SOURCE 0, TAG 88)\r\n",
      "RANK 2 (recibo tags impares), recibí un 11 (SOURCE 0, TAG 89)\r\n",
      "RANK 2 (recibo tags impares), recibí un 13 (SOURCE 0, TAG 5)\r\n",
      "RANK 1 (recibo tags pares), recibí un 10 (SOURCE 0, TAG 8)\r\n",
      "RANK 1 (recibo tags pares), recibí un 12 (SOURCE 0, TAG 96)\r\n",
      "RANK 1 (recibo tags pares), recibí un 18 (SOURCE 0, TAG 94)\r\n",
      "RANK 1 (recibo tags pares), recibí un 20 (SOURCE 0, TAG 38)\r\n",
      "RANK 2 (recibo tags impares), recibí un 21 (SOURCE 0, TAG 53)\r\n",
      "RANK 2 (recibo tags impares), recibí un 25 (SOURCE 0, TAG 55)\r\n",
      "RANK 2 (recibo tags impares), recibí un 27 (SOURCE 0, TAG 51)\r\n",
      "RANK 1 (recibo tags pares), recibí un 26 (SOURCE 0, TAG 36)\r\n",
      "RANK 1 (recibo tags pares), recibí un 28 (SOURCE 0, TAG 16)\r\n",
      "RANK 2 (recibo tags impares), recibí un 29 (SOURCE 0, TAG 3)\r\n",
      "RANK 1 (recibo tags pares), recibí un 30 (SOURCE 0, TAG 26)\r\n",
      "RANK 2 (recibo tags impares), recibí un 33 (SOURCE 0, TAG 93)\r\n",
      "RANK 2 (recibo tags impares), recibí un 37 (SOURCE 0, TAG 85)\r\n",
      "RANK 1 (recibo tags pares), recibí un 38 (SOURCE 0, TAG 30)\r\n",
      "RANK 2 (recibo tags impares), recibí un 41 (SOURCE 0, TAG 89)\r\n",
      "RANK 1 (recibo tags pares), recibí un 42 (SOURCE 0, TAG 98)\r\n",
      "RANK 2 (recibo tags impares), recibí un 49 (SOURCE 0, TAG 95)\r\n",
      "RANK 1 (recibo tags pares), recibí un 48 (SOURCE 0, TAG 50)\r\n",
      "RANK 2 (recibo tags impares), recibí un 51 (SOURCE 0, TAG 39)\r\n",
      "RANK 2 (recibo tags impares), recibí un 53 (SOURCE 0, TAG 87)\r\n",
      "RANK 1 (recibo tags pares), recibí un 54 (SOURCE 0, TAG 4)\r\n",
      "RANK 2 (recibo tags impares), recibí un 55 (SOURCE 0, TAG 7)\r\n",
      "RANK 1 (recibo tags pares), recibí un 56 (SOURCE 0, TAG 42)\r\n",
      "RANK 2 (recibo tags impares), recibí un 59 (SOURCE 0, TAG 9)\r\n",
      "RANK 2 (recibo tags impares), recibí un 61 (SOURCE 0, TAG 87)\r\n",
      "RANK 1 (recibo tags pares), recibí un 60 (SOURCE 0, TAG 94)\r\n",
      "RANK 1 (recibo tags pares), recibí un 62 (SOURCE 0, TAG 64)\r\n",
      "RANK 2 (recibo tags impares), recibí un 63 (SOURCE 0, TAG 39)\r\n",
      "RANK 2 (recibo tags impares), recibí un 65 (SOURCE 0, TAG 61)\r\n",
      "RANK 1 (recibo tags pares), recibí un 66 (SOURCE 0, TAG 4)\r\n",
      "RANK 1: Recibi TAG 0. Me fui\r\n",
      "\r\n",
      "RANK 2 (recibo tags impares), recibí un 69 (SOURCE 0, TAG 85)\r\n",
      "RANK 2 (recibo tags impares), recibí un 71 (SOURCE 0, TAG 79)\r\n",
      "RANK 2: Recibi TAG 0. Me fui\r\n",
      "\r\n"
     ]
    }
   ],
   "source": [
    "!mpirun -np 3 ./ej3"
   ]
  },
  {
   "cell_type": "code",
   "execution_count": 429,
   "metadata": {
    "collapsed": false
   },
   "outputs": [
    {
     "name": "stdout",
     "output_type": "stream",
     "text": [
      "Overwriting ejemplo.c\n"
     ]
    }
   ],
   "source": [
    "%%writefile ejemplo.c\n",
    "\n",
    "#include <mpi.h>\n",
    "#include <stdio.h>\n",
    "#include<unistd.h>\n",
    "\n",
    "int main(int argc, char** argv) {\n",
    "    int rank;\n",
    "    int buf = 0;\n",
    "    const int root=0;\n",
    "\n",
    "    MPI_Init(&argc, &argv);\n",
    "    MPI_Comm_rank(MPI_COMM_WORLD, &rank);\n",
    "\n",
    "\n",
    "    printf(\"[%d]: Before Bcast, buf is %d\\n\", rank, buf);\n",
    "\n",
    "    if(rank == root) {\n",
    "       buf = 777;\n",
    "    }\n",
    "\n",
    "    /* everyone calls bcast, data is taken from root and ends up in everyone's buf */\n",
    "    MPI_Bcast(&buf, 1, MPI_INT, root, MPI_COMM_WORLD);\n",
    "    usleep(50000);\n",
    "\n",
    "    printf(\"\\n[%d]: After Bcast, buf is %d\\n\", rank, buf);\n",
    "\n",
    "    MPI_Finalize();\n",
    "    return 0;\n",
    "}"
   ]
  },
  {
   "cell_type": "code",
   "execution_count": 430,
   "metadata": {
    "collapsed": true
   },
   "outputs": [],
   "source": [
    "!mpicc ejemplo.c -o ejemplo"
   ]
  },
  {
   "cell_type": "code",
   "execution_count": 431,
   "metadata": {
    "collapsed": false
   },
   "outputs": [
    {
     "name": "stdout",
     "output_type": "stream",
     "text": [
      "[5]: Before Bcast, buf is 0\n",
      "[0]: Before Bcast, buf is 777\n",
      "[9]: Before Bcast, buf is 0\n",
      "[2]: Before Bcast, buf is 0\n",
      "[3]: Before Bcast, buf is 0\n",
      "[7]: Before Bcast, buf is 0\n",
      "[1]: Before Bcast, buf is 0\n",
      "[8]: Before Bcast, buf is 0\n",
      "[6]: Before Bcast, buf is 0\n",
      "[4]: Before Bcast, buf is 0\n",
      "\n",
      "[0]: After Bcast, buf is 777\n",
      "\n",
      "[2]: After Bcast, buf is 777\n",
      "\n",
      "[3]: After Bcast, buf is 777\n",
      "\n",
      "[1]: After Bcast, buf is 777\n",
      "\n",
      "[9]: After Bcast, buf is 777\n",
      "\n",
      "[8]: After Bcast, buf is 777\n",
      "\n",
      "[4]: After Bcast, buf is 777\n",
      "\n",
      "[7]: After Bcast, buf is 777\n",
      "\n",
      "[5]: After Bcast, buf is 777\n",
      "\n",
      "[6]: After Bcast, buf is 777\n"
     ]
    }
   ],
   "source": [
    "!mpirun -np 10 ./ejemplo"
   ]
  },
  {
   "cell_type": "code",
   "execution_count": null,
   "metadata": {
    "collapsed": true
   },
   "outputs": [],
   "source": []
  },
  {
   "cell_type": "code",
   "execution_count": null,
   "metadata": {
    "collapsed": true
   },
   "outputs": [],
   "source": []
  }
 ],
 "metadata": {
  "kernelspec": {
   "display_name": "Python 2",
   "language": "python",
   "name": "python2"
  },
  "language_info": {
   "codemirror_mode": {
    "name": "ipython",
    "version": 2
   },
   "file_extension": ".py",
   "mimetype": "text/x-python",
   "name": "python",
   "nbconvert_exporter": "python",
   "pygments_lexer": "ipython2",
   "version": "2.7.12"
  }
 },
 "nbformat": 4,
 "nbformat_minor": 1
}
